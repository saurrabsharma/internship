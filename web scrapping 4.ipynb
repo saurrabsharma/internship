{
 "cells": [
  {
   "cell_type": "code",
   "execution_count": 3,
   "id": "1754a37b",
   "metadata": {},
   "outputs": [
    {
     "name": "stdout",
     "output_type": "stream",
     "text": [
      "Requirement already satisfied: selenium in c:\\users\\91969\\anaconda\\lib\\site-packages (4.8.3)\n",
      "Requirement already satisfied: certifi>=2021.10.8 in c:\\users\\91969\\anaconda\\lib\\site-packages (from selenium) (2022.9.14)\n",
      "Requirement already satisfied: urllib3[socks]~=1.26 in c:\\users\\91969\\anaconda\\lib\\site-packages (from selenium) (1.26.11)\n",
      "Requirement already satisfied: trio~=0.17 in c:\\users\\91969\\anaconda\\lib\\site-packages (from selenium) (0.22.0)\n",
      "Requirement already satisfied: trio-websocket~=0.9 in c:\\users\\91969\\anaconda\\lib\\site-packages (from selenium) (0.10.2)\n",
      "Requirement already satisfied: attrs>=19.2.0 in c:\\users\\91969\\anaconda\\lib\\site-packages (from trio~=0.17->selenium) (21.4.0)\n",
      "Requirement already satisfied: outcome in c:\\users\\91969\\anaconda\\lib\\site-packages (from trio~=0.17->selenium) (1.2.0)\n",
      "Requirement already satisfied: sniffio in c:\\users\\91969\\anaconda\\lib\\site-packages (from trio~=0.17->selenium) (1.2.0)\n",
      "Requirement already satisfied: sortedcontainers in c:\\users\\91969\\anaconda\\lib\\site-packages (from trio~=0.17->selenium) (2.4.0)\n",
      "Requirement already satisfied: async-generator>=1.9 in c:\\users\\91969\\anaconda\\lib\\site-packages (from trio~=0.17->selenium) (1.10)\n",
      "Requirement already satisfied: exceptiongroup>=1.0.0rc9 in c:\\users\\91969\\anaconda\\lib\\site-packages (from trio~=0.17->selenium) (1.1.1)\n",
      "Requirement already satisfied: idna in c:\\users\\91969\\anaconda\\lib\\site-packages (from trio~=0.17->selenium) (3.3)\n",
      "Requirement already satisfied: cffi>=1.14 in c:\\users\\91969\\anaconda\\lib\\site-packages (from trio~=0.17->selenium) (1.15.1)\n",
      "Requirement already satisfied: wsproto>=0.14 in c:\\users\\91969\\anaconda\\lib\\site-packages (from trio-websocket~=0.9->selenium) (1.2.0)\n",
      "Requirement already satisfied: PySocks!=1.5.7,<2.0,>=1.5.6 in c:\\users\\91969\\anaconda\\lib\\site-packages (from urllib3[socks]~=1.26->selenium) (1.7.1)\n",
      "Requirement already satisfied: pycparser in c:\\users\\91969\\anaconda\\lib\\site-packages (from cffi>=1.14->trio~=0.17->selenium) (2.21)\n",
      "Requirement already satisfied: h11<1,>=0.9.0 in c:\\users\\91969\\anaconda\\lib\\site-packages (from wsproto>=0.14->trio-websocket~=0.9->selenium) (0.14.0)\n"
     ]
    }
   ],
   "source": [
    "!pip install selenium"
   ]
  },
  {
   "cell_type": "code",
   "execution_count": 4,
   "id": "ead4568d",
   "metadata": {},
   "outputs": [],
   "source": [
    "import selenium\n",
    "import pandas as pd\n",
    "from selenium import webdriver\n",
    "import warnings\n",
    "warnings.filterwarnings('ignore')\n",
    "from selenium.webdriver.common.by import By\n",
    "from selenium.common.exceptions import NoSuchElementException\n",
    "\n"
   ]
  },
  {
   "cell_type": "markdown",
   "id": "c2cc973e",
   "metadata": {},
   "source": [
    "# Question no 1"
   ]
  },
  {
   "cell_type": "code",
   "execution_count": 3,
   "id": "ca2f2a33",
   "metadata": {},
   "outputs": [],
   "source": [
    "#connect to the driver\n",
    "driver=webdriver.Chrome(r\"C:\\Users\\91969\\Downloads\\chromedriver_win32\\chromedriver.exe\")"
   ]
  },
  {
   "cell_type": "code",
   "execution_count": 4,
   "id": "efeb6964",
   "metadata": {},
   "outputs": [],
   "source": [
    "#opening the site\n",
    "driver.get(\" https://en.wikipedia.org/wiki/List_of_most-viewed_YouTube_videos\")"
   ]
  },
  {
   "cell_type": "code",
   "execution_count": 5,
   "id": "4cade6b2",
   "metadata": {},
   "outputs": [],
   "source": [
    "Rank=[]\n",
    "rank=driver.find_elements(By.XPATH,'//td[1][@align=\"center\"]')\n",
    "for i in rank:\n",
    "    Rank.append(i.text)"
   ]
  },
  {
   "cell_type": "code",
   "execution_count": 6,
   "id": "a0405f26",
   "metadata": {},
   "outputs": [
    {
     "data": {
      "text/plain": [
       "30"
      ]
     },
     "execution_count": 6,
     "metadata": {},
     "output_type": "execute_result"
    }
   ],
   "source": [
    "len(Rank)"
   ]
  },
  {
   "cell_type": "code",
   "execution_count": 7,
   "id": "2a3b46eb",
   "metadata": {},
   "outputs": [],
   "source": [
    "Date=[]\n",
    "date=driver.find_elements(By.XPATH,'//td[@align=\"right\"]')\n",
    "for i in date[0:30]:\n",
    "    Date.append(i.text)"
   ]
  },
  {
   "cell_type": "code",
   "execution_count": 8,
   "id": "fb5fb3b5",
   "metadata": {},
   "outputs": [
    {
     "data": {
      "text/plain": [
       "30"
      ]
     },
     "execution_count": 8,
     "metadata": {},
     "output_type": "execute_result"
    }
   ],
   "source": [
    "len(Date)"
   ]
  },
  {
   "cell_type": "code",
   "execution_count": 9,
   "id": "0cc9cf2e",
   "metadata": {},
   "outputs": [],
   "source": [
    "Views=[]\n",
    "views=driver.find_elements(By.XPATH,'//td[4][@align=\"center\"]')\n",
    "for i in views:\n",
    "    Views.append(i.text)"
   ]
  },
  {
   "cell_type": "code",
   "execution_count": 10,
   "id": "eb2be31f",
   "metadata": {},
   "outputs": [
    {
     "data": {
      "text/plain": [
       "30"
      ]
     },
     "execution_count": 10,
     "metadata": {},
     "output_type": "execute_result"
    }
   ],
   "source": [
    "len(Views)"
   ]
  },
  {
   "cell_type": "code",
   "execution_count": 14,
   "id": "a151e2b4",
   "metadata": {},
   "outputs": [],
   "source": [
    "Namee=[]\n",
    "namee=driver.find_elements(By.XPATH,'//table[@class=\"wikitable sortable jquery-tablesorter\"][1]/tbody/tr/td[2]')\n",
    "for i in namee:\n",
    "    Namee.append(i.text.split('[')[0])"
   ]
  },
  {
   "cell_type": "code",
   "execution_count": 17,
   "id": "12f8cc29",
   "metadata": {},
   "outputs": [
    {
     "data": {
      "text/plain": [
       "30"
      ]
     },
     "execution_count": 17,
     "metadata": {},
     "output_type": "execute_result"
    }
   ],
   "source": [
    "len(Namee)"
   ]
  },
  {
   "cell_type": "code",
   "execution_count": 18,
   "id": "4c45a805",
   "metadata": {},
   "outputs": [],
   "source": [
    "Artist=[]\n",
    "artist=driver.find_elements(By.XPATH,'//table[@class=\"wikitable sortable jquery-tablesorter\"][1]/tbody/tr/td[3]')\n",
    "for i in artist:\n",
    "    Artist.append(i.text)"
   ]
  },
  {
   "cell_type": "code",
   "execution_count": 20,
   "id": "720502f5",
   "metadata": {},
   "outputs": [
    {
     "data": {
      "text/plain": [
       "30"
      ]
     },
     "execution_count": 20,
     "metadata": {},
     "output_type": "execute_result"
    }
   ],
   "source": [
    "len(Artist)"
   ]
  },
  {
   "cell_type": "code",
   "execution_count": 22,
   "id": "772a459e",
   "metadata": {},
   "outputs": [
    {
     "data": {
      "text/html": [
       "<div>\n",
       "<style scoped>\n",
       "    .dataframe tbody tr th:only-of-type {\n",
       "        vertical-align: middle;\n",
       "    }\n",
       "\n",
       "    .dataframe tbody tr th {\n",
       "        vertical-align: top;\n",
       "    }\n",
       "\n",
       "    .dataframe thead th {\n",
       "        text-align: right;\n",
       "    }\n",
       "</style>\n",
       "<table border=\"1\" class=\"dataframe\">\n",
       "  <thead>\n",
       "    <tr style=\"text-align: right;\">\n",
       "      <th></th>\n",
       "      <th>Rank</th>\n",
       "      <th>Name</th>\n",
       "      <th>Artist</th>\n",
       "      <th>Upload Date</th>\n",
       "      <th>Views</th>\n",
       "    </tr>\n",
       "  </thead>\n",
       "  <tbody>\n",
       "    <tr>\n",
       "      <th>0</th>\n",
       "      <td>1.</td>\n",
       "      <td>\"Baby Shark Dance\"</td>\n",
       "      <td>Pinkfong Baby Shark - Kids' Songs &amp; Stories</td>\n",
       "      <td>June 17, 2016</td>\n",
       "      <td>12.73</td>\n",
       "    </tr>\n",
       "    <tr>\n",
       "      <th>1</th>\n",
       "      <td>2.</td>\n",
       "      <td>\"Despacito\"</td>\n",
       "      <td>Luis Fonsi</td>\n",
       "      <td>January 12, 2017</td>\n",
       "      <td>8.14</td>\n",
       "    </tr>\n",
       "    <tr>\n",
       "      <th>2</th>\n",
       "      <td>3.</td>\n",
       "      <td>\"Johny Johny Yes Papa\"</td>\n",
       "      <td>LooLoo Kids</td>\n",
       "      <td>October 8, 2016</td>\n",
       "      <td>6.69</td>\n",
       "    </tr>\n",
       "    <tr>\n",
       "      <th>3</th>\n",
       "      <td>4.</td>\n",
       "      <td>\"Bath Song\"</td>\n",
       "      <td>Cocomelon – Nursery Rhymes</td>\n",
       "      <td>May 2, 2018</td>\n",
       "      <td>6.15</td>\n",
       "    </tr>\n",
       "    <tr>\n",
       "      <th>4</th>\n",
       "      <td>5.</td>\n",
       "      <td>\"Shape of You\"</td>\n",
       "      <td>Ed Sheeran</td>\n",
       "      <td>January 30, 2017</td>\n",
       "      <td>5.97</td>\n",
       "    </tr>\n",
       "    <tr>\n",
       "      <th>5</th>\n",
       "      <td>6.</td>\n",
       "      <td>\"See You Again\"</td>\n",
       "      <td>Wiz Khalifa</td>\n",
       "      <td>April 6, 2015</td>\n",
       "      <td>5.86</td>\n",
       "    </tr>\n",
       "    <tr>\n",
       "      <th>6</th>\n",
       "      <td>7.</td>\n",
       "      <td>\"Phonics Song with Two Words\"</td>\n",
       "      <td>ChuChu TV</td>\n",
       "      <td>March 6, 2014</td>\n",
       "      <td>5.26</td>\n",
       "    </tr>\n",
       "    <tr>\n",
       "      <th>7</th>\n",
       "      <td>8.</td>\n",
       "      <td>\"Wheels on the Bus\"</td>\n",
       "      <td>Cocomelon – Nursery Rhymes</td>\n",
       "      <td>May 24, 2018</td>\n",
       "      <td>5.14</td>\n",
       "    </tr>\n",
       "    <tr>\n",
       "      <th>8</th>\n",
       "      <td>9.</td>\n",
       "      <td>\"Uptown Funk\"</td>\n",
       "      <td>Mark Ronson</td>\n",
       "      <td>November 19, 2014</td>\n",
       "      <td>4.89</td>\n",
       "    </tr>\n",
       "    <tr>\n",
       "      <th>9</th>\n",
       "      <td>10.</td>\n",
       "      <td>\"Learning Colors – Colorful Eggs on a Farm\"</td>\n",
       "      <td>Miroshka TV</td>\n",
       "      <td>February 27, 2018</td>\n",
       "      <td>4.87</td>\n",
       "    </tr>\n",
       "    <tr>\n",
       "      <th>10</th>\n",
       "      <td>11.</td>\n",
       "      <td>\"Gangnam Style\"</td>\n",
       "      <td>Psy</td>\n",
       "      <td>July 15, 2012</td>\n",
       "      <td>4.77</td>\n",
       "    </tr>\n",
       "    <tr>\n",
       "      <th>11</th>\n",
       "      <td>12.</td>\n",
       "      <td>\"Masha and the Bear – Recipe for Disaster\"</td>\n",
       "      <td>Get Movies</td>\n",
       "      <td>January 31, 2012</td>\n",
       "      <td>4.55</td>\n",
       "    </tr>\n",
       "    <tr>\n",
       "      <th>12</th>\n",
       "      <td>13.</td>\n",
       "      <td>\"Dame Tu Cosita\"</td>\n",
       "      <td>El Chombo</td>\n",
       "      <td>April 5, 2018</td>\n",
       "      <td>4.32</td>\n",
       "    </tr>\n",
       "    <tr>\n",
       "      <th>13</th>\n",
       "      <td>14.</td>\n",
       "      <td>\"Axel F\"</td>\n",
       "      <td>Crazy Frog</td>\n",
       "      <td>June 16, 2009</td>\n",
       "      <td>3.87</td>\n",
       "    </tr>\n",
       "    <tr>\n",
       "      <th>14</th>\n",
       "      <td>15.</td>\n",
       "      <td>\"Sugar\"</td>\n",
       "      <td>Maroon 5</td>\n",
       "      <td>January 14, 2015</td>\n",
       "      <td>3.86</td>\n",
       "    </tr>\n",
       "    <tr>\n",
       "      <th>15</th>\n",
       "      <td>16.</td>\n",
       "      <td>\"Roar\"</td>\n",
       "      <td>Katy Perry</td>\n",
       "      <td>September 5, 2013</td>\n",
       "      <td>3.78</td>\n",
       "    </tr>\n",
       "    <tr>\n",
       "      <th>16</th>\n",
       "      <td>17.</td>\n",
       "      <td>\"Counting Stars\"</td>\n",
       "      <td>OneRepublic</td>\n",
       "      <td>May 31, 2013</td>\n",
       "      <td>3.77</td>\n",
       "    </tr>\n",
       "    <tr>\n",
       "      <th>17</th>\n",
       "      <td>18.</td>\n",
       "      <td>\"Sorry\"</td>\n",
       "      <td>Justin Bieber</td>\n",
       "      <td>October 22, 2015</td>\n",
       "      <td>3.65</td>\n",
       "    </tr>\n",
       "    <tr>\n",
       "      <th>18</th>\n",
       "      <td>19.</td>\n",
       "      <td>\"Baa Baa Black Sheep\"</td>\n",
       "      <td>Cocomelon – Nursery Rhymes</td>\n",
       "      <td>June 25, 2018</td>\n",
       "      <td>3.61</td>\n",
       "    </tr>\n",
       "    <tr>\n",
       "      <th>19</th>\n",
       "      <td>20.</td>\n",
       "      <td>\"Thinking Out Loud\"</td>\n",
       "      <td>Ed Sheeran</td>\n",
       "      <td>October 7, 2014</td>\n",
       "      <td>3.58</td>\n",
       "    </tr>\n",
       "    <tr>\n",
       "      <th>20</th>\n",
       "      <td>21.</td>\n",
       "      <td>\"Waka Waka (This Time for Africa)\"</td>\n",
       "      <td>Shakira</td>\n",
       "      <td>June 4, 2010</td>\n",
       "      <td>3.56</td>\n",
       "    </tr>\n",
       "    <tr>\n",
       "      <th>21</th>\n",
       "      <td>22.</td>\n",
       "      <td>\"Dark Horse\"</td>\n",
       "      <td>Katy Perry</td>\n",
       "      <td>February 20, 2014</td>\n",
       "      <td>3.50</td>\n",
       "    </tr>\n",
       "    <tr>\n",
       "      <th>22</th>\n",
       "      <td>23.</td>\n",
       "      <td>\"Faded\"</td>\n",
       "      <td>Alan Walker</td>\n",
       "      <td>December 3, 2015</td>\n",
       "      <td>3.44</td>\n",
       "    </tr>\n",
       "    <tr>\n",
       "      <th>23</th>\n",
       "      <td>24.</td>\n",
       "      <td>\"Perfect\"</td>\n",
       "      <td>Ed Sheeran</td>\n",
       "      <td>November 9, 2017</td>\n",
       "      <td>3.42</td>\n",
       "    </tr>\n",
       "    <tr>\n",
       "      <th>24</th>\n",
       "      <td>25.</td>\n",
       "      <td>\"Lakdi Ki Kathi\"</td>\n",
       "      <td>Jingle Toons</td>\n",
       "      <td>June 14, 2018</td>\n",
       "      <td>3.42</td>\n",
       "    </tr>\n",
       "    <tr>\n",
       "      <th>25</th>\n",
       "      <td>26.</td>\n",
       "      <td>\"Let Her Go\"</td>\n",
       "      <td>Passenger</td>\n",
       "      <td>July 25, 2012</td>\n",
       "      <td>3.42</td>\n",
       "    </tr>\n",
       "    <tr>\n",
       "      <th>26</th>\n",
       "      <td>27.</td>\n",
       "      <td>\"Girls Like You\"</td>\n",
       "      <td>Maroon 5</td>\n",
       "      <td>May 31, 2018</td>\n",
       "      <td>3.40</td>\n",
       "    </tr>\n",
       "    <tr>\n",
       "      <th>27</th>\n",
       "      <td>28.</td>\n",
       "      <td>\"Humpty the train on a fruits ride\"</td>\n",
       "      <td>Kiddiestv Hindi – Nursery Rhymes &amp; Kids Songs</td>\n",
       "      <td>January 26, 2018</td>\n",
       "      <td>3.38</td>\n",
       "    </tr>\n",
       "    <tr>\n",
       "      <th>28</th>\n",
       "      <td>29.</td>\n",
       "      <td>\"Lean On\"</td>\n",
       "      <td>Major Lazer</td>\n",
       "      <td>March 22, 2015</td>\n",
       "      <td>3.37</td>\n",
       "    </tr>\n",
       "    <tr>\n",
       "      <th>29</th>\n",
       "      <td>30.</td>\n",
       "      <td>\"Bailando\"</td>\n",
       "      <td>Enrique Iglesias</td>\n",
       "      <td>April 11, 2014</td>\n",
       "      <td>3.37</td>\n",
       "    </tr>\n",
       "  </tbody>\n",
       "</table>\n",
       "</div>"
      ],
      "text/plain": [
       "   Rank                                         Name  \\\n",
       "0    1.                           \"Baby Shark Dance\"   \n",
       "1    2.                                  \"Despacito\"   \n",
       "2    3.                       \"Johny Johny Yes Papa\"   \n",
       "3    4.                                  \"Bath Song\"   \n",
       "4    5.                               \"Shape of You\"   \n",
       "5    6.                              \"See You Again\"   \n",
       "6    7.                \"Phonics Song with Two Words\"   \n",
       "7    8.                          \"Wheels on the Bus\"   \n",
       "8    9.                                \"Uptown Funk\"   \n",
       "9   10.  \"Learning Colors – Colorful Eggs on a Farm\"   \n",
       "10  11.                              \"Gangnam Style\"   \n",
       "11  12.   \"Masha and the Bear – Recipe for Disaster\"   \n",
       "12  13.                             \"Dame Tu Cosita\"   \n",
       "13  14.                                     \"Axel F\"   \n",
       "14  15.                                      \"Sugar\"   \n",
       "15  16.                                       \"Roar\"   \n",
       "16  17.                             \"Counting Stars\"   \n",
       "17  18.                                      \"Sorry\"   \n",
       "18  19.                        \"Baa Baa Black Sheep\"   \n",
       "19  20.                          \"Thinking Out Loud\"   \n",
       "20  21.           \"Waka Waka (This Time for Africa)\"   \n",
       "21  22.                                 \"Dark Horse\"   \n",
       "22  23.                                      \"Faded\"   \n",
       "23  24.                                    \"Perfect\"   \n",
       "24  25.                             \"Lakdi Ki Kathi\"   \n",
       "25  26.                                 \"Let Her Go\"   \n",
       "26  27.                             \"Girls Like You\"   \n",
       "27  28.          \"Humpty the train on a fruits ride\"   \n",
       "28  29.                                    \"Lean On\"   \n",
       "29  30.                                   \"Bailando\"   \n",
       "\n",
       "                                           Artist        Upload Date  Views  \n",
       "0     Pinkfong Baby Shark - Kids' Songs & Stories      June 17, 2016  12.73  \n",
       "1                                      Luis Fonsi   January 12, 2017   8.14  \n",
       "2                                     LooLoo Kids    October 8, 2016   6.69  \n",
       "3                      Cocomelon – Nursery Rhymes        May 2, 2018   6.15  \n",
       "4                                      Ed Sheeran   January 30, 2017   5.97  \n",
       "5                                     Wiz Khalifa      April 6, 2015   5.86  \n",
       "6                                       ChuChu TV      March 6, 2014   5.26  \n",
       "7                      Cocomelon – Nursery Rhymes       May 24, 2018   5.14  \n",
       "8                                     Mark Ronson  November 19, 2014   4.89  \n",
       "9                                     Miroshka TV  February 27, 2018   4.87  \n",
       "10                                            Psy      July 15, 2012   4.77  \n",
       "11                                     Get Movies   January 31, 2012   4.55  \n",
       "12                                      El Chombo      April 5, 2018   4.32  \n",
       "13                                     Crazy Frog      June 16, 2009   3.87  \n",
       "14                                       Maroon 5   January 14, 2015   3.86  \n",
       "15                                     Katy Perry  September 5, 2013   3.78  \n",
       "16                                    OneRepublic       May 31, 2013   3.77  \n",
       "17                                  Justin Bieber   October 22, 2015   3.65  \n",
       "18                     Cocomelon – Nursery Rhymes      June 25, 2018   3.61  \n",
       "19                                     Ed Sheeran    October 7, 2014   3.58  \n",
       "20                                        Shakira       June 4, 2010   3.56  \n",
       "21                                     Katy Perry  February 20, 2014   3.50  \n",
       "22                                    Alan Walker   December 3, 2015   3.44  \n",
       "23                                     Ed Sheeran   November 9, 2017   3.42  \n",
       "24                                   Jingle Toons      June 14, 2018   3.42  \n",
       "25                                      Passenger      July 25, 2012   3.42  \n",
       "26                                       Maroon 5       May 31, 2018   3.40  \n",
       "27  Kiddiestv Hindi – Nursery Rhymes & Kids Songs   January 26, 2018   3.38  \n",
       "28                                    Major Lazer     March 22, 2015   3.37  \n",
       "29                               Enrique Iglesias     April 11, 2014   3.37  "
      ]
     },
     "execution_count": 22,
     "metadata": {},
     "output_type": "execute_result"
    }
   ],
   "source": [
    "DF=pd.DataFrame({\"Rank\":Rank,\"Name\":Namee,\"Artist\":Artist,\"Upload Date\":Date,\"Views\":Views})\n",
    "DF"
   ]
  },
  {
   "cell_type": "markdown",
   "id": "f7bcd354",
   "metadata": {},
   "source": [
    "# Question no 3"
   ]
  },
  {
   "cell_type": "code",
   "execution_count": 14,
   "id": "4e10d31d",
   "metadata": {},
   "outputs": [],
   "source": [
    "#connect to the driver\n",
    "driver=webdriver.Chrome(r\"C:\\Users\\91969\\Downloads\\chromedriver_win32\\chromedriver.exe\")"
   ]
  },
  {
   "cell_type": "code",
   "execution_count": 15,
   "id": "6cadd66d",
   "metadata": {},
   "outputs": [],
   "source": [
    "#opening the site\n",
    "driver.get(\" https://statisticstimes.com/\")"
   ]
  },
  {
   "cell_type": "code",
   "execution_count": 18,
   "id": "019483c1",
   "metadata": {},
   "outputs": [],
   "source": [
    "Click=driver.find_element(By.XPATH,'/html/body/div[2]/div[1]/div[2]/div[2]/button')\n",
    "Click.click()"
   ]
  },
  {
   "cell_type": "code",
   "execution_count": 21,
   "id": "9e4dfa2d",
   "metadata": {},
   "outputs": [],
   "source": [
    "search=driver.find_element(By.XPATH,'/html/body/div[2]/div[2]/div[2]/ul/li[1]/a')\n",
    "search.click()"
   ]
  },
  {
   "cell_type": "code",
   "execution_count": 22,
   "id": "a2c01431",
   "metadata": {},
   "outputs": [],
   "source": [
    "Rank=[]\n",
    "rank=driver.find_elements(By.XPATH,'//td[1][@class=\"data1\"]')\n",
    "for i in rank[0:33]:\n",
    "    Rank.append(i.text)"
   ]
  },
  {
   "cell_type": "code",
   "execution_count": 24,
   "id": "e6c40077",
   "metadata": {},
   "outputs": [
    {
     "data": {
      "text/plain": [
       "33"
      ]
     },
     "execution_count": 24,
     "metadata": {},
     "output_type": "execute_result"
    }
   ],
   "source": [
    "len(Rank)"
   ]
  },
  {
   "cell_type": "code",
   "execution_count": 44,
   "id": "59b5aac7",
   "metadata": {},
   "outputs": [],
   "source": [
    "Nameee=[]\n",
    "nameee=driver.find_elements(By.XPATH,'//td[@class=\"name\"]')\n",
    "for i in nameee[0:33]:\n",
    "    Nameee.append(i.text)\n",
    "    "
   ]
  },
  {
   "cell_type": "code",
   "execution_count": 45,
   "id": "419b2552",
   "metadata": {},
   "outputs": [
    {
     "data": {
      "text/plain": [
       "33"
      ]
     },
     "execution_count": 45,
     "metadata": {},
     "output_type": "execute_result"
    }
   ],
   "source": [
    "len(Nameee)"
   ]
  },
  {
   "cell_type": "code",
   "execution_count": 48,
   "id": "00eb43a8",
   "metadata": {},
   "outputs": [],
   "source": [
    "Grosss=[]\n",
    "grosss=driver.find_elements(By.XPATH,'//td[@class=\"data sorting_1\"]')\n",
    "for i in grosss[0:33]:\n",
    "    Grosss.append(i.text.replace('-','NaN'))\n",
    "    "
   ]
  },
  {
   "cell_type": "code",
   "execution_count": 33,
   "id": "83b9010c",
   "metadata": {},
   "outputs": [],
   "source": [
    "Neww=[]\n",
    "new=driver.find_elements(By.XPATH,'//td[3][@class=\"data\"]')\n",
    "for i in new[0:33]:\n",
    "    Neww.append(i.text.replace('-','NaN'))\n",
    "    "
   ]
  },
  {
   "cell_type": "code",
   "execution_count": 51,
   "id": "3b8b00ea",
   "metadata": {},
   "outputs": [],
   "source": [
    "Shareee=[]\n",
    "shareee=driver.find_elements(By.XPATH,'//td[5][@class=\"data\"]')\n",
    "for i in shareee[0:33]:\n",
    "    Shareee.append(i.text.replace('-','NaN'))\n",
    "    "
   ]
  },
  {
   "cell_type": "code",
   "execution_count": 50,
   "id": "d1012f2b",
   "metadata": {},
   "outputs": [],
   "source": [
    "Totall=[]\n",
    "totall=driver.find_elements(By.XPATH,'//td[6][@class=\"data\"]')\n",
    "for i in totall[0:33]:\n",
    "    Totall.append(i.text.replace('-','NaN'))\n",
    "    "
   ]
  },
  {
   "cell_type": "code",
   "execution_count": 52,
   "id": "ab0c461a",
   "metadata": {},
   "outputs": [
    {
     "data": {
      "text/html": [
       "<div>\n",
       "<style scoped>\n",
       "    .dataframe tbody tr th:only-of-type {\n",
       "        vertical-align: middle;\n",
       "    }\n",
       "\n",
       "    .dataframe tbody tr th {\n",
       "        vertical-align: top;\n",
       "    }\n",
       "\n",
       "    .dataframe thead th {\n",
       "        text-align: right;\n",
       "    }\n",
       "</style>\n",
       "<table border=\"1\" class=\"dataframe\">\n",
       "  <thead>\n",
       "    <tr style=\"text-align: right;\">\n",
       "      <th></th>\n",
       "      <th>Rank</th>\n",
       "      <th>State</th>\n",
       "      <th>GSDP(18-19)-at current prices</th>\n",
       "      <th>GSDP(19-20)-at current prices</th>\n",
       "      <th>Share(18-19)</th>\n",
       "      <th>GDP($billion)</th>\n",
       "    </tr>\n",
       "  </thead>\n",
       "  <tbody>\n",
       "    <tr>\n",
       "      <th>0</th>\n",
       "      <td>1</td>\n",
       "      <td>Maharashtra</td>\n",
       "      <td>2,632,792</td>\n",
       "      <td>NaN</td>\n",
       "      <td>13.94%</td>\n",
       "      <td>399.921</td>\n",
       "    </tr>\n",
       "    <tr>\n",
       "      <th>1</th>\n",
       "      <td>2</td>\n",
       "      <td>Tamil Nadu</td>\n",
       "      <td>1,630,208</td>\n",
       "      <td>1,845,853</td>\n",
       "      <td>8.63%</td>\n",
       "      <td>247.629</td>\n",
       "    </tr>\n",
       "    <tr>\n",
       "      <th>2</th>\n",
       "      <td>3</td>\n",
       "      <td>Uttar Pradesh</td>\n",
       "      <td>1,584,764</td>\n",
       "      <td>1,687,818</td>\n",
       "      <td>8.39%</td>\n",
       "      <td>240.726</td>\n",
       "    </tr>\n",
       "    <tr>\n",
       "      <th>3</th>\n",
       "      <td>4</td>\n",
       "      <td>Gujarat</td>\n",
       "      <td>1,502,899</td>\n",
       "      <td>NaN</td>\n",
       "      <td>7.96%</td>\n",
       "      <td>228.290</td>\n",
       "    </tr>\n",
       "    <tr>\n",
       "      <th>4</th>\n",
       "      <td>5</td>\n",
       "      <td>Karnataka</td>\n",
       "      <td>1,493,127</td>\n",
       "      <td>1,631,977</td>\n",
       "      <td>7.91%</td>\n",
       "      <td>226.806</td>\n",
       "    </tr>\n",
       "    <tr>\n",
       "      <th>5</th>\n",
       "      <td>6</td>\n",
       "      <td>West Bengal</td>\n",
       "      <td>1,089,898</td>\n",
       "      <td>1,253,832</td>\n",
       "      <td>5.77%</td>\n",
       "      <td>165.556</td>\n",
       "    </tr>\n",
       "    <tr>\n",
       "      <th>6</th>\n",
       "      <td>7</td>\n",
       "      <td>Rajasthan</td>\n",
       "      <td>942,586</td>\n",
       "      <td>1,020,989</td>\n",
       "      <td>4.99%</td>\n",
       "      <td>143.179</td>\n",
       "    </tr>\n",
       "    <tr>\n",
       "      <th>7</th>\n",
       "      <td>8</td>\n",
       "      <td>Andhra Pradesh</td>\n",
       "      <td>862,957</td>\n",
       "      <td>972,782</td>\n",
       "      <td>4.57%</td>\n",
       "      <td>131.083</td>\n",
       "    </tr>\n",
       "    <tr>\n",
       "      <th>8</th>\n",
       "      <td>9</td>\n",
       "      <td>Telangana</td>\n",
       "      <td>861,031</td>\n",
       "      <td>969,604</td>\n",
       "      <td>4.56%</td>\n",
       "      <td>130.791</td>\n",
       "    </tr>\n",
       "    <tr>\n",
       "      <th>9</th>\n",
       "      <td>10</td>\n",
       "      <td>Madhya Pradesh</td>\n",
       "      <td>809,592</td>\n",
       "      <td>906,672</td>\n",
       "      <td>4.29%</td>\n",
       "      <td>122.977</td>\n",
       "    </tr>\n",
       "    <tr>\n",
       "      <th>10</th>\n",
       "      <td>11</td>\n",
       "      <td>Kerala</td>\n",
       "      <td>781,653</td>\n",
       "      <td>NaN</td>\n",
       "      <td>4.14%</td>\n",
       "      <td>118.733</td>\n",
       "    </tr>\n",
       "    <tr>\n",
       "      <th>11</th>\n",
       "      <td>12</td>\n",
       "      <td>Delhi</td>\n",
       "      <td>774,870</td>\n",
       "      <td>856,112</td>\n",
       "      <td>4.10%</td>\n",
       "      <td>117.703</td>\n",
       "    </tr>\n",
       "    <tr>\n",
       "      <th>12</th>\n",
       "      <td>13</td>\n",
       "      <td>Haryana</td>\n",
       "      <td>734,163</td>\n",
       "      <td>831,610</td>\n",
       "      <td>3.89%</td>\n",
       "      <td>111.519</td>\n",
       "    </tr>\n",
       "    <tr>\n",
       "      <th>13</th>\n",
       "      <td>14</td>\n",
       "      <td>Bihar</td>\n",
       "      <td>530,363</td>\n",
       "      <td>611,804</td>\n",
       "      <td>2.81%</td>\n",
       "      <td>80.562</td>\n",
       "    </tr>\n",
       "    <tr>\n",
       "      <th>14</th>\n",
       "      <td>15</td>\n",
       "      <td>Punjab</td>\n",
       "      <td>526,376</td>\n",
       "      <td>574,760</td>\n",
       "      <td>2.79%</td>\n",
       "      <td>79.957</td>\n",
       "    </tr>\n",
       "    <tr>\n",
       "      <th>15</th>\n",
       "      <td>16</td>\n",
       "      <td>Odisha</td>\n",
       "      <td>487,805</td>\n",
       "      <td>521,275</td>\n",
       "      <td>2.58%</td>\n",
       "      <td>74.098</td>\n",
       "    </tr>\n",
       "    <tr>\n",
       "      <th>16</th>\n",
       "      <td>17</td>\n",
       "      <td>Assam</td>\n",
       "      <td>315,881</td>\n",
       "      <td>NaN</td>\n",
       "      <td>1.67%</td>\n",
       "      <td>47.982</td>\n",
       "    </tr>\n",
       "    <tr>\n",
       "      <th>17</th>\n",
       "      <td>18</td>\n",
       "      <td>Chhattisgarh</td>\n",
       "      <td>304,063</td>\n",
       "      <td>329,180</td>\n",
       "      <td>1.61%</td>\n",
       "      <td>46.187</td>\n",
       "    </tr>\n",
       "    <tr>\n",
       "      <th>18</th>\n",
       "      <td>19</td>\n",
       "      <td>Jharkhand</td>\n",
       "      <td>297,204</td>\n",
       "      <td>328,598</td>\n",
       "      <td>1.57%</td>\n",
       "      <td>45.145</td>\n",
       "    </tr>\n",
       "    <tr>\n",
       "      <th>19</th>\n",
       "      <td>20</td>\n",
       "      <td>Uttarakhand</td>\n",
       "      <td>245,895</td>\n",
       "      <td>NaN</td>\n",
       "      <td>1.30%</td>\n",
       "      <td>37.351</td>\n",
       "    </tr>\n",
       "    <tr>\n",
       "      <th>20</th>\n",
       "      <td>21</td>\n",
       "      <td>Jammu &amp; Kashmir</td>\n",
       "      <td>155,956</td>\n",
       "      <td>NaN</td>\n",
       "      <td>0.83%</td>\n",
       "      <td>23.690</td>\n",
       "    </tr>\n",
       "    <tr>\n",
       "      <th>21</th>\n",
       "      <td>22</td>\n",
       "      <td>Himachal Pradesh</td>\n",
       "      <td>153,845</td>\n",
       "      <td>165,472</td>\n",
       "      <td>0.81%</td>\n",
       "      <td>23.369</td>\n",
       "    </tr>\n",
       "    <tr>\n",
       "      <th>22</th>\n",
       "      <td>23</td>\n",
       "      <td>Goa</td>\n",
       "      <td>73,170</td>\n",
       "      <td>80,449</td>\n",
       "      <td>0.39%</td>\n",
       "      <td>11.115</td>\n",
       "    </tr>\n",
       "    <tr>\n",
       "      <th>23</th>\n",
       "      <td>24</td>\n",
       "      <td>Tripura</td>\n",
       "      <td>49,845</td>\n",
       "      <td>55,984</td>\n",
       "      <td>0.26%</td>\n",
       "      <td>7.571</td>\n",
       "    </tr>\n",
       "    <tr>\n",
       "      <th>24</th>\n",
       "      <td>25</td>\n",
       "      <td>Chandigarh</td>\n",
       "      <td>42,114</td>\n",
       "      <td>NaN</td>\n",
       "      <td>0.22%</td>\n",
       "      <td>6.397</td>\n",
       "    </tr>\n",
       "    <tr>\n",
       "      <th>25</th>\n",
       "      <td>26</td>\n",
       "      <td>Puducherry</td>\n",
       "      <td>34,433</td>\n",
       "      <td>38,253</td>\n",
       "      <td>0.18%</td>\n",
       "      <td>5.230</td>\n",
       "    </tr>\n",
       "    <tr>\n",
       "      <th>26</th>\n",
       "      <td>27</td>\n",
       "      <td>Meghalaya</td>\n",
       "      <td>33,481</td>\n",
       "      <td>36,572</td>\n",
       "      <td>0.18%</td>\n",
       "      <td>5.086</td>\n",
       "    </tr>\n",
       "    <tr>\n",
       "      <th>27</th>\n",
       "      <td>28</td>\n",
       "      <td>Sikkim</td>\n",
       "      <td>28,723</td>\n",
       "      <td>32,496</td>\n",
       "      <td>0.15%</td>\n",
       "      <td>4.363</td>\n",
       "    </tr>\n",
       "    <tr>\n",
       "      <th>28</th>\n",
       "      <td>29</td>\n",
       "      <td>Manipur</td>\n",
       "      <td>27,870</td>\n",
       "      <td>31,790</td>\n",
       "      <td>0.15%</td>\n",
       "      <td>4.233</td>\n",
       "    </tr>\n",
       "    <tr>\n",
       "      <th>29</th>\n",
       "      <td>30</td>\n",
       "      <td>Nagaland</td>\n",
       "      <td>27,283</td>\n",
       "      <td>NaN</td>\n",
       "      <td>0.14%</td>\n",
       "      <td>4.144</td>\n",
       "    </tr>\n",
       "    <tr>\n",
       "      <th>30</th>\n",
       "      <td>31</td>\n",
       "      <td>Arunachal Pradesh</td>\n",
       "      <td>24,603</td>\n",
       "      <td>NaN</td>\n",
       "      <td>0.13%</td>\n",
       "      <td>3.737</td>\n",
       "    </tr>\n",
       "    <tr>\n",
       "      <th>31</th>\n",
       "      <td>32</td>\n",
       "      <td>Mizoram</td>\n",
       "      <td>22,287</td>\n",
       "      <td>26,503</td>\n",
       "      <td>0.12%</td>\n",
       "      <td>3.385</td>\n",
       "    </tr>\n",
       "    <tr>\n",
       "      <th>32</th>\n",
       "      <td>33</td>\n",
       "      <td>Andaman &amp; Nicobar Islands</td>\n",
       "      <td>NaN</td>\n",
       "      <td>NaN</td>\n",
       "      <td>NaN</td>\n",
       "      <td>NaN</td>\n",
       "    </tr>\n",
       "  </tbody>\n",
       "</table>\n",
       "</div>"
      ],
      "text/plain": [
       "   Rank                      State GSDP(18-19)-at current prices  \\\n",
       "0     1                Maharashtra                     2,632,792   \n",
       "1     2                 Tamil Nadu                     1,630,208   \n",
       "2     3              Uttar Pradesh                     1,584,764   \n",
       "3     4                    Gujarat                     1,502,899   \n",
       "4     5                  Karnataka                     1,493,127   \n",
       "5     6                West Bengal                     1,089,898   \n",
       "6     7                  Rajasthan                       942,586   \n",
       "7     8             Andhra Pradesh                       862,957   \n",
       "8     9                  Telangana                       861,031   \n",
       "9    10             Madhya Pradesh                       809,592   \n",
       "10   11                     Kerala                       781,653   \n",
       "11   12                      Delhi                       774,870   \n",
       "12   13                    Haryana                       734,163   \n",
       "13   14                      Bihar                       530,363   \n",
       "14   15                     Punjab                       526,376   \n",
       "15   16                     Odisha                       487,805   \n",
       "16   17                      Assam                       315,881   \n",
       "17   18               Chhattisgarh                       304,063   \n",
       "18   19                  Jharkhand                       297,204   \n",
       "19   20                Uttarakhand                       245,895   \n",
       "20   21            Jammu & Kashmir                       155,956   \n",
       "21   22           Himachal Pradesh                       153,845   \n",
       "22   23                        Goa                        73,170   \n",
       "23   24                    Tripura                        49,845   \n",
       "24   25                 Chandigarh                        42,114   \n",
       "25   26                 Puducherry                        34,433   \n",
       "26   27                  Meghalaya                        33,481   \n",
       "27   28                     Sikkim                        28,723   \n",
       "28   29                    Manipur                        27,870   \n",
       "29   30                   Nagaland                        27,283   \n",
       "30   31          Arunachal Pradesh                        24,603   \n",
       "31   32                    Mizoram                        22,287   \n",
       "32   33  Andaman & Nicobar Islands                           NaN   \n",
       "\n",
       "   GSDP(19-20)-at current prices Share(18-19) GDP($billion)  \n",
       "0                            NaN       13.94%       399.921  \n",
       "1                      1,845,853        8.63%       247.629  \n",
       "2                      1,687,818        8.39%       240.726  \n",
       "3                            NaN        7.96%       228.290  \n",
       "4                      1,631,977        7.91%       226.806  \n",
       "5                      1,253,832        5.77%       165.556  \n",
       "6                      1,020,989        4.99%       143.179  \n",
       "7                        972,782        4.57%       131.083  \n",
       "8                        969,604        4.56%       130.791  \n",
       "9                        906,672        4.29%       122.977  \n",
       "10                           NaN        4.14%       118.733  \n",
       "11                       856,112        4.10%       117.703  \n",
       "12                       831,610        3.89%       111.519  \n",
       "13                       611,804        2.81%        80.562  \n",
       "14                       574,760        2.79%        79.957  \n",
       "15                       521,275        2.58%        74.098  \n",
       "16                           NaN        1.67%        47.982  \n",
       "17                       329,180        1.61%        46.187  \n",
       "18                       328,598        1.57%        45.145  \n",
       "19                           NaN        1.30%        37.351  \n",
       "20                           NaN        0.83%        23.690  \n",
       "21                       165,472        0.81%        23.369  \n",
       "22                        80,449        0.39%        11.115  \n",
       "23                        55,984        0.26%         7.571  \n",
       "24                           NaN        0.22%         6.397  \n",
       "25                        38,253        0.18%         5.230  \n",
       "26                        36,572        0.18%         5.086  \n",
       "27                        32,496        0.15%         4.363  \n",
       "28                        31,790        0.15%         4.233  \n",
       "29                           NaN        0.14%         4.144  \n",
       "30                           NaN        0.13%         3.737  \n",
       "31                        26,503        0.12%         3.385  \n",
       "32                           NaN          NaN           NaN  "
      ]
     },
     "execution_count": 52,
     "metadata": {},
     "output_type": "execute_result"
    }
   ],
   "source": [
    "DF=pd.DataFrame({\"Rank\":Rank,\"State\":Nameee,\"GSDP(18-19)-at current prices\":Grosss,\"GSDP(19-20)-at current prices\":Neww,\"Share(18-19)\":Shareee,\"GDP($billion)\":Totall})\n",
    "DF"
   ]
  },
  {
   "cell_type": "markdown",
   "id": "fbda233d",
   "metadata": {},
   "source": [
    "# Question no 6 "
   ]
  },
  {
   "cell_type": "code",
   "execution_count": 23,
   "id": "2f280cce",
   "metadata": {},
   "outputs": [],
   "source": [
    "#connect to the driver\n",
    "driver=webdriver.Chrome(r\"C:\\Users\\91969\\Downloads\\chromedriver_win32\\chromedriver.exe\")"
   ]
  },
  {
   "cell_type": "code",
   "execution_count": 24,
   "id": "e3310f86",
   "metadata": {},
   "outputs": [],
   "source": [
    "#opening the site\n",
    "driver.get(\"https://www.theguardian.com/news/datablog/2012/aug/09/best-selling-books-all-time-fifty-shades-grey-compare\")"
   ]
  },
  {
   "cell_type": "code",
   "execution_count": 25,
   "id": "65639844",
   "metadata": {},
   "outputs": [],
   "source": [
    "Totall=[]\n",
    "totall=driver.find_elements(By.XPATH,'//td[2][@class=\"left\"]')\n",
    "for i in totall:\n",
    "    Totall.append(i.text)\n",
    "    "
   ]
  },
  {
   "cell_type": "code",
   "execution_count": 27,
   "id": "b3844cff",
   "metadata": {},
   "outputs": [
    {
     "data": {
      "text/plain": [
       "100"
      ]
     },
     "execution_count": 27,
     "metadata": {},
     "output_type": "execute_result"
    }
   ],
   "source": [
    "len(Totall)"
   ]
  },
  {
   "cell_type": "code",
   "execution_count": 28,
   "id": "9fc02fd4",
   "metadata": {},
   "outputs": [],
   "source": [
    "Aut=[]\n",
    "aut=driver.find_elements(By.XPATH,'//td[3][@class=\"left\"]')\n",
    "for i in aut:\n",
    "    Aut.append(i.text)\n",
    "    "
   ]
  },
  {
   "cell_type": "code",
   "execution_count": 30,
   "id": "72460014",
   "metadata": {},
   "outputs": [
    {
     "data": {
      "text/plain": [
       "100"
      ]
     },
     "execution_count": 30,
     "metadata": {},
     "output_type": "execute_result"
    }
   ],
   "source": [
    "len(Aut)"
   ]
  },
  {
   "cell_type": "code",
   "execution_count": 31,
   "id": "a365cbcd",
   "metadata": {},
   "outputs": [],
   "source": [
    "Vol=[]\n",
    "vol=driver.find_elements(By.XPATH,'//td[4][@class=\"left\"]')\n",
    "for i in vol:\n",
    "    Vol.append(i.text)\n",
    "    "
   ]
  },
  {
   "cell_type": "code",
   "execution_count": 33,
   "id": "e359e47d",
   "metadata": {},
   "outputs": [
    {
     "data": {
      "text/plain": [
       "100"
      ]
     },
     "execution_count": 33,
     "metadata": {},
     "output_type": "execute_result"
    }
   ],
   "source": [
    "len(Vol)"
   ]
  },
  {
   "cell_type": "code",
   "execution_count": 34,
   "id": "41e0119e",
   "metadata": {},
   "outputs": [],
   "source": [
    "Pub=[]\n",
    "pub=driver.find_elements(By.XPATH,'//td[5][@class=\"left\"]')\n",
    "for i in pub:\n",
    "    Pub.append(i.text)\n",
    "    "
   ]
  },
  {
   "cell_type": "code",
   "execution_count": 36,
   "id": "df3b044f",
   "metadata": {},
   "outputs": [
    {
     "data": {
      "text/plain": [
       "100"
      ]
     },
     "execution_count": 36,
     "metadata": {},
     "output_type": "execute_result"
    }
   ],
   "source": [
    "len(Pub)"
   ]
  },
  {
   "cell_type": "code",
   "execution_count": 39,
   "id": "18f9f26f",
   "metadata": {},
   "outputs": [],
   "source": [
    "Genn=[]\n",
    "gen=driver.find_elements(By.XPATH,'//td[@class=\"last left\"]')\n",
    "for i in gen:\n",
    "    Genn.append(i.text)\n",
    "    "
   ]
  },
  {
   "cell_type": "code",
   "execution_count": 41,
   "id": "ef0ecdea",
   "metadata": {},
   "outputs": [
    {
     "data": {
      "text/plain": [
       "100"
      ]
     },
     "execution_count": 41,
     "metadata": {},
     "output_type": "execute_result"
    }
   ],
   "source": [
    "len(Genn)"
   ]
  },
  {
   "cell_type": "code",
   "execution_count": 42,
   "id": "710da1c9",
   "metadata": {},
   "outputs": [
    {
     "data": {
      "text/html": [
       "<div>\n",
       "<style scoped>\n",
       "    .dataframe tbody tr th:only-of-type {\n",
       "        vertical-align: middle;\n",
       "    }\n",
       "\n",
       "    .dataframe tbody tr th {\n",
       "        vertical-align: top;\n",
       "    }\n",
       "\n",
       "    .dataframe thead th {\n",
       "        text-align: right;\n",
       "    }\n",
       "</style>\n",
       "<table border=\"1\" class=\"dataframe\">\n",
       "  <thead>\n",
       "    <tr style=\"text-align: right;\">\n",
       "      <th></th>\n",
       "      <th>Book Name</th>\n",
       "      <th>Author Name</th>\n",
       "      <th>Volumes Sold</th>\n",
       "      <th>Publisher</th>\n",
       "      <th>Genre</th>\n",
       "    </tr>\n",
       "  </thead>\n",
       "  <tbody>\n",
       "    <tr>\n",
       "      <th>0</th>\n",
       "      <td>Da Vinci Code,The</td>\n",
       "      <td>Brown, Dan</td>\n",
       "      <td>5,094,805</td>\n",
       "      <td>Transworld</td>\n",
       "      <td>Crime, Thriller &amp; Adventure</td>\n",
       "    </tr>\n",
       "    <tr>\n",
       "      <th>1</th>\n",
       "      <td>Harry Potter and the Deathly Hallows</td>\n",
       "      <td>Rowling, J.K.</td>\n",
       "      <td>4,475,152</td>\n",
       "      <td>Bloomsbury</td>\n",
       "      <td>Children's Fiction</td>\n",
       "    </tr>\n",
       "    <tr>\n",
       "      <th>2</th>\n",
       "      <td>Harry Potter and the Philosopher's Stone</td>\n",
       "      <td>Rowling, J.K.</td>\n",
       "      <td>4,200,654</td>\n",
       "      <td>Bloomsbury</td>\n",
       "      <td>Children's Fiction</td>\n",
       "    </tr>\n",
       "    <tr>\n",
       "      <th>3</th>\n",
       "      <td>Harry Potter and the Order of the Phoenix</td>\n",
       "      <td>Rowling, J.K.</td>\n",
       "      <td>4,179,479</td>\n",
       "      <td>Bloomsbury</td>\n",
       "      <td>Children's Fiction</td>\n",
       "    </tr>\n",
       "    <tr>\n",
       "      <th>4</th>\n",
       "      <td>Fifty Shades of Grey</td>\n",
       "      <td>James, E. L.</td>\n",
       "      <td>3,758,936</td>\n",
       "      <td>Random House</td>\n",
       "      <td>Romance &amp; Sagas</td>\n",
       "    </tr>\n",
       "    <tr>\n",
       "      <th>...</th>\n",
       "      <td>...</td>\n",
       "      <td>...</td>\n",
       "      <td>...</td>\n",
       "      <td>...</td>\n",
       "      <td>...</td>\n",
       "    </tr>\n",
       "    <tr>\n",
       "      <th>95</th>\n",
       "      <td>Ghost,The</td>\n",
       "      <td>Harris, Robert</td>\n",
       "      <td>807,311</td>\n",
       "      <td>Random House</td>\n",
       "      <td>General &amp; Literary Fiction</td>\n",
       "    </tr>\n",
       "    <tr>\n",
       "      <th>96</th>\n",
       "      <td>Happy Days with the Naked Chef</td>\n",
       "      <td>Oliver, Jamie</td>\n",
       "      <td>794,201</td>\n",
       "      <td>Penguin</td>\n",
       "      <td>Food &amp; Drink: General</td>\n",
       "    </tr>\n",
       "    <tr>\n",
       "      <th>97</th>\n",
       "      <td>Hunger Games,The:Hunger Games Trilogy</td>\n",
       "      <td>Collins, Suzanne</td>\n",
       "      <td>792,187</td>\n",
       "      <td>Scholastic Ltd.</td>\n",
       "      <td>Young Adult Fiction</td>\n",
       "    </tr>\n",
       "    <tr>\n",
       "      <th>98</th>\n",
       "      <td>Lost Boy,The:A Foster Child's Search for the L...</td>\n",
       "      <td>Pelzer, Dave</td>\n",
       "      <td>791,507</td>\n",
       "      <td>Orion</td>\n",
       "      <td>Biography: General</td>\n",
       "    </tr>\n",
       "    <tr>\n",
       "      <th>99</th>\n",
       "      <td>Jamie's Ministry of Food:Anyone Can Learn to C...</td>\n",
       "      <td>Oliver, Jamie</td>\n",
       "      <td>791,095</td>\n",
       "      <td>Penguin</td>\n",
       "      <td>Food &amp; Drink: General</td>\n",
       "    </tr>\n",
       "  </tbody>\n",
       "</table>\n",
       "<p>100 rows × 5 columns</p>\n",
       "</div>"
      ],
      "text/plain": [
       "                                            Book Name       Author Name  \\\n",
       "0                                   Da Vinci Code,The        Brown, Dan   \n",
       "1                Harry Potter and the Deathly Hallows     Rowling, J.K.   \n",
       "2            Harry Potter and the Philosopher's Stone     Rowling, J.K.   \n",
       "3           Harry Potter and the Order of the Phoenix     Rowling, J.K.   \n",
       "4                                Fifty Shades of Grey      James, E. L.   \n",
       "..                                                ...               ...   \n",
       "95                                          Ghost,The    Harris, Robert   \n",
       "96                     Happy Days with the Naked Chef     Oliver, Jamie   \n",
       "97              Hunger Games,The:Hunger Games Trilogy  Collins, Suzanne   \n",
       "98  Lost Boy,The:A Foster Child's Search for the L...      Pelzer, Dave   \n",
       "99  Jamie's Ministry of Food:Anyone Can Learn to C...     Oliver, Jamie   \n",
       "\n",
       "   Volumes Sold        Publisher                        Genre  \n",
       "0     5,094,805       Transworld  Crime, Thriller & Adventure  \n",
       "1     4,475,152       Bloomsbury           Children's Fiction  \n",
       "2     4,200,654       Bloomsbury           Children's Fiction  \n",
       "3     4,179,479       Bloomsbury           Children's Fiction  \n",
       "4     3,758,936     Random House              Romance & Sagas  \n",
       "..          ...              ...                          ...  \n",
       "95      807,311     Random House   General & Literary Fiction  \n",
       "96      794,201          Penguin        Food & Drink: General  \n",
       "97      792,187  Scholastic Ltd.          Young Adult Fiction  \n",
       "98      791,507            Orion           Biography: General  \n",
       "99      791,095          Penguin        Food & Drink: General  \n",
       "\n",
       "[100 rows x 5 columns]"
      ]
     },
     "execution_count": 42,
     "metadata": {},
     "output_type": "execute_result"
    }
   ],
   "source": [
    "DF=pd.DataFrame({\"Book Name\":Totall,\"Author Name\":Aut,\"Volumes Sold\":Vol,\"Publisher\":Pub,\"Genre\":Genn})\n",
    "DF"
   ]
  },
  {
   "cell_type": "markdown",
   "id": "11df63cb",
   "metadata": {},
   "source": [
    "# Question no 7"
   ]
  },
  {
   "cell_type": "code",
   "execution_count": 3,
   "id": "92fdf88a",
   "metadata": {},
   "outputs": [],
   "source": [
    "#connect to the driver\n",
    "driver=webdriver.Chrome(r\"C:\\Users\\91969\\Downloads\\chromedriver_win32\\chromedriver.exe\")"
   ]
  },
  {
   "cell_type": "code",
   "execution_count": 4,
   "id": "6aa0c189",
   "metadata": {},
   "outputs": [],
   "source": [
    "#opening the site\n",
    "driver.get(\"https://www.imdb.com/list/ls095964455/\")"
   ]
  },
  {
   "cell_type": "code",
   "execution_count": 9,
   "id": "fc35a8b3",
   "metadata": {},
   "outputs": [],
   "source": [
    "Totalll=[]\n",
    "totall=driver.find_elements(By.XPATH,'//h3[@class=\"lister-item-header\"]')\n",
    "for i in totall:\n",
    "    Totalll.append(i.text.split('.')[1].replace('(         )',' '))\n",
    "    "
   ]
  },
  {
   "cell_type": "code",
   "execution_count": 11,
   "id": "e56dc2b1",
   "metadata": {},
   "outputs": [
    {
     "data": {
      "text/plain": [
       "100"
      ]
     },
     "execution_count": 11,
     "metadata": {},
     "output_type": "execute_result"
    }
   ],
   "source": [
    "len(Totalll)"
   ]
  },
  {
   "cell_type": "code",
   "execution_count": 12,
   "id": "6c03d685",
   "metadata": {},
   "outputs": [],
   "source": [
    "Aut=[]\n",
    "aut=driver.find_elements(By.XPATH,'//span[@class=\"lister-item-year text-muted unbold\"]')\n",
    "for i in aut:\n",
    "    Aut.append(i.text)\n",
    "    "
   ]
  },
  {
   "cell_type": "code",
   "execution_count": 14,
   "id": "fcdfdc73",
   "metadata": {},
   "outputs": [
    {
     "data": {
      "text/plain": [
       "100"
      ]
     },
     "execution_count": 14,
     "metadata": {},
     "output_type": "execute_result"
    }
   ],
   "source": [
    "len(Aut)"
   ]
  },
  {
   "cell_type": "code",
   "execution_count": 15,
   "id": "e3c7d18d",
   "metadata": {},
   "outputs": [],
   "source": [
    "Genre=[]\n",
    "genre=driver.find_elements(By.XPATH,'//span[@class=\"genre\"]')\n",
    "for i in genre:\n",
    "    Genre.append(i.text)\n",
    "    "
   ]
  },
  {
   "cell_type": "code",
   "execution_count": 18,
   "id": "b7c290d7",
   "metadata": {},
   "outputs": [
    {
     "data": {
      "text/plain": [
       "100"
      ]
     },
     "execution_count": 18,
     "metadata": {},
     "output_type": "execute_result"
    }
   ],
   "source": [
    "len(Genre)"
   ]
  },
  {
   "cell_type": "code",
   "execution_count": 19,
   "id": "750e278e",
   "metadata": {},
   "outputs": [],
   "source": [
    "Time=[]\n",
    "time=driver.find_elements(By.XPATH,'//span[@class=\"runtime\"]')\n",
    "for i in time:\n",
    "    Time.append(i.text)\n",
    "    "
   ]
  },
  {
   "cell_type": "code",
   "execution_count": 21,
   "id": "9c7c3afc",
   "metadata": {},
   "outputs": [
    {
     "data": {
      "text/plain": [
       "100"
      ]
     },
     "execution_count": 21,
     "metadata": {},
     "output_type": "execute_result"
    }
   ],
   "source": [
    "len(Time)"
   ]
  },
  {
   "cell_type": "code",
   "execution_count": 24,
   "id": "d5ba07e5",
   "metadata": {},
   "outputs": [],
   "source": [
    "Rate=[]\n",
    "rate=driver.find_elements(By.XPATH,'//div[@class=\"ipl-rating-star small\"]')\n",
    "for i in rate:\n",
    "    Rate.append(i.text)\n",
    "    "
   ]
  },
  {
   "cell_type": "code",
   "execution_count": 26,
   "id": "9f22ff38",
   "metadata": {},
   "outputs": [
    {
     "data": {
      "text/plain": [
       "100"
      ]
     },
     "execution_count": 26,
     "metadata": {},
     "output_type": "execute_result"
    }
   ],
   "source": [
    "len(Rate)"
   ]
  },
  {
   "cell_type": "code",
   "execution_count": 27,
   "id": "8119b682",
   "metadata": {},
   "outputs": [],
   "source": [
    "Votes=[]\n",
    "votes=driver.find_elements(By.XPATH,'//span[@name=\"nv\"]')\n",
    "for i in votes:\n",
    "    Votes.append(i.text)\n",
    "    "
   ]
  },
  {
   "cell_type": "code",
   "execution_count": 28,
   "id": "f87ca8e3",
   "metadata": {},
   "outputs": [
    {
     "data": {
      "text/html": [
       "<div>\n",
       "<style scoped>\n",
       "    .dataframe tbody tr th:only-of-type {\n",
       "        vertical-align: middle;\n",
       "    }\n",
       "\n",
       "    .dataframe tbody tr th {\n",
       "        vertical-align: top;\n",
       "    }\n",
       "\n",
       "    .dataframe thead th {\n",
       "        text-align: right;\n",
       "    }\n",
       "</style>\n",
       "<table border=\"1\" class=\"dataframe\">\n",
       "  <thead>\n",
       "    <tr style=\"text-align: right;\">\n",
       "      <th></th>\n",
       "      <th>Name</th>\n",
       "      <th>Genre</th>\n",
       "      <th>Run Time</th>\n",
       "      <th>Rating</th>\n",
       "      <th>Votes</th>\n",
       "      <th>Year Span</th>\n",
       "    </tr>\n",
       "  </thead>\n",
       "  <tbody>\n",
       "    <tr>\n",
       "      <th>0</th>\n",
       "      <td>Game of Thrones (2011–2019)</td>\n",
       "      <td>Action, Adventure, Drama</td>\n",
       "      <td>57 min</td>\n",
       "      <td>9.2</td>\n",
       "      <td>2,153,288</td>\n",
       "      <td>(2011–2019)</td>\n",
       "    </tr>\n",
       "    <tr>\n",
       "      <th>1</th>\n",
       "      <td>Stranger Things (2016–2024)</td>\n",
       "      <td>Drama, Fantasy, Horror</td>\n",
       "      <td>51 min</td>\n",
       "      <td>8.7</td>\n",
       "      <td>1,235,386</td>\n",
       "      <td>(2016–2024)</td>\n",
       "    </tr>\n",
       "    <tr>\n",
       "      <th>2</th>\n",
       "      <td>The Walking Dead (2010–2022)</td>\n",
       "      <td>Drama, Horror, Thriller</td>\n",
       "      <td>44 min</td>\n",
       "      <td>8.1</td>\n",
       "      <td>1,022,878</td>\n",
       "      <td>(2010–2022)</td>\n",
       "    </tr>\n",
       "    <tr>\n",
       "      <th>3</th>\n",
       "      <td>13 Reasons Why (2017–2020)</td>\n",
       "      <td>Drama, Mystery, Thriller</td>\n",
       "      <td>60 min</td>\n",
       "      <td>7.5</td>\n",
       "      <td>301,028</td>\n",
       "      <td>(2017–2020)</td>\n",
       "    </tr>\n",
       "    <tr>\n",
       "      <th>4</th>\n",
       "      <td>The 100 (2014–2020)</td>\n",
       "      <td>Drama, Mystery, Sci-Fi</td>\n",
       "      <td>43 min</td>\n",
       "      <td>7.6</td>\n",
       "      <td>259,959</td>\n",
       "      <td>(2014–2020)</td>\n",
       "    </tr>\n",
       "    <tr>\n",
       "      <th>...</th>\n",
       "      <td>...</td>\n",
       "      <td>...</td>\n",
       "      <td>...</td>\n",
       "      <td>...</td>\n",
       "      <td>...</td>\n",
       "      <td>...</td>\n",
       "    </tr>\n",
       "    <tr>\n",
       "      <th>95</th>\n",
       "      <td>Reign (2013–2017)</td>\n",
       "      <td>Drama</td>\n",
       "      <td>42 min</td>\n",
       "      <td>7.4</td>\n",
       "      <td>51,393</td>\n",
       "      <td>(2013–2017)</td>\n",
       "    </tr>\n",
       "    <tr>\n",
       "      <th>96</th>\n",
       "      <td>A Series of Unfortunate Events (2017–2019)</td>\n",
       "      <td>Adventure, Comedy, Drama</td>\n",
       "      <td>50 min</td>\n",
       "      <td>7.8</td>\n",
       "      <td>63,429</td>\n",
       "      <td>(2017–2019)</td>\n",
       "    </tr>\n",
       "    <tr>\n",
       "      <th>97</th>\n",
       "      <td>Criminal Minds (2005– )</td>\n",
       "      <td>Crime, Drama, Mystery</td>\n",
       "      <td>42 min</td>\n",
       "      <td>8.1</td>\n",
       "      <td>206,807</td>\n",
       "      <td>(2005– )</td>\n",
       "    </tr>\n",
       "    <tr>\n",
       "      <th>98</th>\n",
       "      <td>Scream: The TV Series (2015–2019)</td>\n",
       "      <td>Comedy, Crime, Drama</td>\n",
       "      <td>45 min</td>\n",
       "      <td>7</td>\n",
       "      <td>42,932</td>\n",
       "      <td>(2015–2019)</td>\n",
       "    </tr>\n",
       "    <tr>\n",
       "      <th>99</th>\n",
       "      <td>The Haunting of Hill House (2018)</td>\n",
       "      <td>Drama, Horror, Mystery</td>\n",
       "      <td>572 min</td>\n",
       "      <td>8.6</td>\n",
       "      <td>256,408</td>\n",
       "      <td>(2018)</td>\n",
       "    </tr>\n",
       "  </tbody>\n",
       "</table>\n",
       "<p>100 rows × 6 columns</p>\n",
       "</div>"
      ],
      "text/plain": [
       "                                           Name                     Genre  \\\n",
       "0                   Game of Thrones (2011–2019)  Action, Adventure, Drama   \n",
       "1                   Stranger Things (2016–2024)    Drama, Fantasy, Horror   \n",
       "2                  The Walking Dead (2010–2022)   Drama, Horror, Thriller   \n",
       "3                    13 Reasons Why (2017–2020)  Drama, Mystery, Thriller   \n",
       "4                           The 100 (2014–2020)    Drama, Mystery, Sci-Fi   \n",
       "..                                          ...                       ...   \n",
       "95                            Reign (2013–2017)                     Drama   \n",
       "96   A Series of Unfortunate Events (2017–2019)  Adventure, Comedy, Drama   \n",
       "97                      Criminal Minds (2005– )     Crime, Drama, Mystery   \n",
       "98            Scream: The TV Series (2015–2019)      Comedy, Crime, Drama   \n",
       "99            The Haunting of Hill House (2018)    Drama, Horror, Mystery   \n",
       "\n",
       "   Run Time Rating      Votes    Year Span  \n",
       "0    57 min    9.2  2,153,288  (2011–2019)  \n",
       "1    51 min    8.7  1,235,386  (2016–2024)  \n",
       "2    44 min    8.1  1,022,878  (2010–2022)  \n",
       "3    60 min    7.5    301,028  (2017–2020)  \n",
       "4    43 min    7.6    259,959  (2014–2020)  \n",
       "..      ...    ...        ...          ...  \n",
       "95   42 min    7.4     51,393  (2013–2017)  \n",
       "96   50 min    7.8     63,429  (2017–2019)  \n",
       "97   42 min    8.1    206,807     (2005– )  \n",
       "98   45 min      7     42,932  (2015–2019)  \n",
       "99  572 min    8.6    256,408       (2018)  \n",
       "\n",
       "[100 rows x 6 columns]"
      ]
     },
     "execution_count": 28,
     "metadata": {},
     "output_type": "execute_result"
    }
   ],
   "source": [
    "DF=pd.DataFrame({\"Name\":Totalll,\"Genre\":Genre,\"Run Time\":Time,\"Rating\":Rate,\"Votes\":Votes,\"Year Span\":Aut})\n",
    "DF"
   ]
  },
  {
   "cell_type": "markdown",
   "id": "825c08cb",
   "metadata": {},
   "source": [
    "# Question no 9"
   ]
  },
  {
   "cell_type": "code",
   "execution_count": 3,
   "id": "0296c43f",
   "metadata": {},
   "outputs": [],
   "source": [
    "#connect to the driver\n",
    "driver=webdriver.Chrome(r\"C:\\Users\\91969\\Downloads\\chromedriver_win32\\chromedriver.exe\")"
   ]
  },
  {
   "cell_type": "code",
   "execution_count": 6,
   "id": "90df21f9",
   "metadata": {},
   "outputs": [],
   "source": [
    "driver.get(\"https://www.naukri.com/hr-recruiters-consultants\")"
   ]
  },
  {
   "cell_type": "code",
   "execution_count": 7,
   "id": "e4808ae3",
   "metadata": {},
   "outputs": [],
   "source": [
    "search=driver.find_element(By.CLASS_NAME,\"sugInp\")\n",
    "search.send_keys('Data science')"
   ]
  },
  {
   "cell_type": "code",
   "execution_count": 8,
   "id": "10c9ec9b",
   "metadata": {},
   "outputs": [],
   "source": [
    "Click=driver.find_element(By.XPATH,'/html/body/div[2]/div[2]/div[1]/div[1]/form/div[1]/button')\n",
    "Click.click()"
   ]
  },
  {
   "cell_type": "code",
   "execution_count": 9,
   "id": "82fdde24",
   "metadata": {},
   "outputs": [],
   "source": [
    "Aut=[]\n",
    "aut=driver.find_elements(By.XPATH,'//span[@class=\"fl ellipsis\"]')\n",
    "for i in aut[0:49]:\n",
    "    Aut.append(i.text)\n",
    "    "
   ]
  },
  {
   "cell_type": "code",
   "execution_count": 11,
   "id": "d8bed1ea",
   "metadata": {},
   "outputs": [
    {
     "data": {
      "text/plain": [
       "49"
      ]
     },
     "execution_count": 11,
     "metadata": {},
     "output_type": "execute_result"
    }
   ],
   "source": [
    "len(Aut)"
   ]
  },
  {
   "cell_type": "code",
   "execution_count": 14,
   "id": "44454bb6",
   "metadata": {},
   "outputs": [],
   "source": [
    "Auttt=[]\n",
    "auttt=driver.find_elements(By.XPATH,'//span[@class=\"ellipsis clr\"]')\n",
    "for i in auttt[0:49]:\n",
    "    Auttt.append(i.text)\n",
    "    "
   ]
  },
  {
   "cell_type": "code",
   "execution_count": 16,
   "id": "265b6183",
   "metadata": {},
   "outputs": [
    {
     "data": {
      "text/plain": [
       "49"
      ]
     },
     "execution_count": 16,
     "metadata": {},
     "output_type": "execute_result"
    }
   ],
   "source": [
    "len(Auttt)"
   ]
  },
  {
   "cell_type": "code",
   "execution_count": 17,
   "id": "8098a561",
   "metadata": {},
   "outputs": [],
   "source": [
    "Comp=[]\n",
    "comp=driver.find_elements(By.XPATH,'//a[2][@class=\"ellipsis\"]')\n",
    "for i in comp[0:49]:\n",
    "    Comp.append(i.text)\n",
    "    "
   ]
  },
  {
   "cell_type": "code",
   "execution_count": 19,
   "id": "aa182848",
   "metadata": {},
   "outputs": [
    {
     "data": {
      "text/plain": [
       "49"
      ]
     },
     "execution_count": 19,
     "metadata": {},
     "output_type": "execute_result"
    }
   ],
   "source": [
    "len(Comp)"
   ]
  },
  {
   "cell_type": "code",
   "execution_count": 22,
   "id": "9d095cf1",
   "metadata": {},
   "outputs": [],
   "source": [
    "Skill=[]\n",
    "skill=driver.find_elements(By.XPATH,'//div[@class=\"hireSec highlightable\"]')\n",
    "for i in skill[0:49]:\n",
    "    Skill.append(i.text)\n",
    "    "
   ]
  },
  {
   "cell_type": "code",
   "execution_count": 24,
   "id": "b7d889fc",
   "metadata": {},
   "outputs": [
    {
     "data": {
      "text/plain": [
       "49"
      ]
     },
     "execution_count": 24,
     "metadata": {},
     "output_type": "execute_result"
    }
   ],
   "source": [
    "len(Skill)"
   ]
  },
  {
   "cell_type": "code",
   "execution_count": 25,
   "id": "35b26978",
   "metadata": {},
   "outputs": [],
   "source": [
    "Loca=[]\n",
    "loca=driver.find_elements(By.XPATH,'//small[@class=\"ellipsis\"]')\n",
    "for i in loca:\n",
    "    Loca.append(i.text)\n",
    "    "
   ]
  },
  {
   "cell_type": "code",
   "execution_count": 27,
   "id": "294d134d",
   "metadata": {},
   "outputs": [
    {
     "data": {
      "text/plain": [
       "49"
      ]
     },
     "execution_count": 27,
     "metadata": {},
     "output_type": "execute_result"
    }
   ],
   "source": [
    "len(Loca)"
   ]
  },
  {
   "cell_type": "code",
   "execution_count": 29,
   "id": "5fc41b89",
   "metadata": {},
   "outputs": [
    {
     "data": {
      "text/html": [
       "<div>\n",
       "<style scoped>\n",
       "    .dataframe tbody tr th:only-of-type {\n",
       "        vertical-align: middle;\n",
       "    }\n",
       "\n",
       "    .dataframe tbody tr th {\n",
       "        vertical-align: top;\n",
       "    }\n",
       "\n",
       "    .dataframe thead th {\n",
       "        text-align: right;\n",
       "    }\n",
       "</style>\n",
       "<table border=\"1\" class=\"dataframe\">\n",
       "  <thead>\n",
       "    <tr style=\"text-align: right;\">\n",
       "      <th></th>\n",
       "      <th>Name</th>\n",
       "      <th>Designation</th>\n",
       "      <th>Company</th>\n",
       "      <th>Skills they hire for</th>\n",
       "      <th>Location</th>\n",
       "    </tr>\n",
       "  </thead>\n",
       "  <tbody>\n",
       "    <tr>\n",
       "      <th>0</th>\n",
       "      <td>Aakash Harit</td>\n",
       "      <td>HR Manager</td>\n",
       "      <td>Data Science Network</td>\n",
       "      <td>Classic ASP Developer, Internet Marketing Prof...</td>\n",
       "      <td>Delhi</td>\n",
       "    </tr>\n",
       "    <tr>\n",
       "      <th>1</th>\n",
       "      <td>shravan Kumar Gaddam</td>\n",
       "      <td>Company Recruiter</td>\n",
       "      <td>Shore Infotech India Pvt. Ltd</td>\n",
       "      <td>.Net, Java, Data Science, Linux Administration...</td>\n",
       "      <td>Hyderabad / Secunderabad</td>\n",
       "    </tr>\n",
       "    <tr>\n",
       "      <th>2</th>\n",
       "      <td>MARSIAN Technologies LLP</td>\n",
       "      <td>Company HR</td>\n",
       "      <td>MARSIAN Technologies LLP</td>\n",
       "      <td>Data Science, Artificial Intelligence, Machine...</td>\n",
       "      <td>Pune</td>\n",
       "    </tr>\n",
       "    <tr>\n",
       "      <th>3</th>\n",
       "      <td>Anik Agrawal</td>\n",
       "      <td>Company Recruiter</td>\n",
       "      <td>Enerlytics Software Solutions Pvt Ltd</td>\n",
       "      <td>Mean Stack, javascript, angularjs, mongodb, We...</td>\n",
       "      <td>Ahmedabad</td>\n",
       "    </tr>\n",
       "    <tr>\n",
       "      <th>4</th>\n",
       "      <td>subhas patel</td>\n",
       "      <td>Founder CEO</td>\n",
       "      <td>LibraryXProject</td>\n",
       "      <td>Hadoop, Spark, Digital Strategy, Data Architec...</td>\n",
       "      <td>UK - (london)</td>\n",
       "    </tr>\n",
       "    <tr>\n",
       "      <th>5</th>\n",
       "      <td>Abhishek - Only Analytics Hiring - India and</td>\n",
       "      <td>Recruitment Lead Consultant</td>\n",
       "      <td>Apidel Technologies Division of Transpower</td>\n",
       "      <td>Analytics, Business Intelligence, Business Ana...</td>\n",
       "      <td>Vadodara / Baroda</td>\n",
       "    </tr>\n",
       "    <tr>\n",
       "      <th>6</th>\n",
       "      <td>Institute for Financial Management and Resear</td>\n",
       "      <td>Programme Manager</td>\n",
       "      <td>IFMR</td>\n",
       "      <td>Data Science</td>\n",
       "      <td>Chennai</td>\n",
       "    </tr>\n",
       "    <tr>\n",
       "      <th>7</th>\n",
       "      <td>Balu Ramesh</td>\n",
       "      <td>HR Administrator</td>\n",
       "      <td>Techvantage Systems Pvt Ltd</td>\n",
       "      <td>Machine Learning, algorithms, Go Getter, Compu...</td>\n",
       "      <td>Trivandrum</td>\n",
       "    </tr>\n",
       "    <tr>\n",
       "      <th>8</th>\n",
       "      <td>Asif Lucknowi</td>\n",
       "      <td>Director</td>\n",
       "      <td>Weupskill- Live Wire India</td>\n",
       "      <td>Technical Training, Software Development, Pres...</td>\n",
       "      <td>Indore</td>\n",
       "    </tr>\n",
       "    <tr>\n",
       "      <th>9</th>\n",
       "      <td>InstaFinancials</td>\n",
       "      <td>Human Resource</td>\n",
       "      <td>CBL Data Science Private Limited</td>\n",
       "      <td>Software Development, It Sales, Account Manage...</td>\n",
       "      <td>Bengaluru / Bangalore</td>\n",
       "    </tr>\n",
       "    <tr>\n",
       "      <th>10</th>\n",
       "      <td>Kalpana Dumpala</td>\n",
       "      <td>Executive Hiring</td>\n",
       "      <td>Innominds Software</td>\n",
       "      <td>Qa, Ui/ux, Java Developer, Java Architect, C++...</td>\n",
       "      <td>Hyderabad / Secunderabad</td>\n",
       "    </tr>\n",
       "    <tr>\n",
       "      <th>11</th>\n",
       "      <td>Mubarak</td>\n",
       "      <td>Company HR</td>\n",
       "      <td>MoneyTap</td>\n",
       "      <td>Business Intelligence, Data Warehousing, Data ...</td>\n",
       "      <td>Bengaluru / Bangalore</td>\n",
       "    </tr>\n",
       "    <tr>\n",
       "      <th>12</th>\n",
       "      <td>Kushal Rastogi</td>\n",
       "      <td>Company HR</td>\n",
       "      <td>QuantMagnum Technologies Pvt. Ltd.</td>\n",
       "      <td>Office Administration, Hr Administration, tele...</td>\n",
       "      <td>Mumbai</td>\n",
       "    </tr>\n",
       "    <tr>\n",
       "      <th>13</th>\n",
       "      <td>Priyanka Akiri</td>\n",
       "      <td>HR Manager</td>\n",
       "      <td>Infinitive Software Solutions</td>\n",
       "      <td>Oracle Dba, Data Science, Data Warehousing, ET...</td>\n",
       "      <td>Hyderabad</td>\n",
       "    </tr>\n",
       "    <tr>\n",
       "      <th>14</th>\n",
       "      <td>Kapil Devang</td>\n",
       "      <td>HR Manager</td>\n",
       "      <td>BISP Solutions</td>\n",
       "      <td>Big Data, Hadoop, Data Analytics, Data Science</td>\n",
       "      <td>Bhopal</td>\n",
       "    </tr>\n",
       "    <tr>\n",
       "      <th>15</th>\n",
       "      <td>Mahesh Babu Channa</td>\n",
       "      <td>HR Team Lead</td>\n",
       "      <td>SocialPrachar.com</td>\n",
       "      <td>Social Media, digital media maketing, seo, smm...</td>\n",
       "      <td>Hyderabad / Secunderabad</td>\n",
       "    </tr>\n",
       "    <tr>\n",
       "      <th>16</th>\n",
       "      <td>Vaishnavi Kudalkar</td>\n",
       "      <td>HR Executive</td>\n",
       "      <td>Codeachive learning</td>\n",
       "      <td>Data Science, Python, Data Analytics</td>\n",
       "      <td>Mumbai</td>\n",
       "    </tr>\n",
       "    <tr>\n",
       "      <th>17</th>\n",
       "      <td>Sakshi Chhikara</td>\n",
       "      <td>Assistant Manager HR</td>\n",
       "      <td>BIZ INFOTECNO PRIVATE LIMITED</td>\n",
       "      <td>React.js, Data Science, Java, Front End, Busin...</td>\n",
       "      <td>Chandigarh</td>\n",
       "    </tr>\n",
       "    <tr>\n",
       "      <th>18</th>\n",
       "      <td>Ruchi Dhote</td>\n",
       "      <td>Senior Executive Talent Acquisition</td>\n",
       "      <td>Bristlecone India Ltd</td>\n",
       "      <td>Qlikview, Qlik Sense, Microsoft Azure, Power B...</td>\n",
       "      <td>Pune</td>\n",
       "    </tr>\n",
       "    <tr>\n",
       "      <th>19</th>\n",
       "      <td>Manisha Yadav</td>\n",
       "      <td>HR Executive</td>\n",
       "      <td>Easi Tax</td>\n",
       "      <td>Telecalling, Client Interaction, Marketing, Re...</td>\n",
       "      <td>Navi Mumbai</td>\n",
       "    </tr>\n",
       "    <tr>\n",
       "      <th>20</th>\n",
       "      <td>Riya Rajesh</td>\n",
       "      <td>Manager Talent Acquisition</td>\n",
       "      <td>Novelworx Digital Solutions</td>\n",
       "      <td>Data Science</td>\n",
       "      <td>Cochin</td>\n",
       "    </tr>\n",
       "    <tr>\n",
       "      <th>21</th>\n",
       "      <td>Rashmi Bhattacharjee</td>\n",
       "      <td>HR Head</td>\n",
       "      <td>AXESTRACK SOFTWARE SOLUTIONS PRIVATE...</td>\n",
       "      <td>Corporate Sales, Software Development, Softwar...</td>\n",
       "      <td>Delhi</td>\n",
       "    </tr>\n",
       "    <tr>\n",
       "      <th>22</th>\n",
       "      <td>Faizan Kareem</td>\n",
       "      <td>HR MANAGER</td>\n",
       "      <td>FirstTech Consaltants Pvt.Ltd</td>\n",
       "      <td>Data Analytics, Data Science, Machine Learning...</td>\n",
       "      <td>Hyderabad / Secunderabad</td>\n",
       "    </tr>\n",
       "    <tr>\n",
       "      <th>23</th>\n",
       "      <td>Rithika dadwal</td>\n",
       "      <td>HR Recruiter</td>\n",
       "      <td>Affine Analytics</td>\n",
       "      <td>Data Science, Machine Learning, Python, R, Dee...</td>\n",
       "      <td>Pune</td>\n",
       "    </tr>\n",
       "    <tr>\n",
       "      <th>24</th>\n",
       "      <td>Sandhya Khandagale</td>\n",
       "      <td>HR Recruiter</td>\n",
       "      <td>Compumatrice Multimedia Pvt Ltd</td>\n",
       "      <td>Big Data, Data Science, Artificial Intelligenc...</td>\n",
       "      <td>Pune</td>\n",
       "    </tr>\n",
       "    <tr>\n",
       "      <th>25</th>\n",
       "      <td>Shaun Rao</td>\n",
       "      <td>Manager Human Resources</td>\n",
       "      <td>Exela Technologies</td>\n",
       "      <td>Java, Net, Angularjs, Hr, Infrastructure, Mana...</td>\n",
       "      <td>Pune</td>\n",
       "    </tr>\n",
       "    <tr>\n",
       "      <th>26</th>\n",
       "      <td>Deeparchi Sharma</td>\n",
       "      <td>Company Recruiter</td>\n",
       "      <td>ZIGRAM</td>\n",
       "      <td>Research, Digital Marketing, Analytics, Softwa...</td>\n",
       "      <td>Gurgaon</td>\n",
       "    </tr>\n",
       "    <tr>\n",
       "      <th>27</th>\n",
       "      <td>Azahar Shaikh</td>\n",
       "      <td>Company Recruiter</td>\n",
       "      <td>NEAL ANALYTICS SERVICES PVT LTD</td>\n",
       "      <td>Data Science, Artificial Intelligence, Machine...</td>\n",
       "      <td>Pune</td>\n",
       "    </tr>\n",
       "    <tr>\n",
       "      <th>28</th>\n",
       "      <td>Manas</td>\n",
       "      <td>Lead Talent acquisition</td>\n",
       "      <td>Autumn Leaf Consulting Services Private...</td>\n",
       "      <td>Software Architecture, Vp Engineering, Product...</td>\n",
       "      <td>Bengaluru / Bangalore</td>\n",
       "    </tr>\n",
       "    <tr>\n",
       "      <th>29</th>\n",
       "      <td>kumar</td>\n",
       "      <td>Proprietor</td>\n",
       "      <td>trainin</td>\n",
       "      <td>Data Science, Hadoop, Rpas, Devops, Python, Aw...</td>\n",
       "      <td>Bengaluru / Bangalore</td>\n",
       "    </tr>\n",
       "    <tr>\n",
       "      <th>30</th>\n",
       "      <td>Sunil Vedula</td>\n",
       "      <td>CEO</td>\n",
       "      <td>Nanoprecise Sci Corp</td>\n",
       "      <td>Signal Processing, Machine Learning, Neural Ne...</td>\n",
       "      <td>Delhi</td>\n",
       "    </tr>\n",
       "    <tr>\n",
       "      <th>31</th>\n",
       "      <td>Rajat Kumar</td>\n",
       "      <td>Founder CEO</td>\n",
       "      <td>R.S Consultancy &amp;amp; Services</td>\n",
       "      <td>Web Technologies, Project Management, Software...</td>\n",
       "      <td>Bengaluru / Bangalore</td>\n",
       "    </tr>\n",
       "    <tr>\n",
       "      <th>32</th>\n",
       "      <td>Dhruv Dev Dubey</td>\n",
       "      <td>Company Recruitment Head</td>\n",
       "      <td>NETAPS FOUNDATION</td>\n",
       "      <td>Server Administartion, Verilog, Vhdl, Digital ...</td>\n",
       "      <td>Noida</td>\n",
       "    </tr>\n",
       "    <tr>\n",
       "      <th>33</th>\n",
       "      <td>Avnish Mishra</td>\n",
       "      <td>Senior Technical &amp;amp; Corporate Recruiter</td>\n",
       "      <td>RMS Risk Management Solutions</td>\n",
       "      <td>Data Science, Machine Learning, Deep Learning,...</td>\n",
       "      <td>Mysoru / Mysore</td>\n",
       "    </tr>\n",
       "    <tr>\n",
       "      <th>34</th>\n",
       "      <td>Jayanth N</td>\n",
       "      <td>Project Manager</td>\n",
       "      <td>Dollarbird Information Services Pvt, Ltd</td>\n",
       "      <td>Data Analytics, Managed Services, Team Leading...</td>\n",
       "      <td>Hyderabad / Secunderabad</td>\n",
       "    </tr>\n",
       "    <tr>\n",
       "      <th>35</th>\n",
       "      <td>Avodha</td>\n",
       "      <td>Business Development Associate</td>\n",
       "      <td>Nikitha Palaparthi</td>\n",
       "      <td>Ethical Hacking, Security Operations Center, S...</td>\n",
       "      <td>Bengaluru / Bangalore</td>\n",
       "    </tr>\n",
       "    <tr>\n",
       "      <th>36</th>\n",
       "      <td>Priya Khare</td>\n",
       "      <td>Senior Manager</td>\n",
       "      <td>Independent Consultant</td>\n",
       "      <td>Data Science, Artificial Intelligence, analyti...</td>\n",
       "      <td>New Delhi</td>\n",
       "    </tr>\n",
       "    <tr>\n",
       "      <th>37</th>\n",
       "      <td>Amit Sharma</td>\n",
       "      <td>Consultant</td>\n",
       "      <td>ASCO consulting</td>\n",
       "      <td>Machine Learning, Artificial Intelligence, Dat...</td>\n",
       "      <td>Chennai</td>\n",
       "    </tr>\n",
       "    <tr>\n",
       "      <th>38</th>\n",
       "      <td>Kanan</td>\n",
       "      <td>senior technology instructor</td>\n",
       "      <td>NY INST</td>\n",
       "      <td>C, C++, Artificial Intelligence, Python, Php, ...</td>\n",
       "      <td>Aligarh</td>\n",
       "    </tr>\n",
       "    <tr>\n",
       "      <th>39</th>\n",
       "      <td>Shashikant Chaudhary</td>\n",
       "      <td>HR Recruiter/HR Excutive</td>\n",
       "      <td>3D India Staffing Research &amp;amp; Consulting...</td>\n",
       "      <td>Relationship Management, Retail Sales, Private...</td>\n",
       "      <td>Salt Lake City</td>\n",
       "    </tr>\n",
       "    <tr>\n",
       "      <th>40</th>\n",
       "      <td>Brad</td>\n",
       "      <td>Manager, Technical Recruiting</td>\n",
       "      <td>O.C. Tanner</td>\n",
       "      <td>Data Science, Software Engineering</td>\n",
       "      <td>Pune</td>\n",
       "    </tr>\n",
       "    <tr>\n",
       "      <th>41</th>\n",
       "      <td>Rutuja Pawar</td>\n",
       "      <td>Technical Recruiter</td>\n",
       "      <td>Demand Matrix</td>\n",
       "      <td>Data Science, Big Data Analytics, Digital Mark...</td>\n",
       "      <td>Bengaluru / Bangalore</td>\n",
       "    </tr>\n",
       "    <tr>\n",
       "      <th>42</th>\n",
       "      <td>Madhusudhan Sridhar</td>\n",
       "      <td>Erp Implementer</td>\n",
       "      <td>MADHUSUDHAN SRIDHAR</td>\n",
       "      <td>Data Science, Recruitment, Salary</td>\n",
       "      <td>Mumbai</td>\n",
       "    </tr>\n",
       "    <tr>\n",
       "      <th>43</th>\n",
       "      <td>Ankit Sinha</td>\n",
       "      <td>Head Analytics</td>\n",
       "      <td>Suntech Global</td>\n",
       "      <td>B.Tech, Tableau, Statistics, R, Analytics, Tim...</td>\n",
       "      <td>Indore</td>\n",
       "    </tr>\n",
       "    <tr>\n",
       "      <th>44</th>\n",
       "      <td>Gaurav Chouhan</td>\n",
       "      <td>Chief Technical Officer</td>\n",
       "      <td>Strategic Consulting Lab</td>\n",
       "      <td>Software Development, Business Intelligence, B...</td>\n",
       "      <td>Bengaluru / Bangalore</td>\n",
       "    </tr>\n",
       "    <tr>\n",
       "      <th>45</th>\n",
       "      <td>Rashi Kacker</td>\n",
       "      <td>Sr Product Manager</td>\n",
       "      <td>Impel Labs Pvt. Ltd.</td>\n",
       "      <td>Data Science, Node.js, Angularjs</td>\n",
       "      <td>MYSORE</td>\n",
       "    </tr>\n",
       "    <tr>\n",
       "      <th>46</th>\n",
       "      <td>Ashwini</td>\n",
       "      <td>Director Global Delivery</td>\n",
       "      <td>MRP Advisers</td>\n",
       "      <td>Data Science, Media Marketing, Resource Planni...</td>\n",
       "      <td>Hyderabad / Secunderabad</td>\n",
       "    </tr>\n",
       "    <tr>\n",
       "      <th>47</th>\n",
       "      <td>Balaji Kolli</td>\n",
       "      <td>Co Founder</td>\n",
       "      <td>Saras Solutions India Pvt Ltd</td>\n",
       "      <td>Data Analysis, Learning, Data Science, Compute...</td>\n",
       "      <td>Bengaluru / Bangalore</td>\n",
       "    </tr>\n",
       "    <tr>\n",
       "      <th>48</th>\n",
       "      <td>Rajani Nagaraj</td>\n",
       "      <td>HR Manager</td>\n",
       "      <td>WildJasmine</td>\n",
       "      <td>Java, Hadoop, R, Machine Learning, Spark, Flum...</td>\n",
       "      <td>Mumbai</td>\n",
       "    </tr>\n",
       "  </tbody>\n",
       "</table>\n",
       "</div>"
      ],
      "text/plain": [
       "                                             Name  \\\n",
       "0                                    Aakash Harit   \n",
       "1                            shravan Kumar Gaddam   \n",
       "2                        MARSIAN Technologies LLP   \n",
       "3                                    Anik Agrawal   \n",
       "4                                    subhas patel   \n",
       "5    Abhishek - Only Analytics Hiring - India and   \n",
       "6   Institute for Financial Management and Resear   \n",
       "7                                     Balu Ramesh   \n",
       "8                                   Asif Lucknowi   \n",
       "9                                 InstaFinancials   \n",
       "10                                Kalpana Dumpala   \n",
       "11                                        Mubarak   \n",
       "12                                 Kushal Rastogi   \n",
       "13                                 Priyanka Akiri   \n",
       "14                                   Kapil Devang   \n",
       "15                             Mahesh Babu Channa   \n",
       "16                             Vaishnavi Kudalkar   \n",
       "17                                Sakshi Chhikara   \n",
       "18                                    Ruchi Dhote   \n",
       "19                                  Manisha Yadav   \n",
       "20                                    Riya Rajesh   \n",
       "21                           Rashmi Bhattacharjee   \n",
       "22                                  Faizan Kareem   \n",
       "23                                 Rithika dadwal   \n",
       "24                             Sandhya Khandagale   \n",
       "25                                      Shaun Rao   \n",
       "26                               Deeparchi Sharma   \n",
       "27                                  Azahar Shaikh   \n",
       "28                                          Manas   \n",
       "29                                          kumar   \n",
       "30                                   Sunil Vedula   \n",
       "31                                    Rajat Kumar   \n",
       "32                                Dhruv Dev Dubey   \n",
       "33                                  Avnish Mishra   \n",
       "34                                      Jayanth N   \n",
       "35                                         Avodha   \n",
       "36                                    Priya Khare   \n",
       "37                                    Amit Sharma   \n",
       "38                                          Kanan   \n",
       "39                           Shashikant Chaudhary   \n",
       "40                                           Brad   \n",
       "41                                   Rutuja Pawar   \n",
       "42                            Madhusudhan Sridhar   \n",
       "43                                    Ankit Sinha   \n",
       "44                                 Gaurav Chouhan   \n",
       "45                                   Rashi Kacker   \n",
       "46                                        Ashwini   \n",
       "47                                   Balaji Kolli   \n",
       "48                                 Rajani Nagaraj   \n",
       "\n",
       "                                   Designation  \\\n",
       "0                                   HR Manager   \n",
       "1                            Company Recruiter   \n",
       "2                                   Company HR   \n",
       "3                            Company Recruiter   \n",
       "4                                  Founder CEO   \n",
       "5                  Recruitment Lead Consultant   \n",
       "6                            Programme Manager   \n",
       "7                             HR Administrator   \n",
       "8                                     Director   \n",
       "9                               Human Resource   \n",
       "10                            Executive Hiring   \n",
       "11                                  Company HR   \n",
       "12                                  Company HR   \n",
       "13                                  HR Manager   \n",
       "14                                  HR Manager   \n",
       "15                                HR Team Lead   \n",
       "16                                HR Executive   \n",
       "17                        Assistant Manager HR   \n",
       "18         Senior Executive Talent Acquisition   \n",
       "19                                HR Executive   \n",
       "20                  Manager Talent Acquisition   \n",
       "21                                     HR Head   \n",
       "22                                  HR MANAGER   \n",
       "23                                HR Recruiter   \n",
       "24                                HR Recruiter   \n",
       "25                     Manager Human Resources   \n",
       "26                           Company Recruiter   \n",
       "27                           Company Recruiter   \n",
       "28                     Lead Talent acquisition   \n",
       "29                                  Proprietor   \n",
       "30                                         CEO   \n",
       "31                                 Founder CEO   \n",
       "32                    Company Recruitment Head   \n",
       "33  Senior Technical &amp; Corporate Recruiter   \n",
       "34                             Project Manager   \n",
       "35              Business Development Associate   \n",
       "36                              Senior Manager   \n",
       "37                                  Consultant   \n",
       "38                senior technology instructor   \n",
       "39                    HR Recruiter/HR Excutive   \n",
       "40               Manager, Technical Recruiting   \n",
       "41                         Technical Recruiter   \n",
       "42                             Erp Implementer   \n",
       "43                              Head Analytics   \n",
       "44                     Chief Technical Officer   \n",
       "45                          Sr Product Manager   \n",
       "46                    Director Global Delivery   \n",
       "47                                  Co Founder   \n",
       "48                                  HR Manager   \n",
       "\n",
       "                                           Company  \\\n",
       "0                             Data Science Network   \n",
       "1                    Shore Infotech India Pvt. Ltd   \n",
       "2                         MARSIAN Technologies LLP   \n",
       "3            Enerlytics Software Solutions Pvt Ltd   \n",
       "4                                  LibraryXProject   \n",
       "5       Apidel Technologies Division of Transpower   \n",
       "6                                             IFMR   \n",
       "7                      Techvantage Systems Pvt Ltd   \n",
       "8                       Weupskill- Live Wire India   \n",
       "9                 CBL Data Science Private Limited   \n",
       "10                              Innominds Software   \n",
       "11                                        MoneyTap   \n",
       "12              QuantMagnum Technologies Pvt. Ltd.   \n",
       "13                   Infinitive Software Solutions   \n",
       "14                                  BISP Solutions   \n",
       "15                               SocialPrachar.com   \n",
       "16                             Codeachive learning   \n",
       "17                   BIZ INFOTECNO PRIVATE LIMITED   \n",
       "18                           Bristlecone India Ltd   \n",
       "19                                        Easi Tax   \n",
       "20                     Novelworx Digital Solutions   \n",
       "21         AXESTRACK SOFTWARE SOLUTIONS PRIVATE...   \n",
       "22                   FirstTech Consaltants Pvt.Ltd   \n",
       "23                                Affine Analytics   \n",
       "24                 Compumatrice Multimedia Pvt Ltd   \n",
       "25                              Exela Technologies   \n",
       "26                                          ZIGRAM   \n",
       "27                 NEAL ANALYTICS SERVICES PVT LTD   \n",
       "28      Autumn Leaf Consulting Services Private...   \n",
       "29                                         trainin   \n",
       "30                            Nanoprecise Sci Corp   \n",
       "31                  R.S Consultancy &amp; Services   \n",
       "32                               NETAPS FOUNDATION   \n",
       "33                   RMS Risk Management Solutions   \n",
       "34        Dollarbird Information Services Pvt, Ltd   \n",
       "35                              Nikitha Palaparthi   \n",
       "36                          Independent Consultant   \n",
       "37                                 ASCO consulting   \n",
       "38                                         NY INST   \n",
       "39  3D India Staffing Research &amp; Consulting...   \n",
       "40                                     O.C. Tanner   \n",
       "41                                   Demand Matrix   \n",
       "42                             MADHUSUDHAN SRIDHAR   \n",
       "43                                  Suntech Global   \n",
       "44                        Strategic Consulting Lab   \n",
       "45                            Impel Labs Pvt. Ltd.   \n",
       "46                                    MRP Advisers   \n",
       "47                   Saras Solutions India Pvt Ltd   \n",
       "48                                     WildJasmine   \n",
       "\n",
       "                                 Skills they hire for  \\\n",
       "0   Classic ASP Developer, Internet Marketing Prof...   \n",
       "1   .Net, Java, Data Science, Linux Administration...   \n",
       "2   Data Science, Artificial Intelligence, Machine...   \n",
       "3   Mean Stack, javascript, angularjs, mongodb, We...   \n",
       "4   Hadoop, Spark, Digital Strategy, Data Architec...   \n",
       "5   Analytics, Business Intelligence, Business Ana...   \n",
       "6                                        Data Science   \n",
       "7   Machine Learning, algorithms, Go Getter, Compu...   \n",
       "8   Technical Training, Software Development, Pres...   \n",
       "9   Software Development, It Sales, Account Manage...   \n",
       "10  Qa, Ui/ux, Java Developer, Java Architect, C++...   \n",
       "11  Business Intelligence, Data Warehousing, Data ...   \n",
       "12  Office Administration, Hr Administration, tele...   \n",
       "13  Oracle Dba, Data Science, Data Warehousing, ET...   \n",
       "14     Big Data, Hadoop, Data Analytics, Data Science   \n",
       "15  Social Media, digital media maketing, seo, smm...   \n",
       "16               Data Science, Python, Data Analytics   \n",
       "17  React.js, Data Science, Java, Front End, Busin...   \n",
       "18  Qlikview, Qlik Sense, Microsoft Azure, Power B...   \n",
       "19  Telecalling, Client Interaction, Marketing, Re...   \n",
       "20                                       Data Science   \n",
       "21  Corporate Sales, Software Development, Softwar...   \n",
       "22  Data Analytics, Data Science, Machine Learning...   \n",
       "23  Data Science, Machine Learning, Python, R, Dee...   \n",
       "24  Big Data, Data Science, Artificial Intelligenc...   \n",
       "25  Java, Net, Angularjs, Hr, Infrastructure, Mana...   \n",
       "26  Research, Digital Marketing, Analytics, Softwa...   \n",
       "27  Data Science, Artificial Intelligence, Machine...   \n",
       "28  Software Architecture, Vp Engineering, Product...   \n",
       "29  Data Science, Hadoop, Rpas, Devops, Python, Aw...   \n",
       "30  Signal Processing, Machine Learning, Neural Ne...   \n",
       "31  Web Technologies, Project Management, Software...   \n",
       "32  Server Administartion, Verilog, Vhdl, Digital ...   \n",
       "33  Data Science, Machine Learning, Deep Learning,...   \n",
       "34  Data Analytics, Managed Services, Team Leading...   \n",
       "35  Ethical Hacking, Security Operations Center, S...   \n",
       "36  Data Science, Artificial Intelligence, analyti...   \n",
       "37  Machine Learning, Artificial Intelligence, Dat...   \n",
       "38  C, C++, Artificial Intelligence, Python, Php, ...   \n",
       "39  Relationship Management, Retail Sales, Private...   \n",
       "40                 Data Science, Software Engineering   \n",
       "41  Data Science, Big Data Analytics, Digital Mark...   \n",
       "42                  Data Science, Recruitment, Salary   \n",
       "43  B.Tech, Tableau, Statistics, R, Analytics, Tim...   \n",
       "44  Software Development, Business Intelligence, B...   \n",
       "45                   Data Science, Node.js, Angularjs   \n",
       "46  Data Science, Media Marketing, Resource Planni...   \n",
       "47  Data Analysis, Learning, Data Science, Compute...   \n",
       "48  Java, Hadoop, R, Machine Learning, Spark, Flum...   \n",
       "\n",
       "                    Location  \n",
       "0                      Delhi  \n",
       "1   Hyderabad / Secunderabad  \n",
       "2                       Pune  \n",
       "3                  Ahmedabad  \n",
       "4              UK - (london)  \n",
       "5          Vadodara / Baroda  \n",
       "6                    Chennai  \n",
       "7                 Trivandrum  \n",
       "8                     Indore  \n",
       "9      Bengaluru / Bangalore  \n",
       "10  Hyderabad / Secunderabad  \n",
       "11     Bengaluru / Bangalore  \n",
       "12                    Mumbai  \n",
       "13                 Hyderabad  \n",
       "14                    Bhopal  \n",
       "15  Hyderabad / Secunderabad  \n",
       "16                    Mumbai  \n",
       "17                Chandigarh  \n",
       "18                      Pune  \n",
       "19               Navi Mumbai  \n",
       "20                    Cochin  \n",
       "21                     Delhi  \n",
       "22  Hyderabad / Secunderabad  \n",
       "23                      Pune  \n",
       "24                      Pune  \n",
       "25                      Pune  \n",
       "26                   Gurgaon  \n",
       "27                      Pune  \n",
       "28     Bengaluru / Bangalore  \n",
       "29     Bengaluru / Bangalore  \n",
       "30                     Delhi  \n",
       "31     Bengaluru / Bangalore  \n",
       "32                     Noida  \n",
       "33           Mysoru / Mysore  \n",
       "34  Hyderabad / Secunderabad  \n",
       "35     Bengaluru / Bangalore  \n",
       "36                 New Delhi  \n",
       "37                   Chennai  \n",
       "38                   Aligarh  \n",
       "39            Salt Lake City  \n",
       "40                      Pune  \n",
       "41     Bengaluru / Bangalore  \n",
       "42                    Mumbai  \n",
       "43                    Indore  \n",
       "44     Bengaluru / Bangalore  \n",
       "45                    MYSORE  \n",
       "46  Hyderabad / Secunderabad  \n",
       "47     Bengaluru / Bangalore  \n",
       "48                    Mumbai  "
      ]
     },
     "execution_count": 29,
     "metadata": {},
     "output_type": "execute_result"
    }
   ],
   "source": [
    "DF=pd.DataFrame({\"Name\":Aut,\"Designation\":Auttt,\"Company\":Comp,\"Skills they hire for\":Skill,\"Location\":Loca})\n",
    "DF"
   ]
  },
  {
   "cell_type": "markdown",
   "id": "bc7ff49d",
   "metadata": {},
   "source": [
    "# Question no 4"
   ]
  },
  {
   "cell_type": "code",
   "execution_count": 3,
   "id": "31122cb5",
   "metadata": {},
   "outputs": [],
   "source": [
    "#connect to the driver\n",
    "driver=webdriver.Chrome(r\"C:\\Users\\91969\\Downloads\\chromedriver_win32\\chromedriver.exe\")"
   ]
  },
  {
   "cell_type": "code",
   "execution_count": 4,
   "id": "84ac4be8",
   "metadata": {},
   "outputs": [],
   "source": [
    "driver.get(\"https://github.com/trending\")"
   ]
  },
  {
   "cell_type": "code",
   "execution_count": 5,
   "id": "2e8631cd",
   "metadata": {},
   "outputs": [],
   "source": [
    "Title=[]\n",
    "title=driver.find_elements(By.XPATH,'//span[@class=\"text-normal\"]')\n",
    "for i in title[0:22]:\n",
    "    Title.append(i.text.split('/')[0])\n",
    "    "
   ]
  },
  {
   "cell_type": "code",
   "execution_count": 6,
   "id": "34cccee9",
   "metadata": {},
   "outputs": [
    {
     "data": {
      "text/plain": [
       "22"
      ]
     },
     "execution_count": 6,
     "metadata": {},
     "output_type": "execute_result"
    }
   ],
   "source": [
    "len(Title)"
   ]
  },
  {
   "cell_type": "code",
   "execution_count": 13,
   "id": "2a580e21",
   "metadata": {},
   "outputs": [],
   "source": [
    "Desc=[]\n",
    "desc=driver.find_elements(By.XPATH,'//p[@class=\"col-9 color-fg-muted my-1 pr-4\"]')\n",
    "for i in desc[0:22]:\n",
    "    Desc.append(i.text)\n",
    "    "
   ]
  },
  {
   "cell_type": "code",
   "execution_count": 14,
   "id": "3b02b627",
   "metadata": {},
   "outputs": [
    {
     "data": {
      "text/plain": [
       "22"
      ]
     },
     "execution_count": 14,
     "metadata": {},
     "output_type": "execute_result"
    }
   ],
   "source": [
    "len(Desc)"
   ]
  },
  {
   "cell_type": "code",
   "execution_count": 9,
   "id": "efb742f5",
   "metadata": {},
   "outputs": [],
   "source": [
    "Lang=[]\n",
    "lang=driver.find_elements(By.XPATH,'//span[@class=\"d-inline-block ml-0 mr-3\"]')\n",
    "for i in lang[0:22]:\n",
    "    Lang.append(i.text)\n",
    "    "
   ]
  },
  {
   "cell_type": "code",
   "execution_count": 10,
   "id": "5ac58b3f",
   "metadata": {},
   "outputs": [
    {
     "data": {
      "text/plain": [
       "22"
      ]
     },
     "execution_count": 10,
     "metadata": {},
     "output_type": "execute_result"
    }
   ],
   "source": [
    "len(Lang)"
   ]
  },
  {
   "cell_type": "code",
   "execution_count": 11,
   "id": "284e4518",
   "metadata": {},
   "outputs": [],
   "source": [
    "repo_urls=[]\n",
    "\n",
    "repository = driver.find_elements(By.XPATH,\"//h1[@class = 'h3 lh-condensed']//a\")\n",
    "\n",
    "for i in repository[0:22]:\n",
    "\n",
    "    repo_urls.append(i.get_attribute(\"href\"))\n",
    "    "
   ]
  },
  {
   "cell_type": "code",
   "execution_count": 12,
   "id": "552d9e15",
   "metadata": {},
   "outputs": [
    {
     "data": {
      "text/plain": [
       "[]"
      ]
     },
     "execution_count": 12,
     "metadata": {},
     "output_type": "execute_result"
    }
   ],
   "source": [
    "repo_urls"
   ]
  },
  {
   "cell_type": "code",
   "execution_count": 15,
   "id": "adf9d3d0",
   "metadata": {},
   "outputs": [
    {
     "data": {
      "text/html": [
       "<div>\n",
       "<style scoped>\n",
       "    .dataframe tbody tr th:only-of-type {\n",
       "        vertical-align: middle;\n",
       "    }\n",
       "\n",
       "    .dataframe tbody tr th {\n",
       "        vertical-align: top;\n",
       "    }\n",
       "\n",
       "    .dataframe thead th {\n",
       "        text-align: right;\n",
       "    }\n",
       "</style>\n",
       "<table border=\"1\" class=\"dataframe\">\n",
       "  <thead>\n",
       "    <tr style=\"text-align: right;\">\n",
       "      <th></th>\n",
       "      <th>Repository Title</th>\n",
       "      <th>Repository Description</th>\n",
       "      <th>Language Used</th>\n",
       "    </tr>\n",
       "  </thead>\n",
       "  <tbody>\n",
       "    <tr>\n",
       "      <th>0</th>\n",
       "      <td>xtekky</td>\n",
       "      <td>decentralising the Ai Industry, just some lang...</td>\n",
       "      <td>Python</td>\n",
       "    </tr>\n",
       "    <tr>\n",
       "      <th>1</th>\n",
       "      <td>AIGC-Audio</td>\n",
       "      <td>AudioGPT: Understanding and Generating Speech,...</td>\n",
       "      <td>Python</td>\n",
       "    </tr>\n",
       "    <tr>\n",
       "      <th>2</th>\n",
       "      <td>gaomingqi</td>\n",
       "      <td>Track-Anything is a flexible and interactive t...</td>\n",
       "      <td>Python</td>\n",
       "    </tr>\n",
       "    <tr>\n",
       "      <th>3</th>\n",
       "      <td>Eugeny</td>\n",
       "      <td>A terminal for a more modern age</td>\n",
       "      <td>TypeScript</td>\n",
       "    </tr>\n",
       "    <tr>\n",
       "      <th>4</th>\n",
       "      <td>whoiskatrin</td>\n",
       "      <td>AI tool to build charts based on text input</td>\n",
       "      <td>TypeScript</td>\n",
       "    </tr>\n",
       "    <tr>\n",
       "      <th>5</th>\n",
       "      <td>apple</td>\n",
       "      <td>The Foundation project</td>\n",
       "      <td>Swift</td>\n",
       "    </tr>\n",
       "    <tr>\n",
       "      <th>6</th>\n",
       "      <td>gmpetrov</td>\n",
       "      <td>The no-code platform for connecting custom dat...</td>\n",
       "      <td>TypeScript</td>\n",
       "    </tr>\n",
       "    <tr>\n",
       "      <th>7</th>\n",
       "      <td>deep-floyd</td>\n",
       "      <td>Official implementation of the paper \"Segment ...</td>\n",
       "      <td>Python</td>\n",
       "    </tr>\n",
       "    <tr>\n",
       "      <th>8</th>\n",
       "      <td>UX-Decoder</td>\n",
       "      <td>WizardLM: Empowering Large Pre-Trained Languag...</td>\n",
       "      <td>Python</td>\n",
       "    </tr>\n",
       "    <tr>\n",
       "      <th>9</th>\n",
       "      <td>nlpxucan</td>\n",
       "      <td>[秋城落叶] QQ 音乐源无损歌曲下载</td>\n",
       "      <td>Python</td>\n",
       "    </tr>\n",
       "    <tr>\n",
       "      <th>10</th>\n",
       "      <td>QiuChenly</td>\n",
       "      <td>😎 Awesome lists about all kinds of interesting...</td>\n",
       "      <td>Python</td>\n",
       "    </tr>\n",
       "    <tr>\n",
       "      <th>11</th>\n",
       "      <td>sindresorhus</td>\n",
       "      <td>The Generative AI Landscape - A Collection of ...</td>\n",
       "      <td>Python</td>\n",
       "    </tr>\n",
       "    <tr>\n",
       "      <th>12</th>\n",
       "      <td>ai-collection</td>\n",
       "      <td>A GPT-empowered penetration testing tool</td>\n",
       "      <td>Rust</td>\n",
       "    </tr>\n",
       "    <tr>\n",
       "      <th>13</th>\n",
       "      <td>GreyDGL</td>\n",
       "      <td>An Open Source Financial Switch to make Paymen...</td>\n",
       "      <td>Python</td>\n",
       "    </tr>\n",
       "    <tr>\n",
       "      <th>14</th>\n",
       "      <td>juspay</td>\n",
       "      <td>Dark and Darker private server implementation ...</td>\n",
       "      <td>Python</td>\n",
       "    </tr>\n",
       "    <tr>\n",
       "      <th>15</th>\n",
       "      <td>Snaacky</td>\n",
       "      <td>NeMo Guardrails is an open-source toolkit for ...</td>\n",
       "      <td>Python</td>\n",
       "    </tr>\n",
       "    <tr>\n",
       "      <th>16</th>\n",
       "      <td>NVIDIA</td>\n",
       "      <td>Modular Auto-GPT Framework</td>\n",
       "      <td>Python</td>\n",
       "    </tr>\n",
       "    <tr>\n",
       "      <th>17</th>\n",
       "      <td>farizrahman4u</td>\n",
       "      <td>SkyAGI: Emerging human-behavior simulation cap...</td>\n",
       "      <td>Python</td>\n",
       "    </tr>\n",
       "    <tr>\n",
       "      <th>18</th>\n",
       "      <td>litanlitudan</td>\n",
       "      <td>The AutoGPT MetaTrader Plugin is a software to...</td>\n",
       "      <td>Python</td>\n",
       "    </tr>\n",
       "    <tr>\n",
       "      <th>19</th>\n",
       "      <td>isaiahbjork</td>\n",
       "      <td>Fine-tuning LLaMA to follow Instructions withi...</td>\n",
       "      <td>JavaScript</td>\n",
       "    </tr>\n",
       "    <tr>\n",
       "      <th>20</th>\n",
       "      <td>ZrrSkywalker</td>\n",
       "      <td>A full-featured download manager.</td>\n",
       "      <td>Python</td>\n",
       "    </tr>\n",
       "    <tr>\n",
       "      <th>21</th>\n",
       "      <td>agalwood</td>\n",
       "      <td>交易模块</td>\n",
       "      <td>JavaScript</td>\n",
       "    </tr>\n",
       "  </tbody>\n",
       "</table>\n",
       "</div>"
      ],
      "text/plain": [
       "   Repository Title                             Repository Description  \\\n",
       "0           xtekky   decentralising the Ai Industry, just some lang...   \n",
       "1       AIGC-Audio   AudioGPT: Understanding and Generating Speech,...   \n",
       "2        gaomingqi   Track-Anything is a flexible and interactive t...   \n",
       "3           Eugeny                    A terminal for a more modern age   \n",
       "4      whoiskatrin         AI tool to build charts based on text input   \n",
       "5            apple                              The Foundation project   \n",
       "6         gmpetrov   The no-code platform for connecting custom dat...   \n",
       "7       deep-floyd   Official implementation of the paper \"Segment ...   \n",
       "8       UX-Decoder   WizardLM: Empowering Large Pre-Trained Languag...   \n",
       "9         nlpxucan                                 [秋城落叶] QQ 音乐源无损歌曲下载   \n",
       "10       QiuChenly   😎 Awesome lists about all kinds of interesting...   \n",
       "11    sindresorhus   The Generative AI Landscape - A Collection of ...   \n",
       "12   ai-collection            A GPT-empowered penetration testing tool   \n",
       "13         GreyDGL   An Open Source Financial Switch to make Paymen...   \n",
       "14          juspay   Dark and Darker private server implementation ...   \n",
       "15         Snaacky   NeMo Guardrails is an open-source toolkit for ...   \n",
       "16          NVIDIA                          Modular Auto-GPT Framework   \n",
       "17   farizrahman4u   SkyAGI: Emerging human-behavior simulation cap...   \n",
       "18    litanlitudan   The AutoGPT MetaTrader Plugin is a software to...   \n",
       "19     isaiahbjork   Fine-tuning LLaMA to follow Instructions withi...   \n",
       "20    ZrrSkywalker                   A full-featured download manager.   \n",
       "21        agalwood                                                交易模块   \n",
       "\n",
       "   Language Used  \n",
       "0         Python  \n",
       "1         Python  \n",
       "2         Python  \n",
       "3     TypeScript  \n",
       "4     TypeScript  \n",
       "5          Swift  \n",
       "6     TypeScript  \n",
       "7         Python  \n",
       "8         Python  \n",
       "9         Python  \n",
       "10        Python  \n",
       "11        Python  \n",
       "12          Rust  \n",
       "13        Python  \n",
       "14        Python  \n",
       "15        Python  \n",
       "16        Python  \n",
       "17        Python  \n",
       "18        Python  \n",
       "19    JavaScript  \n",
       "20        Python  \n",
       "21    JavaScript  "
      ]
     },
     "execution_count": 15,
     "metadata": {},
     "output_type": "execute_result"
    }
   ],
   "source": [
    "DF=pd.DataFrame({\"Repository Title\":Title,\"Repository Description\":Desc,\"Language Used\":Lang})\n",
    "DF"
   ]
  },
  {
   "cell_type": "markdown",
   "id": "3b367463",
   "metadata": {},
   "source": [
    "# Question no 2"
   ]
  },
  {
   "cell_type": "code",
   "execution_count": 17,
   "id": "b8b1b251",
   "metadata": {},
   "outputs": [],
   "source": [
    "#connect to the driver\n",
    "driver=webdriver.Chrome(r\"C:\\Users\\91969\\Downloads\\chromedriver_win32\\chromedriver.exe\")"
   ]
  },
  {
   "cell_type": "code",
   "execution_count": 18,
   "id": "84faa012",
   "metadata": {},
   "outputs": [],
   "source": [
    "driver.get(\" https://www.bcci.tv\")"
   ]
  },
  {
   "cell_type": "code",
   "execution_count": 19,
   "id": "0652d260",
   "metadata": {},
   "outputs": [],
   "source": [
    "search=driver.find_element(By.XPATH,'/html/body/nav/div[1]/div[2]/ul[1]/li[2]/a')\n",
    "search.click()"
   ]
  },
  {
   "cell_type": "code",
   "execution_count": 20,
   "id": "88e68e1c",
   "metadata": {},
   "outputs": [],
   "source": [
    "title=[]\n",
    "Title=driver.find_element(By.XPATH,'/html/body/div[2]/div[2]/div/div/div/div[2]/div[3]/div/div/div/div[1]/h5')\n",
    "title.append(Title.text)"
   ]
  },
  {
   "cell_type": "code",
   "execution_count": 21,
   "id": "c3683fdb",
   "metadata": {},
   "outputs": [
    {
     "data": {
      "text/plain": [
       "['ICC WORLD TEST CHAMPIONSHIP FINAL 2023']"
      ]
     },
     "execution_count": 21,
     "metadata": {},
     "output_type": "execute_result"
    }
   ],
   "source": [
    "title"
   ]
  },
  {
   "cell_type": "code",
   "execution_count": 22,
   "id": "a33ad049",
   "metadata": {},
   "outputs": [],
   "source": [
    "Place=[]\n",
    "place=driver.find_element(By.XPATH,'/html/body/div[2]/div[2]/div/div/div/div[2]/div[3]/div/div/div/div[3]/div')\n",
    "Place.append(place.text.split('-')[1])"
   ]
  },
  {
   "cell_type": "code",
   "execution_count": 23,
   "id": "9359d98c",
   "metadata": {},
   "outputs": [
    {
     "data": {
      "text/plain": [
       "[' Kennington Oval, London']"
      ]
     },
     "execution_count": 23,
     "metadata": {},
     "output_type": "execute_result"
    }
   ],
   "source": [
    "Place"
   ]
  },
  {
   "cell_type": "code",
   "execution_count": 25,
   "id": "4d90f064",
   "metadata": {},
   "outputs": [],
   "source": [
    "Date=[]\n",
    "date=driver.find_element(By.XPATH,'/html/body/div[2]/div[2]/div/div/div/div[2]/div[3]/div/div/div/div[1]/div/div[1]')\n",
    "Date.append(date.text)"
   ]
  },
  {
   "cell_type": "code",
   "execution_count": 26,
   "id": "395b12df",
   "metadata": {},
   "outputs": [
    {
     "data": {
      "text/plain": [
       "['7 JUN 2023']"
      ]
     },
     "execution_count": 26,
     "metadata": {},
     "output_type": "execute_result"
    }
   ],
   "source": [
    "Date"
   ]
  },
  {
   "cell_type": "code",
   "execution_count": 27,
   "id": "9a124322",
   "metadata": {},
   "outputs": [],
   "source": [
    "Time=[]\n",
    "time=driver.find_element(By.XPATH,'/html/body/div[2]/div[2]/div/div/div/div[2]/div[3]/div/div/div/div[1]/div/div[2]')\n",
    "Time.append(time.text)"
   ]
  },
  {
   "cell_type": "code",
   "execution_count": 28,
   "id": "d0012688",
   "metadata": {},
   "outputs": [
    {
     "data": {
      "text/plain": [
       "['3:30 PM IST']"
      ]
     },
     "execution_count": 28,
     "metadata": {},
     "output_type": "execute_result"
    }
   ],
   "source": [
    "Time"
   ]
  },
  {
   "cell_type": "code",
   "execution_count": 29,
   "id": "a16e15c3",
   "metadata": {},
   "outputs": [
    {
     "data": {
      "text/html": [
       "<div>\n",
       "<style scoped>\n",
       "    .dataframe tbody tr th:only-of-type {\n",
       "        vertical-align: middle;\n",
       "    }\n",
       "\n",
       "    .dataframe tbody tr th {\n",
       "        vertical-align: top;\n",
       "    }\n",
       "\n",
       "    .dataframe thead th {\n",
       "        text-align: right;\n",
       "    }\n",
       "</style>\n",
       "<table border=\"1\" class=\"dataframe\">\n",
       "  <thead>\n",
       "    <tr style=\"text-align: right;\">\n",
       "      <th></th>\n",
       "      <th>Match Title</th>\n",
       "      <th>Series</th>\n",
       "      <th>Place</th>\n",
       "      <th>Date</th>\n",
       "      <th>Time</th>\n",
       "    </tr>\n",
       "  </thead>\n",
       "  <tbody>\n",
       "    <tr>\n",
       "      <th>0</th>\n",
       "      <td>ICC WORLD TEST CHAMPIONSHIP FINAL 2023</td>\n",
       "      <td>ICC WORLD TEST CHAMPIONSHIP FINAL 2023</td>\n",
       "      <td>Kennington Oval, London</td>\n",
       "      <td>7 JUN 2023</td>\n",
       "      <td>3:30 PM IST</td>\n",
       "    </tr>\n",
       "  </tbody>\n",
       "</table>\n",
       "</div>"
      ],
      "text/plain": [
       "                              Match Title  \\\n",
       "0  ICC WORLD TEST CHAMPIONSHIP FINAL 2023   \n",
       "\n",
       "                                   Series                     Place  \\\n",
       "0  ICC WORLD TEST CHAMPIONSHIP FINAL 2023   Kennington Oval, London   \n",
       "\n",
       "         Date         Time  \n",
       "0  7 JUN 2023  3:30 PM IST  "
      ]
     },
     "execution_count": 29,
     "metadata": {},
     "output_type": "execute_result"
    }
   ],
   "source": [
    "Df=pd.DataFrame({\"Match Title\":title,\"Series\":title,\"Place\":Place,\"Date\":Date,\"Time\":Time})\n",
    "Df"
   ]
  },
  {
   "cell_type": "markdown",
   "id": "ff0a6e93",
   "metadata": {},
   "source": [
    "# Quetion no 5"
   ]
  },
  {
   "cell_type": "code",
   "execution_count": 5,
   "id": "97d362c1",
   "metadata": {},
   "outputs": [],
   "source": [
    "#connect to the driver\n",
    "driver=webdriver.Chrome(r\"C:\\Users\\91969\\Downloads\\chromedriver_win32\\chromedriver.exe\")"
   ]
  },
  {
   "cell_type": "code",
   "execution_count": 7,
   "id": "79524f0e",
   "metadata": {},
   "outputs": [],
   "source": [
    "driver.get(\"https://www.billboard.com\")"
   ]
  },
  {
   "cell_type": "code",
   "execution_count": 8,
   "id": "ba0a6c85",
   "metadata": {},
   "outputs": [],
   "source": [
    "location=driver.find_element(By.XPATH,'/html/body/div[3]/div[9]/div/div/div/ul/li[1]/h3/a')\n",
    "location.click()"
   ]
  },
  {
   "cell_type": "code",
   "execution_count": 9,
   "id": "b31964f8",
   "metadata": {},
   "outputs": [],
   "source": [
    "hot=driver.find_element(By.XPATH,'/html/body/div[3]/main/div[2]/div[1]/div[1]/div/div/div[1]/div[1]/div[2]/span/a')\n",
    "hot.click()"
   ]
  },
  {
   "cell_type": "code",
   "execution_count": 10,
   "id": "aae8a143",
   "metadata": {},
   "outputs": [],
   "source": [
    "Loca=[]\n",
    "loca=driver.find_elements(By.XPATH,'//li[@class=\"lrv-u-width-100p\"]/ul/li[1]/h3')\n",
    "for i in loca:\n",
    "    Loca.append(i.text)\n",
    "    "
   ]
  },
  {
   "cell_type": "code",
   "execution_count": 12,
   "id": "7475ef4a",
   "metadata": {},
   "outputs": [
    {
     "data": {
      "text/plain": [
       "100"
      ]
     },
     "execution_count": 12,
     "metadata": {},
     "output_type": "execute_result"
    }
   ],
   "source": [
    "len(Loca)"
   ]
  },
  {
   "cell_type": "code",
   "execution_count": 13,
   "id": "04d0f839",
   "metadata": {},
   "outputs": [],
   "source": [
    "Last=[]\n",
    "last=driver.find_elements(By.XPATH,'//li[@class=\"lrv-u-width-100p\"]/ul/li[4]/span')\n",
    "for i in last:\n",
    "    Last.append(i.text.replace('-','NaN'))\n",
    "    "
   ]
  },
  {
   "cell_type": "code",
   "execution_count": 15,
   "id": "ad937770",
   "metadata": {},
   "outputs": [
    {
     "data": {
      "text/plain": [
       "100"
      ]
     },
     "execution_count": 15,
     "metadata": {},
     "output_type": "execute_result"
    }
   ],
   "source": [
    "len(Last)"
   ]
  },
  {
   "cell_type": "code",
   "execution_count": 16,
   "id": "35a85055",
   "metadata": {},
   "outputs": [],
   "source": [
    "Art=[]\n",
    "art=driver.find_elements(By.XPATH,'//li[@class=\"lrv-u-width-100p\"]/ul/li[1]/span')\n",
    "for i in art:\n",
    "    Art.append(i.text.replace('-','NaN'))\n",
    "    "
   ]
  },
  {
   "cell_type": "code",
   "execution_count": 18,
   "id": "d3198cfa",
   "metadata": {},
   "outputs": [
    {
     "data": {
      "text/plain": [
       "100"
      ]
     },
     "execution_count": 18,
     "metadata": {},
     "output_type": "execute_result"
    }
   ],
   "source": [
    "len(Art)"
   ]
  },
  {
   "cell_type": "code",
   "execution_count": 19,
   "id": "0d3042da",
   "metadata": {},
   "outputs": [],
   "source": [
    "Peak=[]\n",
    "peak=driver.find_elements(By.XPATH,'//li[@class=\"lrv-u-width-100p\"]/ul/li[5]/span')\n",
    "for i in peak:\n",
    "    Peak.append(i.text.replace('-','NaN'))\n",
    "    "
   ]
  },
  {
   "cell_type": "code",
   "execution_count": 21,
   "id": "5bef7aa4",
   "metadata": {},
   "outputs": [
    {
     "data": {
      "text/plain": [
       "100"
      ]
     },
     "execution_count": 21,
     "metadata": {},
     "output_type": "execute_result"
    }
   ],
   "source": [
    "len(Peak)"
   ]
  },
  {
   "cell_type": "code",
   "execution_count": 22,
   "id": "56f11fc1",
   "metadata": {},
   "outputs": [],
   "source": [
    "Week=[]\n",
    "week=driver.find_elements(By.XPATH,'//li[@class=\"lrv-u-width-100p\"]/ul/li[6]/span')\n",
    "for i in week:\n",
    "    Week.append(i.text.replace('-','NaN'))\n",
    "    "
   ]
  },
  {
   "cell_type": "code",
   "execution_count": 24,
   "id": "c434f648",
   "metadata": {},
   "outputs": [
    {
     "data": {
      "text/plain": [
       "100"
      ]
     },
     "execution_count": 24,
     "metadata": {},
     "output_type": "execute_result"
    }
   ],
   "source": [
    "len(Week)"
   ]
  },
  {
   "cell_type": "code",
   "execution_count": 25,
   "id": "949c2aad",
   "metadata": {},
   "outputs": [
    {
     "data": {
      "text/html": [
       "<div>\n",
       "<style scoped>\n",
       "    .dataframe tbody tr th:only-of-type {\n",
       "        vertical-align: middle;\n",
       "    }\n",
       "\n",
       "    .dataframe tbody tr th {\n",
       "        vertical-align: top;\n",
       "    }\n",
       "\n",
       "    .dataframe thead th {\n",
       "        text-align: right;\n",
       "    }\n",
       "</style>\n",
       "<table border=\"1\" class=\"dataframe\">\n",
       "  <thead>\n",
       "    <tr style=\"text-align: right;\">\n",
       "      <th></th>\n",
       "      <th>Song Name</th>\n",
       "      <th>Artist Name</th>\n",
       "      <th>Peak Rank</th>\n",
       "      <th>Weeks On Board</th>\n",
       "      <th>Last Week Rank</th>\n",
       "    </tr>\n",
       "  </thead>\n",
       "  <tbody>\n",
       "    <tr>\n",
       "      <th>0</th>\n",
       "      <td>Kill Bill</td>\n",
       "      <td>SZA</td>\n",
       "      <td>1</td>\n",
       "      <td>19</td>\n",
       "      <td>4</td>\n",
       "    </tr>\n",
       "    <tr>\n",
       "      <th>1</th>\n",
       "      <td>Last Night</td>\n",
       "      <td>Morgan Wallen</td>\n",
       "      <td>1</td>\n",
       "      <td>12</td>\n",
       "      <td>1</td>\n",
       "    </tr>\n",
       "    <tr>\n",
       "      <th>2</th>\n",
       "      <td>Flowers</td>\n",
       "      <td>Miley Cyrus</td>\n",
       "      <td>1</td>\n",
       "      <td>14</td>\n",
       "      <td>3</td>\n",
       "    </tr>\n",
       "    <tr>\n",
       "      <th>3</th>\n",
       "      <td>Princess Diana</td>\n",
       "      <td>Ice Spice &amp; Nicki Minaj</td>\n",
       "      <td>4</td>\n",
       "      <td>1</td>\n",
       "      <td>NaN</td>\n",
       "    </tr>\n",
       "    <tr>\n",
       "      <th>4</th>\n",
       "      <td>Ella Baila Sola</td>\n",
       "      <td>Eslabon Armado X Peso Pluma</td>\n",
       "      <td>5</td>\n",
       "      <td>5</td>\n",
       "      <td>10</td>\n",
       "    </tr>\n",
       "    <tr>\n",
       "      <th>...</th>\n",
       "      <td>...</td>\n",
       "      <td>...</td>\n",
       "      <td>...</td>\n",
       "      <td>...</td>\n",
       "      <td>...</td>\n",
       "    </tr>\n",
       "    <tr>\n",
       "      <th>95</th>\n",
       "      <td>Memory Lane</td>\n",
       "      <td>Old Dominion</td>\n",
       "      <td>96</td>\n",
       "      <td>3</td>\n",
       "      <td>96</td>\n",
       "    </tr>\n",
       "    <tr>\n",
       "      <th>96</th>\n",
       "      <td>Love Again</td>\n",
       "      <td>The Kid LAROI</td>\n",
       "      <td>40</td>\n",
       "      <td>12</td>\n",
       "      <td>88</td>\n",
       "    </tr>\n",
       "    <tr>\n",
       "      <th>97</th>\n",
       "      <td>'98 Braves</td>\n",
       "      <td>Morgan Wallen</td>\n",
       "      <td>27</td>\n",
       "      <td>7</td>\n",
       "      <td>100</td>\n",
       "    </tr>\n",
       "    <tr>\n",
       "      <th>98</th>\n",
       "      <td>Di Que Si</td>\n",
       "      <td>Grupo Marca Registrada X Grupo Frontera</td>\n",
       "      <td>99</td>\n",
       "      <td>1</td>\n",
       "      <td>NaN</td>\n",
       "    </tr>\n",
       "    <tr>\n",
       "      <th>99</th>\n",
       "      <td>It Matters To Her</td>\n",
       "      <td>Scotty McCreery</td>\n",
       "      <td>100</td>\n",
       "      <td>1</td>\n",
       "      <td>NaN</td>\n",
       "    </tr>\n",
       "  </tbody>\n",
       "</table>\n",
       "<p>100 rows × 5 columns</p>\n",
       "</div>"
      ],
      "text/plain": [
       "            Song Name                              Artist Name Peak Rank  \\\n",
       "0           Kill Bill                                      SZA         1   \n",
       "1          Last Night                            Morgan Wallen         1   \n",
       "2             Flowers                              Miley Cyrus         1   \n",
       "3      Princess Diana                  Ice Spice & Nicki Minaj         4   \n",
       "4     Ella Baila Sola              Eslabon Armado X Peso Pluma         5   \n",
       "..                ...                                      ...       ...   \n",
       "95        Memory Lane                             Old Dominion        96   \n",
       "96         Love Again                            The Kid LAROI        40   \n",
       "97         '98 Braves                            Morgan Wallen        27   \n",
       "98          Di Que Si  Grupo Marca Registrada X Grupo Frontera        99   \n",
       "99  It Matters To Her                          Scotty McCreery       100   \n",
       "\n",
       "   Weeks On Board Last Week Rank  \n",
       "0              19              4  \n",
       "1              12              1  \n",
       "2              14              3  \n",
       "3               1            NaN  \n",
       "4               5             10  \n",
       "..            ...            ...  \n",
       "95              3             96  \n",
       "96             12             88  \n",
       "97              7            100  \n",
       "98              1            NaN  \n",
       "99              1            NaN  \n",
       "\n",
       "[100 rows x 5 columns]"
      ]
     },
     "execution_count": 25,
     "metadata": {},
     "output_type": "execute_result"
    }
   ],
   "source": [
    "Df=pd.DataFrame({\"Song Name\":Loca,\"Artist Name\":Art,\"Peak Rank\":Peak,\"Weeks On Board\":Week,\"Last Week Rank\":Last})\n",
    "Df"
   ]
  },
  {
   "cell_type": "markdown",
   "id": "2c0bb35e",
   "metadata": {},
   "source": [
    "# Question no 8"
   ]
  },
  {
   "cell_type": "code",
   "execution_count": 26,
   "id": "1032d8c6",
   "metadata": {},
   "outputs": [],
   "source": [
    "#connect to the driver\n",
    "driver=webdriver.Chrome(r\"C:\\Users\\91969\\Downloads\\chromedriver_win32\\chromedriver.exe\")"
   ]
  },
  {
   "cell_type": "code",
   "execution_count": 27,
   "id": "fdce74b4",
   "metadata": {},
   "outputs": [],
   "source": [
    "driver.get(\"https://archive.ics.uci.edu\")"
   ]
  },
  {
   "cell_type": "code",
   "execution_count": 28,
   "id": "d0237669",
   "metadata": {},
   "outputs": [],
   "source": [
    "set=driver.find_element(By.XPATH,'/html/body/table[1]/tbody/tr/td[2]/span[2]/a/font/b')\n",
    "set.click()"
   ]
  },
  {
   "cell_type": "code",
   "execution_count": 32,
   "id": "0f361681",
   "metadata": {},
   "outputs": [],
   "source": [
    "Namee=[]\n",
    "name=driver.find_elements(By.XPATH,'/html/body/table[2]/tbody/tr/td[2]/table[2]/tbody/tr/td[1]')\n",
    "for i in name[1:623]:\n",
    "    Namee.append(i.text)\n",
    "    "
   ]
  },
  {
   "cell_type": "code",
   "execution_count": 33,
   "id": "d7ee611c",
   "metadata": {},
   "outputs": [
    {
     "data": {
      "text/plain": [
       "622"
      ]
     },
     "execution_count": 33,
     "metadata": {},
     "output_type": "execute_result"
    }
   ],
   "source": [
    "len(Namee)"
   ]
  },
  {
   "cell_type": "code",
   "execution_count": 57,
   "id": "544352d0",
   "metadata": {},
   "outputs": [],
   "source": [
    "Typee=[]\n",
    "type=driver.find_elements(By.XPATH,'/html/body/table[2]/tbody/tr/td[2]/table[2]/tbody/tr/td[2]')\n",
    "for i in type[1:623]:\n",
    "    Typee.append(i.text.replace(' ','-'))\n",
    "    "
   ]
  },
  {
   "cell_type": "code",
   "execution_count": 36,
   "id": "b5fe4a5f",
   "metadata": {},
   "outputs": [
    {
     "data": {
      "text/plain": [
       "622"
      ]
     },
     "execution_count": 36,
     "metadata": {},
     "output_type": "execute_result"
    }
   ],
   "source": [
    "len(Type)"
   ]
  },
  {
   "cell_type": "code",
   "execution_count": 43,
   "id": "9335da49",
   "metadata": {},
   "outputs": [],
   "source": [
    "Taskkk=[]\n",
    "try:\n",
    "    task=driver.find_elements(By.XPATH,'/html/body/table[2]/tbody/tr/td[2]/table[2]/tbody/tr/td[3]')\n",
    "    for i in task[1:623]:\n",
    "        Taskkk.append(i.text.replace(' ','-'))\n",
    "except:\n",
    "    Taskkk.append(\"No details available\")\n",
    "    "
   ]
  },
  {
   "cell_type": "code",
   "execution_count": 45,
   "id": "204e8469",
   "metadata": {},
   "outputs": [
    {
     "data": {
      "text/plain": [
       "622"
      ]
     },
     "execution_count": 45,
     "metadata": {},
     "output_type": "execute_result"
    }
   ],
   "source": [
    "len(Taskkk)"
   ]
  },
  {
   "cell_type": "code",
   "execution_count": 46,
   "id": "1f2bcdb9",
   "metadata": {},
   "outputs": [],
   "source": [
    "Att=[]\n",
    "att=driver.find_elements(By.XPATH,'/html/body/table[2]/tbody/tr/td[2]/table[2]/tbody/tr/td[4]')\n",
    "for i in att[1:623]:\n",
    "    Att.append(i.text.replace(' ','-'))\n",
    "    "
   ]
  },
  {
   "cell_type": "code",
   "execution_count": 48,
   "id": "0bcc1208",
   "metadata": {},
   "outputs": [
    {
     "data": {
      "text/plain": [
       "622"
      ]
     },
     "execution_count": 48,
     "metadata": {},
     "output_type": "execute_result"
    }
   ],
   "source": [
    "len(Att)"
   ]
  },
  {
   "cell_type": "code",
   "execution_count": 49,
   "id": "0a416cc1",
   "metadata": {},
   "outputs": [],
   "source": [
    "Inst=[]\n",
    "inst=driver.find_elements(By.XPATH,'/html/body/table[2]/tbody/tr/td[2]/table[2]/tbody/tr/td[5]')\n",
    "for i in inst[1:623]:\n",
    "    Inst.append(i.text.replace(' ','-'))\n",
    "    "
   ]
  },
  {
   "cell_type": "code",
   "execution_count": 51,
   "id": "efac5173",
   "metadata": {},
   "outputs": [
    {
     "data": {
      "text/plain": [
       "622"
      ]
     },
     "execution_count": 51,
     "metadata": {},
     "output_type": "execute_result"
    }
   ],
   "source": [
    "len(Inst)"
   ]
  },
  {
   "cell_type": "code",
   "execution_count": 52,
   "id": "ebbf8663",
   "metadata": {},
   "outputs": [],
   "source": [
    "Num=[]\n",
    "num=driver.find_elements(By.XPATH,'/html/body/table[2]/tbody/tr/td[2]/table[2]/tbody/tr/td[6]')\n",
    "for i in num[1:623]:\n",
    "    Num.append(i.text.replace(' ','-'))\n",
    "    "
   ]
  },
  {
   "cell_type": "code",
   "execution_count": 54,
   "id": "9821847c",
   "metadata": {},
   "outputs": [
    {
     "data": {
      "text/plain": [
       "622"
      ]
     },
     "execution_count": 54,
     "metadata": {},
     "output_type": "execute_result"
    }
   ],
   "source": [
    "len(Num)"
   ]
  },
  {
   "cell_type": "code",
   "execution_count": 55,
   "id": "dc10d60e",
   "metadata": {},
   "outputs": [],
   "source": [
    "Year=[]\n",
    "year=driver.find_elements(By.XPATH,'/html/body/table[2]/tbody/tr/td[2]/table[2]/tbody/tr/td[7]')\n",
    "for i in year[1:623]:\n",
    "    Year.append(i.text.replace(' ','-'))\n",
    "    "
   ]
  },
  {
   "cell_type": "code",
   "execution_count": 58,
   "id": "62d66c3b",
   "metadata": {},
   "outputs": [
    {
     "data": {
      "text/html": [
       "<div>\n",
       "<style scoped>\n",
       "    .dataframe tbody tr th:only-of-type {\n",
       "        vertical-align: middle;\n",
       "    }\n",
       "\n",
       "    .dataframe tbody tr th {\n",
       "        vertical-align: top;\n",
       "    }\n",
       "\n",
       "    .dataframe thead th {\n",
       "        text-align: right;\n",
       "    }\n",
       "</style>\n",
       "<table border=\"1\" class=\"dataframe\">\n",
       "  <thead>\n",
       "    <tr style=\"text-align: right;\">\n",
       "      <th></th>\n",
       "      <th>DataSet Name</th>\n",
       "      <th>Data Type</th>\n",
       "      <th>Task</th>\n",
       "      <th>Attribute Type</th>\n",
       "      <th>No of Instances</th>\n",
       "      <th>No of Attributes</th>\n",
       "      <th>Year</th>\n",
       "    </tr>\n",
       "  </thead>\n",
       "  <tbody>\n",
       "    <tr>\n",
       "      <th>0</th>\n",
       "      <td>Abalone</td>\n",
       "      <td>Multivariate-</td>\n",
       "      <td>Classification-</td>\n",
       "      <td>Categorical,-Integer,-Real-</td>\n",
       "      <td>4177-</td>\n",
       "      <td>8-</td>\n",
       "      <td>1995-</td>\n",
       "    </tr>\n",
       "    <tr>\n",
       "      <th>1</th>\n",
       "      <td>Adult</td>\n",
       "      <td>Multivariate-</td>\n",
       "      <td>Classification-</td>\n",
       "      <td>Categorical,-Integer-</td>\n",
       "      <td>48842-</td>\n",
       "      <td>14-</td>\n",
       "      <td>1996-</td>\n",
       "    </tr>\n",
       "    <tr>\n",
       "      <th>2</th>\n",
       "      <td>Annealing</td>\n",
       "      <td>Multivariate-</td>\n",
       "      <td>Classification-</td>\n",
       "      <td>Categorical,-Integer,-Real-</td>\n",
       "      <td>798-</td>\n",
       "      <td>38-</td>\n",
       "      <td>-</td>\n",
       "    </tr>\n",
       "    <tr>\n",
       "      <th>3</th>\n",
       "      <td>Anonymous Microsoft Web Data</td>\n",
       "      <td>-</td>\n",
       "      <td>Recommender-Systems-</td>\n",
       "      <td>Categorical-</td>\n",
       "      <td>37711-</td>\n",
       "      <td>294-</td>\n",
       "      <td>1998-</td>\n",
       "    </tr>\n",
       "    <tr>\n",
       "      <th>4</th>\n",
       "      <td>Arrhythmia</td>\n",
       "      <td>Multivariate-</td>\n",
       "      <td>Classification-</td>\n",
       "      <td>Categorical,-Integer,-Real-</td>\n",
       "      <td>452-</td>\n",
       "      <td>279-</td>\n",
       "      <td>1998-</td>\n",
       "    </tr>\n",
       "    <tr>\n",
       "      <th>...</th>\n",
       "      <td>...</td>\n",
       "      <td>...</td>\n",
       "      <td>...</td>\n",
       "      <td>...</td>\n",
       "      <td>...</td>\n",
       "      <td>...</td>\n",
       "      <td>...</td>\n",
       "    </tr>\n",
       "    <tr>\n",
       "      <th>617</th>\n",
       "      <td>Influenza outbreak event prediction via Twit...</td>\n",
       "      <td>Multivariate-</td>\n",
       "      <td>Classification-</td>\n",
       "      <td>Integer,-Real-</td>\n",
       "      <td>75840-</td>\n",
       "      <td>525-</td>\n",
       "      <td>2020-</td>\n",
       "    </tr>\n",
       "    <tr>\n",
       "      <th>618</th>\n",
       "      <td>Turkish Music Emotion Dataset</td>\n",
       "      <td>Multivariate-</td>\n",
       "      <td>Classification-</td>\n",
       "      <td>Integer,-Real-</td>\n",
       "      <td>400-</td>\n",
       "      <td>50-</td>\n",
       "      <td>2020-</td>\n",
       "    </tr>\n",
       "    <tr>\n",
       "      <th>619</th>\n",
       "      <td>Maternal Health Risk Data Set</td>\n",
       "      <td>-</td>\n",
       "      <td>Classification-</td>\n",
       "      <td>-</td>\n",
       "      <td>1014-</td>\n",
       "      <td>7-</td>\n",
       "      <td>2020-</td>\n",
       "    </tr>\n",
       "    <tr>\n",
       "      <th>620</th>\n",
       "      <td>Room Occupancy Estimation</td>\n",
       "      <td>Multivariate,-Time-Series-</td>\n",
       "      <td>Classification-</td>\n",
       "      <td>Real-</td>\n",
       "      <td>10129-</td>\n",
       "      <td>16-</td>\n",
       "      <td>2021-</td>\n",
       "    </tr>\n",
       "    <tr>\n",
       "      <th>621</th>\n",
       "      <td>Image Recognition Task Execution Times in Mo...</td>\n",
       "      <td>Univariate-</td>\n",
       "      <td>Regression-</td>\n",
       "      <td>Real-</td>\n",
       "      <td>4000-</td>\n",
       "      <td>2-</td>\n",
       "      <td>2021-</td>\n",
       "    </tr>\n",
       "  </tbody>\n",
       "</table>\n",
       "<p>622 rows × 7 columns</p>\n",
       "</div>"
      ],
      "text/plain": [
       "                                         DataSet Name   \\\n",
       "0                                              Abalone   \n",
       "1                                                Adult   \n",
       "2                                            Annealing   \n",
       "3                         Anonymous Microsoft Web Data   \n",
       "4                                           Arrhythmia   \n",
       "..                                                 ...   \n",
       "617    Influenza outbreak event prediction via Twit...   \n",
       "618                      Turkish Music Emotion Dataset   \n",
       "619                      Maternal Health Risk Data Set   \n",
       "620                          Room Occupancy Estimation   \n",
       "621    Image Recognition Task Execution Times in Mo...   \n",
       "\n",
       "                      Data Type                  Task  \\\n",
       "0                 Multivariate-       Classification-   \n",
       "1                 Multivariate-       Classification-   \n",
       "2                 Multivariate-       Classification-   \n",
       "3                             -  Recommender-Systems-   \n",
       "4                 Multivariate-       Classification-   \n",
       "..                          ...                   ...   \n",
       "617               Multivariate-       Classification-   \n",
       "618               Multivariate-       Classification-   \n",
       "619                           -       Classification-   \n",
       "620  Multivariate,-Time-Series-       Classification-   \n",
       "621                 Univariate-           Regression-   \n",
       "\n",
       "                  Attribute Type No of Instances No of Attributes   Year  \n",
       "0    Categorical,-Integer,-Real-           4177-               8-  1995-  \n",
       "1          Categorical,-Integer-          48842-              14-  1996-  \n",
       "2    Categorical,-Integer,-Real-            798-              38-      -  \n",
       "3                   Categorical-          37711-             294-  1998-  \n",
       "4    Categorical,-Integer,-Real-            452-             279-  1998-  \n",
       "..                           ...             ...              ...    ...  \n",
       "617               Integer,-Real-          75840-             525-  2020-  \n",
       "618               Integer,-Real-            400-              50-  2020-  \n",
       "619                            -           1014-               7-  2020-  \n",
       "620                        Real-          10129-              16-  2021-  \n",
       "621                        Real-           4000-               2-  2021-  \n",
       "\n",
       "[622 rows x 7 columns]"
      ]
     },
     "execution_count": 58,
     "metadata": {},
     "output_type": "execute_result"
    }
   ],
   "source": [
    "DF=pd.DataFrame({\"DataSet Name \":Namee,\"Data Type\":Typee,\"Task\":Taskkk,\"Attribute Type\":Att,\"No of Instances\":Inst,\"No of Attributes\":Num,\"Year\":Year})\n",
    "DF"
   ]
  },
  {
   "cell_type": "code",
   "execution_count": null,
   "id": "883d89f0",
   "metadata": {},
   "outputs": [],
   "source": []
  }
 ],
 "metadata": {
  "kernelspec": {
   "display_name": "Python 3 (ipykernel)",
   "language": "python",
   "name": "python3"
  },
  "language_info": {
   "codemirror_mode": {
    "name": "ipython",
    "version": 3
   },
   "file_extension": ".py",
   "mimetype": "text/x-python",
   "name": "python",
   "nbconvert_exporter": "python",
   "pygments_lexer": "ipython3",
   "version": "3.9.13"
  }
 },
 "nbformat": 4,
 "nbformat_minor": 5
}
