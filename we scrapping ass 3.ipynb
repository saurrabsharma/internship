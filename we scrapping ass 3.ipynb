{
 "cells": [
  {
   "cell_type": "code",
   "execution_count": 1,
   "id": "6ae34364",
   "metadata": {},
   "outputs": [
    {
     "name": "stdout",
     "output_type": "stream",
     "text": [
      "Requirement already satisfied: selenium in c:\\users\\91969\\anaconda\\lib\\site-packages (4.8.3)\n",
      "Requirement already satisfied: trio-websocket~=0.9 in c:\\users\\91969\\anaconda\\lib\\site-packages (from selenium) (0.10.2)\n",
      "Requirement already satisfied: trio~=0.17 in c:\\users\\91969\\anaconda\\lib\\site-packages (from selenium) (0.22.0)\n",
      "Requirement already satisfied: urllib3[socks]~=1.26 in c:\\users\\91969\\anaconda\\lib\\site-packages (from selenium) (1.26.11)\n",
      "Requirement already satisfied: certifi>=2021.10.8 in c:\\users\\91969\\anaconda\\lib\\site-packages (from selenium) (2022.9.14)\n",
      "Requirement already satisfied: sortedcontainers in c:\\users\\91969\\anaconda\\lib\\site-packages (from trio~=0.17->selenium) (2.4.0)\n",
      "Requirement already satisfied: async-generator>=1.9 in c:\\users\\91969\\anaconda\\lib\\site-packages (from trio~=0.17->selenium) (1.10)\n",
      "Requirement already satisfied: attrs>=19.2.0 in c:\\users\\91969\\anaconda\\lib\\site-packages (from trio~=0.17->selenium) (21.4.0)\n",
      "Requirement already satisfied: outcome in c:\\users\\91969\\anaconda\\lib\\site-packages (from trio~=0.17->selenium) (1.2.0)\n",
      "Requirement already satisfied: idna in c:\\users\\91969\\anaconda\\lib\\site-packages (from trio~=0.17->selenium) (3.3)\n",
      "Requirement already satisfied: cffi>=1.14 in c:\\users\\91969\\anaconda\\lib\\site-packages (from trio~=0.17->selenium) (1.15.1)\n",
      "Requirement already satisfied: exceptiongroup>=1.0.0rc9 in c:\\users\\91969\\anaconda\\lib\\site-packages (from trio~=0.17->selenium) (1.1.1)\n",
      "Requirement already satisfied: sniffio in c:\\users\\91969\\anaconda\\lib\\site-packages (from trio~=0.17->selenium) (1.2.0)\n",
      "Requirement already satisfied: wsproto>=0.14 in c:\\users\\91969\\anaconda\\lib\\site-packages (from trio-websocket~=0.9->selenium) (1.2.0)\n",
      "Requirement already satisfied: PySocks!=1.5.7,<2.0,>=1.5.6 in c:\\users\\91969\\anaconda\\lib\\site-packages (from urllib3[socks]~=1.26->selenium) (1.7.1)\n",
      "Requirement already satisfied: pycparser in c:\\users\\91969\\anaconda\\lib\\site-packages (from cffi>=1.14->trio~=0.17->selenium) (2.21)\n",
      "Requirement already satisfied: h11<1,>=0.9.0 in c:\\users\\91969\\anaconda\\lib\\site-packages (from wsproto>=0.14->trio-websocket~=0.9->selenium) (0.14.0)\n"
     ]
    },
    {
     "name": "stderr",
     "output_type": "stream",
     "text": [
      "WARNING: There was an error checking the latest version of pip.\n"
     ]
    }
   ],
   "source": [
    "!pip install selenium"
   ]
  },
  {
   "cell_type": "code",
   "execution_count": 3,
   "id": "b26e2ad9",
   "metadata": {},
   "outputs": [],
   "source": [
    "import selenium\n",
    "import pandas as pd\n",
    "from selenium import webdriver\n",
    "import warnings\n",
    "warnings.filterwarnings('ignore')\n",
    "from selenium.webdriver.common.by import By\n",
    "from selenium.common.exceptions import NoSuchElementException\n",
    "\n"
   ]
  },
  {
   "cell_type": "markdown",
   "id": "357a353d",
   "metadata": {},
   "source": [
    "\n",
    "# Question  no 8"
   ]
  },
  {
   "cell_type": "code",
   "execution_count": 3,
   "id": "fb3e8f67",
   "metadata": {},
   "outputs": [],
   "source": [
    "#connect to the driver\n",
    "driver=webdriver.Chrome(r\"C:\\Users\\91969\\Downloads\\chromedriver_win32\\chromedriver.exe\")"
   ]
  },
  {
   "cell_type": "code",
   "execution_count": 4,
   "id": "3c471a41",
   "metadata": {},
   "outputs": [],
   "source": [
    "#opening the site\n",
    "driver.get(\"https://www.youtube.com/\")"
   ]
  },
  {
   "cell_type": "code",
   "execution_count": 7,
   "id": "bd3649de",
   "metadata": {},
   "outputs": [],
   "source": [
    "#entering designation \n",
    "searchbox=driver.find_element(By.XPATH,'/html/body/ytd-app/div[1]/ytd-page-manager/ytd-browse/ytd-two-column-browse-results-renderer/div[1]/ytd-rich-grid-renderer/div[6]/ytd-rich-grid-row[1]/div/ytd-rich-item-renderer[2]/div/ytd-rich-grid-media/div[1]/div[2]/div[1]/h3/a/yt-formatted-string')\n",
    "searchbox.click()"
   ]
  },
  {
   "cell_type": "code",
   "execution_count": 10,
   "id": "bf11f402",
   "metadata": {},
   "outputs": [],
   "source": [
    "comments = []\n",
    "for i in range(1000):\n",
    "    driver.execute_script(\"window.scrollBy(0,1000)\")\n"
   ]
  },
  {
   "cell_type": "code",
   "execution_count": 12,
   "id": "ea84bffa",
   "metadata": {},
   "outputs": [],
   "source": [
    "try:\n",
    "    coment=driver.find_elements(By.XPATH,'//div[@class=\"style-scope ytd-expander\"]')\n",
    "    for i in coment:\n",
    "         comments.append(i.text)\n",
    "except NoSuchElementException:\n",
    "    comments.append('-')"
   ]
  },
  {
   "cell_type": "code",
   "execution_count": 14,
   "id": "d8908536",
   "metadata": {},
   "outputs": [
    {
     "data": {
      "text/plain": [
       "768"
      ]
     },
     "execution_count": 14,
     "metadata": {},
     "output_type": "execute_result"
    }
   ],
   "source": [
    "len(comments)"
   ]
  },
  {
   "cell_type": "code",
   "execution_count": 15,
   "id": "8f7fb988",
   "metadata": {},
   "outputs": [
    {
     "data": {
      "text/plain": [
       "''"
      ]
     },
     "execution_count": 15,
     "metadata": {},
     "output_type": "execute_result"
    }
   ],
   "source": [
    "comments.pop(0)"
   ]
  },
  {
   "cell_type": "code",
   "execution_count": 16,
   "id": "15adaf56",
   "metadata": {},
   "outputs": [
    {
     "data": {
      "text/plain": [
       "''"
      ]
     },
     "execution_count": 16,
     "metadata": {},
     "output_type": "execute_result"
    }
   ],
   "source": [
    "comments.pop(0)"
   ]
  },
  {
   "cell_type": "code",
   "execution_count": 17,
   "id": "3c209268",
   "metadata": {},
   "outputs": [
    {
     "data": {
      "text/plain": [
       "766"
      ]
     },
     "execution_count": 17,
     "metadata": {},
     "output_type": "execute_result"
    }
   ],
   "source": [
    "len(comments)"
   ]
  },
  {
   "cell_type": "code",
   "execution_count": 18,
   "id": "51f8bddf",
   "metadata": {},
   "outputs": [],
   "source": [
    "Time = []\n",
    "\n",
    "try:\n",
    "    comentt=driver.find_elements(By.XPATH,'//yt-formatted-string[@class=\"published-time-text style-scope ytd-comment-renderer\"]')\n",
    "    for i in comentt:\n",
    "         Time.append(i.text)\n",
    "except NoSuchElementException:\n",
    "    Time.append('-')"
   ]
  },
  {
   "cell_type": "code",
   "execution_count": 20,
   "id": "ac1275fa",
   "metadata": {},
   "outputs": [
    {
     "data": {
      "text/plain": [
       "766"
      ]
     },
     "execution_count": 20,
     "metadata": {},
     "output_type": "execute_result"
    }
   ],
   "source": [
    "len(Time)"
   ]
  },
  {
   "cell_type": "code",
   "execution_count": 28,
   "id": "4da364ce",
   "metadata": {},
   "outputs": [],
   "source": [
    "Upvotes = []\n",
    "\n",
    "try:\n",
    "    votes=driver.find_elements(By.XPATH,'//span[@id=\"vote-count-middle\"]')\n",
    "    for i in votes:\n",
    "         Upvotes.append(i.text)\n",
    "except NoSuchElementException:\n",
    "    Upvotes.append('-')"
   ]
  },
  {
   "cell_type": "code",
   "execution_count": 23,
   "id": "488ecbfa",
   "metadata": {},
   "outputs": [
    {
     "data": {
      "text/html": [
       "<div>\n",
       "<style scoped>\n",
       "    .dataframe tbody tr th:only-of-type {\n",
       "        vertical-align: middle;\n",
       "    }\n",
       "\n",
       "    .dataframe tbody tr th {\n",
       "        vertical-align: top;\n",
       "    }\n",
       "\n",
       "    .dataframe thead th {\n",
       "        text-align: right;\n",
       "    }\n",
       "</style>\n",
       "<table border=\"1\" class=\"dataframe\">\n",
       "  <thead>\n",
       "    <tr style=\"text-align: right;\">\n",
       "      <th></th>\n",
       "      <th>Comments</th>\n",
       "      <th>Time Of Comment</th>\n",
       "      <th>Comments Upvote</th>\n",
       "    </tr>\n",
       "  </thead>\n",
       "  <tbody>\n",
       "    <tr>\n",
       "      <th>0</th>\n",
       "      <td>This Song + Headphones + Midnight  + in blanke...</td>\n",
       "      <td>1 month ago</td>\n",
       "      <td>186</td>\n",
       "    </tr>\n",
       "    <tr>\n",
       "      <th>1</th>\n",
       "      <td>Whoever’s reading this, I pray that whatever y...</td>\n",
       "      <td>1 month ago</td>\n",
       "      <td>591</td>\n",
       "    </tr>\n",
       "    <tr>\n",
       "      <th>2</th>\n",
       "      <td>This is not just a song it’s an emotion Loved it</td>\n",
       "      <td>17 hours ago</td>\n",
       "      <td>2</td>\n",
       "    </tr>\n",
       "    <tr>\n",
       "      <th>3</th>\n",
       "      <td>Every Bollywood movie is incomplete today with...</td>\n",
       "      <td>1 month ago</td>\n",
       "      <td>465</td>\n",
       "    </tr>\n",
       "    <tr>\n",
       "      <th>4</th>\n",
       "      <td>This song never gets old. No matter how much I...</td>\n",
       "      <td>1 day ago</td>\n",
       "      <td>4</td>\n",
       "    </tr>\n",
       "    <tr>\n",
       "      <th>...</th>\n",
       "      <td>...</td>\n",
       "      <td>...</td>\n",
       "      <td>...</td>\n",
       "    </tr>\n",
       "    <tr>\n",
       "      <th>761</th>\n",
       "      <td>Black chakoo</td>\n",
       "      <td>2 weeks ago</td>\n",
       "      <td></td>\n",
       "    </tr>\n",
       "    <tr>\n",
       "      <th>762</th>\n",
       "      <td>again a muslim songs. we indian are named only...</td>\n",
       "      <td>1 month ago</td>\n",
       "      <td></td>\n",
       "    </tr>\n",
       "    <tr>\n",
       "      <th>763</th>\n",
       "      <td>Nice song.. But rashmika is crap..</td>\n",
       "      <td>3 weeks ago</td>\n",
       "      <td></td>\n",
       "    </tr>\n",
       "    <tr>\n",
       "      <th>764</th>\n",
       "      <td>Shame on you for Copystrike on Pakistani daram...</td>\n",
       "      <td>1 month ago</td>\n",
       "      <td></td>\n",
       "    </tr>\n",
       "    <tr>\n",
       "      <th>765</th>\n",
       "      <td>kya kabadi gana hai ek dum khatam hai gana .In...</td>\n",
       "      <td>1 month ago</td>\n",
       "      <td></td>\n",
       "    </tr>\n",
       "  </tbody>\n",
       "</table>\n",
       "<p>766 rows × 3 columns</p>\n",
       "</div>"
      ],
      "text/plain": [
       "                                              Comments Time Of Comment  \\\n",
       "0    This Song + Headphones + Midnight  + in blanke...     1 month ago   \n",
       "1    Whoever’s reading this, I pray that whatever y...     1 month ago   \n",
       "2    This is not just a song it’s an emotion Loved it     17 hours ago   \n",
       "3    Every Bollywood movie is incomplete today with...     1 month ago   \n",
       "4    This song never gets old. No matter how much I...       1 day ago   \n",
       "..                                                 ...             ...   \n",
       "761                                       Black chakoo     2 weeks ago   \n",
       "762  again a muslim songs. we indian are named only...     1 month ago   \n",
       "763                 Nice song.. But rashmika is crap..     3 weeks ago   \n",
       "764  Shame on you for Copystrike on Pakistani daram...     1 month ago   \n",
       "765  kya kabadi gana hai ek dum khatam hai gana .In...     1 month ago   \n",
       "\n",
       "    Comments Upvote  \n",
       "0               186  \n",
       "1               591  \n",
       "2                 2  \n",
       "3               465  \n",
       "4                 4  \n",
       "..              ...  \n",
       "761                  \n",
       "762                  \n",
       "763                  \n",
       "764                  \n",
       "765                  \n",
       "\n",
       "[766 rows x 3 columns]"
      ]
     },
     "execution_count": 23,
     "metadata": {},
     "output_type": "execute_result"
    }
   ],
   "source": [
    "Df=pd.DataFrame({'Comments':comments,'Time Of Comment':Time,'Comments Upvote':Upvotes})\n",
    "Df"
   ]
  },
  {
   "cell_type": "markdown",
   "id": "ea72515b",
   "metadata": {},
   "source": [
    "# Question no 7"
   ]
  },
  {
   "cell_type": "code",
   "execution_count": 106,
   "id": "aedac094",
   "metadata": {},
   "outputs": [],
   "source": [
    "#connect to the driver\n",
    "driver=webdriver.Chrome(r\"C:\\Users\\91969\\Downloads\\chromedriver_win32\\chromedriver.exe\")"
   ]
  },
  {
   "cell_type": "code",
   "execution_count": 107,
   "id": "73492358",
   "metadata": {},
   "outputs": [],
   "source": [
    "driver.get(\"https://www.forbes.com/\")"
   ]
  },
  {
   "cell_type": "code",
   "execution_count": 108,
   "id": "87a2ebd6",
   "metadata": {},
   "outputs": [],
   "source": [
    "search=driver.find_element(By.XPATH,\"/html/body/div[1]/main/section[1]/div[2]/div[2]/div[1]/div/a[2]\")\n",
    "search.click()"
   ]
  },
  {
   "cell_type": "code",
   "execution_count": 109,
   "id": "3b6b19f3",
   "metadata": {},
   "outputs": [],
   "source": [
    "Rank = []"
   ]
  },
  {
   "cell_type": "code",
   "execution_count": 110,
   "id": "d0fecd4f",
   "metadata": {},
   "outputs": [],
   "source": [
    "rank=driver.find_elements(By.XPATH,'//div[@class=\"Table_rank___YBhk Table_dataCell__2QCve\"]')\n",
    "for i in rank:\n",
    "    Rank.append(i.text)"
   ]
  },
  {
   "cell_type": "code",
   "execution_count": 111,
   "id": "ea2e1ec1",
   "metadata": {},
   "outputs": [
    {
     "data": {
      "text/plain": [
       "200"
      ]
     },
     "execution_count": 111,
     "metadata": {},
     "output_type": "execute_result"
    }
   ],
   "source": [
    "len(Rank)"
   ]
  },
  {
   "cell_type": "code",
   "execution_count": 113,
   "id": "f94af9dc",
   "metadata": {},
   "outputs": [],
   "source": [
    "name = []"
   ]
  },
  {
   "cell_type": "code",
   "execution_count": 114,
   "id": "74b80d05",
   "metadata": {},
   "outputs": [],
   "source": [
    "Name=driver.find_elements(By.XPATH,'//div[2][@class=\"TableRow_cell__db-hv Table_cell__houv9\"]/div')\n",
    "for i in Name:\n",
    "    name.append(i.text)"
   ]
  },
  {
   "cell_type": "code",
   "execution_count": 117,
   "id": "ef9024fa",
   "metadata": {},
   "outputs": [
    {
     "data": {
      "text/plain": [
       "200"
      ]
     },
     "execution_count": 117,
     "metadata": {},
     "output_type": "execute_result"
    }
   ],
   "source": [
    "len(name)"
   ]
  },
  {
   "cell_type": "code",
   "execution_count": 118,
   "id": "91de3d7d",
   "metadata": {},
   "outputs": [],
   "source": [
    "Worth = []\n",
    "worth=driver.find_elements(By.XPATH,'//div[3][@class=\"TableRow_cell__db-hv Table_cell__houv9\"]/div')\n",
    "for i in worth:\n",
    "    Worth.append(i.text)"
   ]
  },
  {
   "cell_type": "code",
   "execution_count": 120,
   "id": "bdbafd28",
   "metadata": {},
   "outputs": [
    {
     "data": {
      "text/plain": [
       "200"
      ]
     },
     "execution_count": 120,
     "metadata": {},
     "output_type": "execute_result"
    }
   ],
   "source": [
    "len(Worth)"
   ]
  },
  {
   "cell_type": "code",
   "execution_count": 121,
   "id": "08a9ca55",
   "metadata": {},
   "outputs": [],
   "source": [
    "Age = []\n",
    "age=driver.find_elements(By.XPATH,'//div[4][@class=\"TableRow_cell__db-hv Table_cell__houv9\"]/div')\n",
    "for i in age:\n",
    "    Age.append(i.text)"
   ]
  },
  {
   "cell_type": "code",
   "execution_count": 122,
   "id": "cb50f5ed",
   "metadata": {},
   "outputs": [
    {
     "data": {
      "text/plain": [
       "200"
      ]
     },
     "execution_count": 122,
     "metadata": {},
     "output_type": "execute_result"
    }
   ],
   "source": [
    "len(Age)"
   ]
  },
  {
   "cell_type": "code",
   "execution_count": 129,
   "id": "eea8a544",
   "metadata": {},
   "outputs": [],
   "source": [
    "Source = []\n",
    "source=driver.find_elements(By.XPATH,'//div[6][@class=\"TableRow_cell__db-hv Table_cell__houv9\"]/div')\n",
    "for i in source:\n",
    "    Source.append(i.text)"
   ]
  },
  {
   "cell_type": "code",
   "execution_count": 132,
   "id": "828bf6a1",
   "metadata": {},
   "outputs": [
    {
     "data": {
      "text/plain": [
       "200"
      ]
     },
     "execution_count": 132,
     "metadata": {},
     "output_type": "execute_result"
    }
   ],
   "source": [
    "len(Source)"
   ]
  },
  {
   "cell_type": "code",
   "execution_count": 133,
   "id": "48124446",
   "metadata": {},
   "outputs": [],
   "source": [
    "Industry = []\n",
    "industry=driver.find_elements(By.XPATH,'//div[7][@class=\"TableRow_cell__db-hv Table_cell__houv9\"]/div')\n",
    "for i in industry:\n",
    "    Industry.append(i.text)"
   ]
  },
  {
   "cell_type": "code",
   "execution_count": 136,
   "id": "32616fc8",
   "metadata": {},
   "outputs": [
    {
     "data": {
      "text/plain": [
       "200"
      ]
     },
     "execution_count": 136,
     "metadata": {},
     "output_type": "execute_result"
    }
   ],
   "source": [
    "len(Industry)"
   ]
  },
  {
   "cell_type": "code",
   "execution_count": 138,
   "id": "961064c3",
   "metadata": {},
   "outputs": [],
   "source": [
    "Country = []\n",
    "country=driver.find_elements(By.XPATH,'//div[5][@class=\"TableRow_cell__db-hv Table_cell__houv9\"]')\n",
    "for i in country:\n",
    "    Country.append(i.text)"
   ]
  },
  {
   "cell_type": "code",
   "execution_count": 139,
   "id": "8db1634f",
   "metadata": {},
   "outputs": [
    {
     "data": {
      "text/plain": [
       "200"
      ]
     },
     "execution_count": 139,
     "metadata": {},
     "output_type": "execute_result"
    }
   ],
   "source": [
    "len(Country)"
   ]
  },
  {
   "cell_type": "code",
   "execution_count": 140,
   "id": "e74a5bd2",
   "metadata": {},
   "outputs": [
    {
     "data": {
      "text/html": [
       "<div>\n",
       "<style scoped>\n",
       "    .dataframe tbody tr th:only-of-type {\n",
       "        vertical-align: middle;\n",
       "    }\n",
       "\n",
       "    .dataframe tbody tr th {\n",
       "        vertical-align: top;\n",
       "    }\n",
       "\n",
       "    .dataframe thead th {\n",
       "        text-align: right;\n",
       "    }\n",
       "</style>\n",
       "<table border=\"1\" class=\"dataframe\">\n",
       "  <thead>\n",
       "    <tr style=\"text-align: right;\">\n",
       "      <th></th>\n",
       "      <th>Rank</th>\n",
       "      <th>Name</th>\n",
       "      <th>Net Worth</th>\n",
       "      <th>Age</th>\n",
       "      <th>CitizenShip</th>\n",
       "      <th>Source</th>\n",
       "      <th>Industry</th>\n",
       "    </tr>\n",
       "  </thead>\n",
       "  <tbody>\n",
       "    <tr>\n",
       "      <th>0</th>\n",
       "      <td>1</td>\n",
       "      <td>Bernard Arnault &amp; family</td>\n",
       "      <td>$211 B</td>\n",
       "      <td>74</td>\n",
       "      <td>France</td>\n",
       "      <td>LVMH</td>\n",
       "      <td>Fashion &amp; Retail</td>\n",
       "    </tr>\n",
       "    <tr>\n",
       "      <th>1</th>\n",
       "      <td>2</td>\n",
       "      <td>Elon Musk</td>\n",
       "      <td>$180 B</td>\n",
       "      <td>51</td>\n",
       "      <td>United States</td>\n",
       "      <td>Tesla, SpaceX</td>\n",
       "      <td>Automotive</td>\n",
       "    </tr>\n",
       "    <tr>\n",
       "      <th>2</th>\n",
       "      <td>3</td>\n",
       "      <td>Jeff Bezos</td>\n",
       "      <td>$114 B</td>\n",
       "      <td>59</td>\n",
       "      <td>United States</td>\n",
       "      <td>Amazon</td>\n",
       "      <td>Technology</td>\n",
       "    </tr>\n",
       "    <tr>\n",
       "      <th>3</th>\n",
       "      <td>4</td>\n",
       "      <td>Larry Ellison</td>\n",
       "      <td>$107 B</td>\n",
       "      <td>78</td>\n",
       "      <td>United States</td>\n",
       "      <td>Oracle</td>\n",
       "      <td>Technology</td>\n",
       "    </tr>\n",
       "    <tr>\n",
       "      <th>4</th>\n",
       "      <td>5</td>\n",
       "      <td>Warren Buffett</td>\n",
       "      <td>$106 B</td>\n",
       "      <td>92</td>\n",
       "      <td>United States</td>\n",
       "      <td>Berkshire Hathaway</td>\n",
       "      <td>Finance &amp; Investments</td>\n",
       "    </tr>\n",
       "    <tr>\n",
       "      <th>...</th>\n",
       "      <td>...</td>\n",
       "      <td>...</td>\n",
       "      <td>...</td>\n",
       "      <td>...</td>\n",
       "      <td>...</td>\n",
       "      <td>...</td>\n",
       "      <td>...</td>\n",
       "    </tr>\n",
       "    <tr>\n",
       "      <th>195</th>\n",
       "      <td>195</td>\n",
       "      <td>Jin Baofang</td>\n",
       "      <td>$9.6 B</td>\n",
       "      <td>70</td>\n",
       "      <td>China</td>\n",
       "      <td>Solar panels</td>\n",
       "      <td>Energy</td>\n",
       "    </tr>\n",
       "    <tr>\n",
       "      <th>196</th>\n",
       "      <td>195</td>\n",
       "      <td>Luo Liguo &amp; family</td>\n",
       "      <td>$9.6 B</td>\n",
       "      <td>67</td>\n",
       "      <td>China</td>\n",
       "      <td>Chemicals</td>\n",
       "      <td>Manufacturing</td>\n",
       "    </tr>\n",
       "    <tr>\n",
       "      <th>197</th>\n",
       "      <td>195</td>\n",
       "      <td>Marijke Mars</td>\n",
       "      <td>$9.6 B</td>\n",
       "      <td>58</td>\n",
       "      <td>United States</td>\n",
       "      <td>Candy, pet food</td>\n",
       "      <td>Food &amp; Beverage</td>\n",
       "    </tr>\n",
       "    <tr>\n",
       "      <th>198</th>\n",
       "      <td>195</td>\n",
       "      <td>Pamela Mars</td>\n",
       "      <td>$9.6 B</td>\n",
       "      <td>62</td>\n",
       "      <td>United States</td>\n",
       "      <td>Candy, pet food</td>\n",
       "      <td>Food &amp; Beverage</td>\n",
       "    </tr>\n",
       "    <tr>\n",
       "      <th>199</th>\n",
       "      <td>195</td>\n",
       "      <td>Valerie Mars</td>\n",
       "      <td>$9.6 B</td>\n",
       "      <td>64</td>\n",
       "      <td>United States</td>\n",
       "      <td>Candy, pet food</td>\n",
       "      <td>Food &amp; Beverage</td>\n",
       "    </tr>\n",
       "  </tbody>\n",
       "</table>\n",
       "<p>200 rows × 7 columns</p>\n",
       "</div>"
      ],
      "text/plain": [
       "    Rank                      Name Net Worth Age    CitizenShip  \\\n",
       "0      1  Bernard Arnault & family    $211 B  74         France   \n",
       "1      2                 Elon Musk    $180 B  51  United States   \n",
       "2      3                Jeff Bezos    $114 B  59  United States   \n",
       "3      4             Larry Ellison    $107 B  78  United States   \n",
       "4      5            Warren Buffett    $106 B  92  United States   \n",
       "..   ...                       ...       ...  ..            ...   \n",
       "195  195               Jin Baofang    $9.6 B  70          China   \n",
       "196  195        Luo Liguo & family    $9.6 B  67          China   \n",
       "197  195              Marijke Mars    $9.6 B  58  United States   \n",
       "198  195               Pamela Mars    $9.6 B  62  United States   \n",
       "199  195              Valerie Mars    $9.6 B  64  United States   \n",
       "\n",
       "                 Source               Industry  \n",
       "0                  LVMH       Fashion & Retail  \n",
       "1         Tesla, SpaceX             Automotive  \n",
       "2                Amazon             Technology  \n",
       "3                Oracle             Technology  \n",
       "4    Berkshire Hathaway  Finance & Investments  \n",
       "..                  ...                    ...  \n",
       "195        Solar panels                 Energy  \n",
       "196           Chemicals          Manufacturing  \n",
       "197     Candy, pet food        Food & Beverage  \n",
       "198     Candy, pet food        Food & Beverage  \n",
       "199     Candy, pet food        Food & Beverage  \n",
       "\n",
       "[200 rows x 7 columns]"
      ]
     },
     "execution_count": 140,
     "metadata": {},
     "output_type": "execute_result"
    }
   ],
   "source": [
    "Df=pd.DataFrame({'Rank':Rank,'Name':name,'Net Worth':Worth,'Age':Age,'CitizenShip':Country,'Source':Source,'Industry':Industry})\n",
    "Df"
   ]
  },
  {
   "cell_type": "markdown",
   "id": "ff749cf3",
   "metadata": {},
   "source": [
    "# Question no 6"
   ]
  },
  {
   "cell_type": "code",
   "execution_count": 82,
   "id": "6aa32ad9",
   "metadata": {},
   "outputs": [],
   "source": [
    "#connect to the driver\n",
    "driver=webdriver.Chrome(r\"C:\\Users\\91969\\Downloads\\chromedriver_win32\\chromedriver.exe\")"
   ]
  },
  {
   "cell_type": "code",
   "execution_count": 83,
   "id": "4d78985f",
   "metadata": {},
   "outputs": [],
   "source": [
    "driver.get(\"https://www.digit.in/\")"
   ]
  },
  {
   "cell_type": "code",
   "execution_count": 84,
   "id": "be41e2d1",
   "metadata": {},
   "outputs": [],
   "source": [
    "search=driver.find_element(By.XPATH,'/html/body/div[7]/div/div[2]/div[2]/div[3]/ul/li[9]/a')\n",
    "search.click()"
   ]
  },
  {
   "cell_type": "code",
   "execution_count": 88,
   "id": "2716cf0c",
   "metadata": {},
   "outputs": [],
   "source": [
    "Name = []"
   ]
  },
  {
   "cell_type": "code",
   "execution_count": 89,
   "id": "9df267b3",
   "metadata": {},
   "outputs": [],
   "source": [
    "name=driver.find_elements(By.XPATH,'//div[@class=\"left_side\"]')\n",
    "for i in name[0:10]:\n",
    "    Name.append(i.text.split('.')[1].replace('\\n',' '))"
   ]
  },
  {
   "cell_type": "code",
   "execution_count": 90,
   "id": "66902a83",
   "metadata": {},
   "outputs": [
    {
     "data": {
      "text/plain": [
       "[' MSI Titan GT77-12UHS',\n",
       " ' Lenovo Legion 7',\n",
       " ' Alienware X17 R2',\n",
       " ' Acer Predator Triton 500 SE PT516-52s',\n",
       " ' Omen By HP (16-B1371TX)',\n",
       " ' Acer Predator Helios 300 AN515-45',\n",
       " ' MSI Delta 15 (A5EFK-083IN)',\n",
       " ' Omen By HP (16-C0141AX)',\n",
       " ' Lenovo Legion 5i Pro (82RF00MGIN)',\n",
       " ' Alienware M15 R5 Ryzen Edition Icc-C780001win']"
      ]
     },
     "execution_count": 90,
     "metadata": {},
     "output_type": "execute_result"
    }
   ],
   "source": [
    "Name"
   ]
  },
  {
   "cell_type": "code",
   "execution_count": 101,
   "id": "c97ef759",
   "metadata": {},
   "outputs": [],
   "source": [
    "specifications = []"
   ]
  },
  {
   "cell_type": "code",
   "execution_count": 102,
   "id": "0b2a1db0",
   "metadata": {},
   "outputs": [],
   "source": [
    "opera_sys=driver.find_elements(By.XPATH,'//div[@class=\"Spcs-details\"]')\n",
    "for i in opera_sys:\n",
    "    specifications.append(i.text.replace('\\n',' '))\n"
   ]
  },
  {
   "cell_type": "code",
   "execution_count": 103,
   "id": "02e6e5d1",
   "metadata": {},
   "outputs": [
    {
     "data": {
      "text/plain": [
       "10"
      ]
     },
     "execution_count": 103,
     "metadata": {},
     "output_type": "execute_result"
    }
   ],
   "source": [
    "len(specifications)"
   ]
  },
  {
   "cell_type": "code",
   "execution_count": 104,
   "id": "05dcd813",
   "metadata": {},
   "outputs": [
    {
     "data": {
      "text/html": [
       "<div>\n",
       "<style scoped>\n",
       "    .dataframe tbody tr th:only-of-type {\n",
       "        vertical-align: middle;\n",
       "    }\n",
       "\n",
       "    .dataframe tbody tr th {\n",
       "        vertical-align: top;\n",
       "    }\n",
       "\n",
       "    .dataframe thead th {\n",
       "        text-align: right;\n",
       "    }\n",
       "</style>\n",
       "<table border=\"1\" class=\"dataframe\">\n",
       "  <thead>\n",
       "    <tr style=\"text-align: right;\">\n",
       "      <th></th>\n",
       "      <th>Name of Laptop</th>\n",
       "      <th>Specifications</th>\n",
       "    </tr>\n",
       "  </thead>\n",
       "  <tbody>\n",
       "    <tr>\n",
       "      <th>0</th>\n",
       "      <td>MSI Titan GT77-12UHS</td>\n",
       "      <td>MORE SPECIFICATIONS Processor : 12th Gen Intel...</td>\n",
       "    </tr>\n",
       "    <tr>\n",
       "      <th>1</th>\n",
       "      <td>Lenovo Legion 7</td>\n",
       "      <td>MORE SPECIFICATIONS Processor : 12th Gen Intel...</td>\n",
       "    </tr>\n",
       "    <tr>\n",
       "      <th>2</th>\n",
       "      <td>Alienware X17 R2</td>\n",
       "      <td>MORE SPECIFICATIONS Processor : 12th Gen Intel...</td>\n",
       "    </tr>\n",
       "    <tr>\n",
       "      <th>3</th>\n",
       "      <td>Acer Predator Triton 500 SE PT516-52s</td>\n",
       "      <td>MORE SPECIFICATIONS Processor : 12th Gen Intel...</td>\n",
       "    </tr>\n",
       "    <tr>\n",
       "      <th>4</th>\n",
       "      <td>Omen By HP (16-B1371TX)</td>\n",
       "      <td>MORE SPECIFICATIONS Processor : 12th Gen Intel...</td>\n",
       "    </tr>\n",
       "    <tr>\n",
       "      <th>5</th>\n",
       "      <td>Acer Predator Helios 300 AN515-45</td>\n",
       "      <td>MORE SPECIFICATIONS Processor : AMD Ryzen 9-59...</td>\n",
       "    </tr>\n",
       "    <tr>\n",
       "      <th>6</th>\n",
       "      <td>MSI Delta 15 (A5EFK-083IN)</td>\n",
       "      <td>MORE SPECIFICATIONS Processor : AMD 5th Gen Ry...</td>\n",
       "    </tr>\n",
       "    <tr>\n",
       "      <th>7</th>\n",
       "      <td>Omen By HP (16-C0141AX)</td>\n",
       "      <td>MORE SPECIFICATIONS Processor : AMD Ryzen™ 9 5...</td>\n",
       "    </tr>\n",
       "    <tr>\n",
       "      <th>8</th>\n",
       "      <td>Lenovo Legion 5i Pro (82RF00MGIN)</td>\n",
       "      <td>MORE SPECIFICATIONS Processor : 12th Gen Intel...</td>\n",
       "    </tr>\n",
       "    <tr>\n",
       "      <th>9</th>\n",
       "      <td>Alienware M15 R5 Ryzen Edition Icc-C780001win</td>\n",
       "      <td>MORE SPECIFICATIONS Processor : AMD Ryzen R7-5...</td>\n",
       "    </tr>\n",
       "  </tbody>\n",
       "</table>\n",
       "</div>"
      ],
      "text/plain": [
       "                                   Name of Laptop  \\\n",
       "0                            MSI Titan GT77-12UHS   \n",
       "1                                 Lenovo Legion 7   \n",
       "2                                Alienware X17 R2   \n",
       "3           Acer Predator Triton 500 SE PT516-52s   \n",
       "4                         Omen By HP (16-B1371TX)   \n",
       "5               Acer Predator Helios 300 AN515-45   \n",
       "6                      MSI Delta 15 (A5EFK-083IN)   \n",
       "7                         Omen By HP (16-C0141AX)   \n",
       "8               Lenovo Legion 5i Pro (82RF00MGIN)   \n",
       "9   Alienware M15 R5 Ryzen Edition Icc-C780001win   \n",
       "\n",
       "                                      Specifications  \n",
       "0  MORE SPECIFICATIONS Processor : 12th Gen Intel...  \n",
       "1  MORE SPECIFICATIONS Processor : 12th Gen Intel...  \n",
       "2  MORE SPECIFICATIONS Processor : 12th Gen Intel...  \n",
       "3  MORE SPECIFICATIONS Processor : 12th Gen Intel...  \n",
       "4  MORE SPECIFICATIONS Processor : 12th Gen Intel...  \n",
       "5  MORE SPECIFICATIONS Processor : AMD Ryzen 9-59...  \n",
       "6  MORE SPECIFICATIONS Processor : AMD 5th Gen Ry...  \n",
       "7  MORE SPECIFICATIONS Processor : AMD Ryzen™ 9 5...  \n",
       "8  MORE SPECIFICATIONS Processor : 12th Gen Intel...  \n",
       "9  MORE SPECIFICATIONS Processor : AMD Ryzen R7-5...  "
      ]
     },
     "execution_count": 104,
     "metadata": {},
     "output_type": "execute_result"
    }
   ],
   "source": [
    "DF=pd.DataFrame({'Name of Laptop':Name,'Specifications':specifications})\n",
    "DF"
   ]
  },
  {
   "cell_type": "markdown",
   "id": "a34e61fe",
   "metadata": {},
   "source": [
    "# Question no 9"
   ]
  },
  {
   "cell_type": "code",
   "execution_count": 19,
   "id": "79ffe108",
   "metadata": {},
   "outputs": [],
   "source": [
    "#connect to the driver\n",
    "driver=webdriver.Chrome(r\"C:\\Users\\91969\\Downloads\\chromedriver_win32\\chromedriver.exe\")"
   ]
  },
  {
   "cell_type": "code",
   "execution_count": 20,
   "id": "1780809a",
   "metadata": {},
   "outputs": [],
   "source": [
    "driver.get(\"https://www.hostelworld.com/\")"
   ]
  },
  {
   "cell_type": "code",
   "execution_count": 22,
   "id": "ebc45255",
   "metadata": {},
   "outputs": [],
   "source": [
    "search=driver.find_element(By.CLASS_NAME,\"search-input\")\n",
    "search.send_keys('london')"
   ]
  },
  {
   "cell_type": "code",
   "execution_count": 23,
   "id": "dfd69bb3",
   "metadata": {},
   "outputs": [],
   "source": [
    "search_find=driver.find_element(By.XPATH,'/html/body/div[3]/div/div/div[2]/div[2]/div/div/div[4]/div/div[2]/div/div[1]/div/div/ul/li[2]/div')\n",
    "search_find.click()"
   ]
  },
  {
   "cell_type": "code",
   "execution_count": 24,
   "id": "43b46ba3",
   "metadata": {},
   "outputs": [],
   "source": [
    "lets_go=driver.find_element(By.XPATH,'/html/body/div[3]/div/div/div[2]/div[2]/div/div/div[4]/div/div[2]/div/div[5]/button')\n",
    "lets_go.click()"
   ]
  },
  {
   "cell_type": "code",
   "execution_count": 41,
   "id": "3f13f8f4",
   "metadata": {},
   "outputs": [],
   "source": [
    "hostelname = []"
   ]
  },
  {
   "cell_type": "code",
   "execution_count": 42,
   "id": "0db6e4be",
   "metadata": {},
   "outputs": [],
   "source": [
    "hostel=driver.find_elements(By.XPATH,'//h2[@class=\"title title-6\"]')\n",
    "for i in hostel:\n",
    "    hostelname.append(i.text)"
   ]
  },
  {
   "cell_type": "code",
   "execution_count": 43,
   "id": "f089e068",
   "metadata": {},
   "outputs": [
    {
     "data": {
      "text/plain": [
       "30"
      ]
     },
     "execution_count": 43,
     "metadata": {},
     "output_type": "execute_result"
    }
   ],
   "source": [
    "len(hostelname)"
   ]
  },
  {
   "cell_type": "code",
   "execution_count": 44,
   "id": "525a0653",
   "metadata": {},
   "outputs": [],
   "source": [
    "Distance = []"
   ]
  },
  {
   "cell_type": "code",
   "execution_count": 45,
   "id": "ef8e1529",
   "metadata": {},
   "outputs": [],
   "source": [
    "dist=driver.find_elements(By.XPATH,'//span[@class=\"description\"]')\n",
    "for i in dist:\n",
    "    Distance.append(i.text.split('-')[1])"
   ]
  },
  {
   "cell_type": "code",
   "execution_count": 46,
   "id": "3dc6632b",
   "metadata": {},
   "outputs": [
    {
     "data": {
      "text/plain": [
       "30"
      ]
     },
     "execution_count": 46,
     "metadata": {},
     "output_type": "execute_result"
    }
   ],
   "source": [
    "len(Distance)"
   ]
  },
  {
   "cell_type": "code",
   "execution_count": 47,
   "id": "9e49e19c",
   "metadata": {},
   "outputs": [],
   "source": [
    "reviews=[]"
   ]
  },
  {
   "cell_type": "code",
   "execution_count": 48,
   "id": "ebb8d0e0",
   "metadata": {},
   "outputs": [],
   "source": [
    "rev=driver.find_elements(By.XPATH,'//div[@class=\"reviews\"]')\n",
    "for i in rev:\n",
    "    reviews.append(i.text.split(' ')[0])"
   ]
  },
  {
   "cell_type": "code",
   "execution_count": 49,
   "id": "8f73f621",
   "metadata": {},
   "outputs": [
    {
     "data": {
      "text/plain": [
       "30"
      ]
     },
     "execution_count": 49,
     "metadata": {},
     "output_type": "execute_result"
    }
   ],
   "source": [
    "len(reviews)"
   ]
  },
  {
   "cell_type": "code",
   "execution_count": 77,
   "id": "ca527b97",
   "metadata": {},
   "outputs": [],
   "source": [
    "facilities=[]"
   ]
  },
  {
   "cell_type": "code",
   "execution_count": 78,
   "id": "98e6eaec",
   "metadata": {},
   "outputs": [],
   "source": [
    "fac=driver.find_elements(By.XPATH,'//div[@class=\"facilities-label facilities\"]')\n",
    "for i in fac:\n",
    "    facilities.append(i.text.replace('\\n',':'))"
   ]
  },
  {
   "cell_type": "code",
   "execution_count": 79,
   "id": "b840f5de",
   "metadata": {},
   "outputs": [],
   "source": [
    "Description=[]"
   ]
  },
  {
   "cell_type": "code",
   "execution_count": 80,
   "id": "395aae21",
   "metadata": {},
   "outputs": [],
   "source": [
    "des=driver.find_elements(By.XPATH,'//div[@class=\"rating-factors prop-card-tablet rating-factors small\"]')\n",
    "for i in des:\n",
    "    Description.append(i.text.replace('\\n',':'))"
   ]
  },
  {
   "cell_type": "code",
   "execution_count": 56,
   "id": "ceed382e",
   "metadata": {},
   "outputs": [],
   "source": [
    "overall = []"
   ]
  },
  {
   "cell_type": "code",
   "execution_count": 57,
   "id": "1514013f",
   "metadata": {},
   "outputs": [],
   "source": [
    "over=driver.find_elements(By.XPATH,'//div[@class=\"keyword\"]')\n",
    "for i in over:\n",
    "    overall.append(i.text)"
   ]
  },
  {
   "cell_type": "code",
   "execution_count": 58,
   "id": "d28dfeac",
   "metadata": {},
   "outputs": [
    {
     "data": {
      "text/plain": [
       "'Very Good'"
      ]
     },
     "execution_count": 58,
     "metadata": {},
     "output_type": "execute_result"
    }
   ],
   "source": [
    "overall.pop(0)\n"
   ]
  },
  {
   "cell_type": "code",
   "execution_count": 59,
   "id": "b3585eff",
   "metadata": {},
   "outputs": [
    {
     "data": {
      "text/plain": [
       "30"
      ]
     },
     "execution_count": 59,
     "metadata": {},
     "output_type": "execute_result"
    }
   ],
   "source": [
    "len(overall)"
   ]
  },
  {
   "cell_type": "code",
   "execution_count": 60,
   "id": "5a009d41",
   "metadata": {},
   "outputs": [],
   "source": [
    "from selenium.common.exceptions import NoSuchElementException"
   ]
  },
  {
   "cell_type": "code",
   "execution_count": 61,
   "id": "a68e3e86",
   "metadata": {},
   "outputs": [],
   "source": [
    "Ratings=[]"
   ]
  },
  {
   "cell_type": "code",
   "execution_count": 62,
   "id": "dc3b7f19",
   "metadata": {},
   "outputs": [],
   "source": [
    "try:\n",
    "    rate=driver.find_elements(By.XPATH,'//div[@class=\"score orange big\"]')\n",
    "    for i in rate:\n",
    "        Ratings.append(i.text)\n",
    "except:\n",
    "    rate=driver.find_elements(By.XPATH,'//div[@class=\"score gray big\"]')\n",
    "    for i in rate:\n",
    "        Ratings.append(i.text)"
   ]
  },
  {
   "cell_type": "code",
   "execution_count": 63,
   "id": "74a8ad3c",
   "metadata": {},
   "outputs": [],
   "source": [
    "ratte=driver.find_element(By.XPATH,'/html/body/div[3]/div/div/div[2]/div[4]/div/div/div[28]/div[3]/div[2]/div[2]/a/div/div[1]')\n",
    "Ratings.append(ratte.text)"
   ]
  },
  {
   "cell_type": "code",
   "execution_count": 64,
   "id": "85e2f8e5",
   "metadata": {},
   "outputs": [
    {
     "data": {
      "text/plain": [
       "30"
      ]
     },
     "execution_count": 64,
     "metadata": {},
     "output_type": "execute_result"
    }
   ],
   "source": [
    "len(Ratings)"
   ]
  },
  {
   "cell_type": "code",
   "execution_count": 65,
   "id": "99bfa4ec",
   "metadata": {},
   "outputs": [],
   "source": [
    "Privates = []\n",
    "P = driver.find_elements(By.XPATH,'//div[@class=\"price-col\"]')[0::2]\n",
    "for i in P:\n",
    "    Privates.append(i.text.replace('\\n',': ').replace('No Privates Available','NaN'))"
   ]
  },
  {
   "cell_type": "code",
   "execution_count": 66,
   "id": "b6949fae",
   "metadata": {},
   "outputs": [
    {
     "data": {
      "text/plain": [
       "30"
      ]
     },
     "execution_count": 66,
     "metadata": {},
     "output_type": "execute_result"
    }
   ],
   "source": [
    "len(Privates)"
   ]
  },
  {
   "cell_type": "code",
   "execution_count": 67,
   "id": "c42ade67",
   "metadata": {},
   "outputs": [],
   "source": [
    "dorms = []\n",
    "d = driver.find_elements(By.XPATH,'//div[@class=\"price-col\"]')[1::2]\n",
    "for i in d:\n",
    "    dorms.append(i.text.replace('\\n',': ').replace('No Dorms Available','NaN'))"
   ]
  },
  {
   "cell_type": "code",
   "execution_count": 68,
   "id": "a48cca8c",
   "metadata": {},
   "outputs": [
    {
     "data": {
      "text/plain": [
       "30"
      ]
     },
     "execution_count": 68,
     "metadata": {},
     "output_type": "execute_result"
    }
   ],
   "source": [
    "len(dorms)"
   ]
  },
  {
   "cell_type": "code",
   "execution_count": 81,
   "id": "acc7509f",
   "metadata": {},
   "outputs": [
    {
     "data": {
      "text/html": [
       "<div>\n",
       "<style scoped>\n",
       "    .dataframe tbody tr th:only-of-type {\n",
       "        vertical-align: middle;\n",
       "    }\n",
       "\n",
       "    .dataframe tbody tr th {\n",
       "        vertical-align: top;\n",
       "    }\n",
       "\n",
       "    .dataframe thead th {\n",
       "        text-align: right;\n",
       "    }\n",
       "</style>\n",
       "<table border=\"1\" class=\"dataframe\">\n",
       "  <thead>\n",
       "    <tr style=\"text-align: right;\">\n",
       "      <th></th>\n",
       "      <th>Hostel Name</th>\n",
       "      <th>Distance from City Centre</th>\n",
       "      <th>Ratings</th>\n",
       "      <th>Total Reviews</th>\n",
       "      <th>Overall Reviews</th>\n",
       "      <th>Privates from Price</th>\n",
       "      <th>Dorms from Price</th>\n",
       "      <th>Facilities</th>\n",
       "      <th>Description</th>\n",
       "    </tr>\n",
       "  </thead>\n",
       "  <tbody>\n",
       "    <tr>\n",
       "      <th>0</th>\n",
       "      <td>Wombat's City Hostel London</td>\n",
       "      <td>3.6km from city centre</td>\n",
       "      <td>9.0</td>\n",
       "      <td>14717</td>\n",
       "      <td>Superb</td>\n",
       "      <td>Privates From: Rs33969.49 Rs27176</td>\n",
       "      <td>Dorms From: Rs5206.26 Rs4165</td>\n",
       "      <td>Free WiFi:Follows Covid-19 sanitation guidance</td>\n",
       "      <td>Perfect Location:Superb Staff:Fantastic Cleanl...</td>\n",
       "    </tr>\n",
       "    <tr>\n",
       "      <th>1</th>\n",
       "      <td>St Christopher's Village</td>\n",
       "      <td>1.8km from city centre</td>\n",
       "      <td>7.7</td>\n",
       "      <td>12043</td>\n",
       "      <td>Very Good</td>\n",
       "      <td>NaN</td>\n",
       "      <td>Dorms From: Rs1944.19 Rs1750</td>\n",
       "      <td>Free WiFi:Follows Covid-19 sanitation guidance</td>\n",
       "      <td>Perfect Location:Marvellous Staff:Awesome Clea...</td>\n",
       "    </tr>\n",
       "    <tr>\n",
       "      <th>2</th>\n",
       "      <td>Hostel One Notting Hill</td>\n",
       "      <td>5.5km from city centre</td>\n",
       "      <td>9.5</td>\n",
       "      <td>1937</td>\n",
       "      <td>Superb</td>\n",
       "      <td>Privates From: Rs18318</td>\n",
       "      <td>NaN</td>\n",
       "      <td>Free WiFi</td>\n",
       "      <td>Perfect Location:Superb Staff:Fantastic Cleanl...</td>\n",
       "    </tr>\n",
       "    <tr>\n",
       "      <th>3</th>\n",
       "      <td>NX London Hostel</td>\n",
       "      <td>6.1km from city centre</td>\n",
       "      <td>8.2</td>\n",
       "      <td>1808</td>\n",
       "      <td>Fabulous</td>\n",
       "      <td>NaN</td>\n",
       "      <td>Dorms From: Rs2868</td>\n",
       "      <td>Free WiFi:Free Breakfast</td>\n",
       "      <td>Perfect Location:Superb Staff:Excellent Cleanl...</td>\n",
       "    </tr>\n",
       "    <tr>\n",
       "      <th>4</th>\n",
       "      <td>Safestay London Elephant &amp; Castle</td>\n",
       "      <td>1.7km from city centre</td>\n",
       "      <td>7.5</td>\n",
       "      <td>4897</td>\n",
       "      <td>Very Good</td>\n",
       "      <td>Privates From: Rs10165</td>\n",
       "      <td>Dorms From: Rs2270</td>\n",
       "      <td>Free WiFi:Follows Covid-19 sanitation guidance</td>\n",
       "      <td>Wonderful Location:Marvellous Staff:Excellent ...</td>\n",
       "    </tr>\n",
       "    <tr>\n",
       "      <th>5</th>\n",
       "      <td>Generator London</td>\n",
       "      <td>3km from city centre</td>\n",
       "      <td>7.4</td>\n",
       "      <td>7427</td>\n",
       "      <td>Very Good</td>\n",
       "      <td>Privates From: Rs16102</td>\n",
       "      <td>Dorms From: Rs3324</td>\n",
       "      <td>Free WiFi:Follows Covid-19 sanitation guidance</td>\n",
       "      <td>Perfect Location:Marvellous Staff:Awesome Clea...</td>\n",
       "    </tr>\n",
       "    <tr>\n",
       "      <th>6</th>\n",
       "      <td>Safestay London Kensington Holland Park</td>\n",
       "      <td>5.8km from city centre</td>\n",
       "      <td>7.1</td>\n",
       "      <td>1478</td>\n",
       "      <td>Very Good</td>\n",
       "      <td>NaN</td>\n",
       "      <td>Dorms From: Rs1948</td>\n",
       "      <td>Free WiFi</td>\n",
       "      <td>Wonderful Location:Marvellous Staff:Awesome Cl...</td>\n",
       "    </tr>\n",
       "    <tr>\n",
       "      <th>7</th>\n",
       "      <td>London Backpackers</td>\n",
       "      <td>11.9km from city centre</td>\n",
       "      <td>7.7</td>\n",
       "      <td>4438</td>\n",
       "      <td>Very Good</td>\n",
       "      <td>Privates From: Rs5764</td>\n",
       "      <td>Dorms From: Rs1729</td>\n",
       "      <td>Free WiFi:Follows Covid-19 sanitation guidance</td>\n",
       "      <td>Wonderful Location:Superb Staff:Excellent Clea...</td>\n",
       "    </tr>\n",
       "    <tr>\n",
       "      <th>8</th>\n",
       "      <td>Astor Victoria</td>\n",
       "      <td>1.8km from city centre</td>\n",
       "      <td>7.5</td>\n",
       "      <td>14931</td>\n",
       "      <td>Very Good</td>\n",
       "      <td>NaN</td>\n",
       "      <td>Dorms From: Rs2135</td>\n",
       "      <td>Free WiFi:Follows Covid-19 sanitation guidance</td>\n",
       "      <td>Perfect Location:Superb Staff:Awesome Cleanliness</td>\n",
       "    </tr>\n",
       "    <tr>\n",
       "      <th>9</th>\n",
       "      <td>No.8 Seven Sisters</td>\n",
       "      <td>9km from city centre</td>\n",
       "      <td>6.0</td>\n",
       "      <td>3983</td>\n",
       "      <td>Good</td>\n",
       "      <td>NaN</td>\n",
       "      <td>Dorms From: Rs944</td>\n",
       "      <td>Free WiFi:Follows Covid-19 sanitation guidance</td>\n",
       "      <td>Great Location:Brilliant Staff</td>\n",
       "    </tr>\n",
       "    <tr>\n",
       "      <th>10</th>\n",
       "      <td>Phoenix Hostel</td>\n",
       "      <td>4.2km from city centre</td>\n",
       "      <td>7.2</td>\n",
       "      <td>4045</td>\n",
       "      <td>Very Good</td>\n",
       "      <td>NaN</td>\n",
       "      <td>Dorms From: Rs1670.65 Rs1587</td>\n",
       "      <td>Free WiFi:Follows Covid-19 sanitation guidance</td>\n",
       "      <td>Perfect Location:Superb Staff:Good Cleanliness</td>\n",
       "    </tr>\n",
       "    <tr>\n",
       "      <th>11</th>\n",
       "      <td>Clink261</td>\n",
       "      <td>3.2km from city centre</td>\n",
       "      <td>8.3</td>\n",
       "      <td>214</td>\n",
       "      <td>Fabulous</td>\n",
       "      <td>NaN</td>\n",
       "      <td>Dorms From: Rs2304</td>\n",
       "      <td>Free WiFi:Follows Covid-19 sanitation guidance</td>\n",
       "      <td>Perfect Location:Superb Staff:Excellent Cleanl...</td>\n",
       "    </tr>\n",
       "    <tr>\n",
       "      <th>12</th>\n",
       "      <td>Queen Elizabeth Chelsea</td>\n",
       "      <td>5.7km from city centre</td>\n",
       "      <td>6.9</td>\n",
       "      <td>3444</td>\n",
       "      <td>Good</td>\n",
       "      <td>NaN</td>\n",
       "      <td>Dorms From: Rs1498</td>\n",
       "      <td>Free WiFi</td>\n",
       "      <td>Wonderful Location:Superb Staff:Awesome Cleanl...</td>\n",
       "    </tr>\n",
       "    <tr>\n",
       "      <th>13</th>\n",
       "      <td>Saint James Backpackers</td>\n",
       "      <td>5.5km from city centre</td>\n",
       "      <td>8.1</td>\n",
       "      <td>1873</td>\n",
       "      <td>Fabulous</td>\n",
       "      <td>NaN</td>\n",
       "      <td>Dorms From: Rs4284</td>\n",
       "      <td>Free WiFi:Free Breakfast:Follows Covid-19 sani...</td>\n",
       "      <td>Perfect Location:Superb Staff:Excellent Cleanl...</td>\n",
       "    </tr>\n",
       "    <tr>\n",
       "      <th>14</th>\n",
       "      <td>PubLove @ The Steam Engine, Waterloo</td>\n",
       "      <td>0.5km from city centre</td>\n",
       "      <td>7.9</td>\n",
       "      <td>382</td>\n",
       "      <td>Very Good</td>\n",
       "      <td>NaN</td>\n",
       "      <td>Dorms From: Rs4574</td>\n",
       "      <td>Free WiFi</td>\n",
       "      <td>Perfect Location:Superb Staff:Awesome Cleanliness</td>\n",
       "    </tr>\n",
       "    <tr>\n",
       "      <th>15</th>\n",
       "      <td>St Christopher's Greenwich</td>\n",
       "      <td>7.6km from city centre</td>\n",
       "      <td>7.2</td>\n",
       "      <td>3329</td>\n",
       "      <td>Very Good</td>\n",
       "      <td>NaN</td>\n",
       "      <td>Dorms From: Rs1756.69 Rs1581</td>\n",
       "      <td>Free WiFi:Follows Covid-19 sanitation guidance</td>\n",
       "      <td>Wonderful Location:Marvellous Staff:Awesome Cl...</td>\n",
       "    </tr>\n",
       "    <tr>\n",
       "      <th>16</th>\n",
       "      <td>Selina Camden</td>\n",
       "      <td>5.5km from city centre</td>\n",
       "      <td>9.5</td>\n",
       "      <td>46</td>\n",
       "      <td>Superb</td>\n",
       "      <td>Privates From: Rs22648</td>\n",
       "      <td>Dorms From: Rs6750</td>\n",
       "      <td>Free WiFi</td>\n",
       "      <td>Perfect Location:Superb Staff:Fantastic Cleanl...</td>\n",
       "    </tr>\n",
       "    <tr>\n",
       "      <th>17</th>\n",
       "      <td>Kensal Green Backpackers</td>\n",
       "      <td>8.2km from city centre</td>\n",
       "      <td>7.5</td>\n",
       "      <td>3706</td>\n",
       "      <td>Rating</td>\n",
       "      <td>NaN</td>\n",
       "      <td>Dorms From: Rs1830</td>\n",
       "      <td>Follows Covid-19 sanitation guidance</td>\n",
       "      <td>Great Location</td>\n",
       "    </tr>\n",
       "    <tr>\n",
       "      <th>18</th>\n",
       "      <td>PubLove @ The White Ferry, Victoria</td>\n",
       "      <td>2.4km from city centre</td>\n",
       "      <td>6.5</td>\n",
       "      <td>324</td>\n",
       "      <td>Very Good</td>\n",
       "      <td>NaN</td>\n",
       "      <td>Dorms From: Rs6743</td>\n",
       "      <td>Free WiFi</td>\n",
       "      <td>Wonderful Location:Superb Staff:Awesome Cleanl...</td>\n",
       "    </tr>\n",
       "    <tr>\n",
       "      <th>19</th>\n",
       "      <td>Book a Bed Hostels</td>\n",
       "      <td>6.9km from city centre</td>\n",
       "      <td>7.5</td>\n",
       "      <td>1241</td>\n",
       "      <td>Good</td>\n",
       "      <td>Privates From: Rs8843.71 Rs7959</td>\n",
       "      <td>Dorms From: Rs2335.73 Rs2102</td>\n",
       "      <td>Free WiFi</td>\n",
       "      <td>Great Location:Marvellous Staff:Awesome Cleanl...</td>\n",
       "    </tr>\n",
       "    <tr>\n",
       "      <th>20</th>\n",
       "      <td>PubLove @ The Crown, Battersea</td>\n",
       "      <td>4.7km from city centre</td>\n",
       "      <td>7.5</td>\n",
       "      <td>297</td>\n",
       "      <td>Very Good</td>\n",
       "      <td>NaN</td>\n",
       "      <td>Dorms From: Rs2507</td>\n",
       "      <td>Free WiFi</td>\n",
       "      <td>Perfect Location:Marvellous Staff:Awesome Clea...</td>\n",
       "    </tr>\n",
       "    <tr>\n",
       "      <th>21</th>\n",
       "      <td>Hootananny Hostel</td>\n",
       "      <td>5km from city centre</td>\n",
       "      <td>9.0</td>\n",
       "      <td>1502</td>\n",
       "      <td>Very Good</td>\n",
       "      <td>NaN</td>\n",
       "      <td>Dorms From: Rs2640</td>\n",
       "      <td>Free WiFi:Free Breakfast</td>\n",
       "      <td>Wonderful Location:Superb Staff:Awesome Cleanl...</td>\n",
       "    </tr>\n",
       "    <tr>\n",
       "      <th>22</th>\n",
       "      <td>The Backpackshack</td>\n",
       "      <td>10.9km from city centre</td>\n",
       "      <td>7.7</td>\n",
       "      <td>757</td>\n",
       "      <td>Superb</td>\n",
       "      <td>Privates From: Rs4066</td>\n",
       "      <td>NaN</td>\n",
       "      <td>Free WiFi</td>\n",
       "      <td>Perfect Location:Superb Staff:Fantastic Cleanl...</td>\n",
       "    </tr>\n",
       "    <tr>\n",
       "      <th>23</th>\n",
       "      <td>Elmwood Hotel</td>\n",
       "      <td>3.2km from city centre</td>\n",
       "      <td>8.6</td>\n",
       "      <td>126</td>\n",
       "      <td>Very Good</td>\n",
       "      <td>Privates From: Rs14231</td>\n",
       "      <td>NaN</td>\n",
       "      <td></td>\n",
       "      <td>Perfect Location:Marvellous Staff:Awesome Clea...</td>\n",
       "    </tr>\n",
       "    <tr>\n",
       "      <th>24</th>\n",
       "      <td>Hostelle London</td>\n",
       "      <td>5.1km from city centre</td>\n",
       "      <td>6.6</td>\n",
       "      <td>7</td>\n",
       "      <td>Fabulous</td>\n",
       "      <td>NaN</td>\n",
       "      <td>Dorms From: Rs4676</td>\n",
       "      <td>Free WiFi:Follows Covid-19 sanitation guidance</td>\n",
       "      <td>Wonderful Location:Superb Staff:Fantastic Clea...</td>\n",
       "    </tr>\n",
       "    <tr>\n",
       "      <th>25</th>\n",
       "      <td>PubLove @ The Exmouth Arms, Euston</td>\n",
       "      <td>3.4km from city centre</td>\n",
       "      <td>6.4</td>\n",
       "      <td>1072</td>\n",
       "      <td>Good</td>\n",
       "      <td>NaN</td>\n",
       "      <td>Dorms From: Rs3761</td>\n",
       "      <td>Free WiFi</td>\n",
       "      <td>Wonderful Location:Brilliant Staff:Awesome Cle...</td>\n",
       "    </tr>\n",
       "    <tr>\n",
       "      <th>26</th>\n",
       "      <td>PubLove @ The Green Man, Paddington</td>\n",
       "      <td>4.3km from city centre</td>\n",
       "      <td>8.3</td>\n",
       "      <td>442</td>\n",
       "      <td>Good</td>\n",
       "      <td>NaN</td>\n",
       "      <td>Dorms From: Rs2202</td>\n",
       "      <td>Free WiFi</td>\n",
       "      <td>Wonderful Location:Marvellous Staff</td>\n",
       "    </tr>\n",
       "    <tr>\n",
       "      <th>27</th>\n",
       "      <td>YHA London St Pancras</td>\n",
       "      <td>3.3km from city centre</td>\n",
       "      <td>6.6</td>\n",
       "      <td>2866</td>\n",
       "      <td>Fabulous</td>\n",
       "      <td>Privates From: Rs21347</td>\n",
       "      <td>NaN</td>\n",
       "      <td>Free WiFi:Follows Covid-19 sanitation guidance</td>\n",
       "      <td>Perfect Location:Superb Staff:Excellent Cleanl...</td>\n",
       "    </tr>\n",
       "    <tr>\n",
       "      <th>28</th>\n",
       "      <td>City Hotel Carlton</td>\n",
       "      <td>1.8km from city centre</td>\n",
       "      <td>7.0</td>\n",
       "      <td>48</td>\n",
       "      <td>Good</td>\n",
       "      <td>Privates From: Rs22025</td>\n",
       "      <td>NaN</td>\n",
       "      <td></td>\n",
       "      <td>Perfect Location:Marvellous Staff</td>\n",
       "    </tr>\n",
       "    <tr>\n",
       "      <th>29</th>\n",
       "      <td>Kip Hotel</td>\n",
       "      <td>6.8km from city centre</td>\n",
       "      <td>6.6</td>\n",
       "      <td>55</td>\n",
       "      <td>Very Good</td>\n",
       "      <td>Privates From: Rs10640</td>\n",
       "      <td>NaN</td>\n",
       "      <td>Free WiFi</td>\n",
       "      <td>Wonderful Location:Superb Staff:Awesome Cleanl...</td>\n",
       "    </tr>\n",
       "  </tbody>\n",
       "</table>\n",
       "</div>"
      ],
      "text/plain": [
       "                                Hostel Name Distance from City Centre Ratings  \\\n",
       "0               Wombat's City Hostel London    3.6km from city centre     9.0   \n",
       "1                  St Christopher's Village    1.8km from city centre     7.7   \n",
       "2                   Hostel One Notting Hill    5.5km from city centre     9.5   \n",
       "3                          NX London Hostel    6.1km from city centre     8.2   \n",
       "4         Safestay London Elephant & Castle    1.7km from city centre     7.5   \n",
       "5                          Generator London      3km from city centre     7.4   \n",
       "6   Safestay London Kensington Holland Park    5.8km from city centre     7.1   \n",
       "7                        London Backpackers   11.9km from city centre     7.7   \n",
       "8                            Astor Victoria    1.8km from city centre     7.5   \n",
       "9                        No.8 Seven Sisters      9km from city centre     6.0   \n",
       "10                           Phoenix Hostel    4.2km from city centre     7.2   \n",
       "11                                 Clink261    3.2km from city centre     8.3   \n",
       "12                  Queen Elizabeth Chelsea    5.7km from city centre     6.9   \n",
       "13                  Saint James Backpackers    5.5km from city centre     8.1   \n",
       "14     PubLove @ The Steam Engine, Waterloo    0.5km from city centre     7.9   \n",
       "15               St Christopher's Greenwich    7.6km from city centre     7.2   \n",
       "16                            Selina Camden    5.5km from city centre     9.5   \n",
       "17                 Kensal Green Backpackers    8.2km from city centre     7.5   \n",
       "18      PubLove @ The White Ferry, Victoria    2.4km from city centre     6.5   \n",
       "19                       Book a Bed Hostels    6.9km from city centre     7.5   \n",
       "20           PubLove @ The Crown, Battersea    4.7km from city centre     7.5   \n",
       "21                        Hootananny Hostel      5km from city centre     9.0   \n",
       "22                        The Backpackshack   10.9km from city centre     7.7   \n",
       "23                            Elmwood Hotel    3.2km from city centre     8.6   \n",
       "24                          Hostelle London    5.1km from city centre     6.6   \n",
       "25       PubLove @ The Exmouth Arms, Euston    3.4km from city centre     6.4   \n",
       "26      PubLove @ The Green Man, Paddington    4.3km from city centre     8.3   \n",
       "27                    YHA London St Pancras    3.3km from city centre     6.6   \n",
       "28                       City Hotel Carlton    1.8km from city centre     7.0   \n",
       "29                                Kip Hotel    6.8km from city centre     6.6   \n",
       "\n",
       "   Total Reviews Overall Reviews                Privates from Price  \\\n",
       "0          14717          Superb  Privates From: Rs33969.49 Rs27176   \n",
       "1          12043       Very Good                                NaN   \n",
       "2           1937          Superb             Privates From: Rs18318   \n",
       "3           1808        Fabulous                                NaN   \n",
       "4           4897       Very Good             Privates From: Rs10165   \n",
       "5           7427       Very Good             Privates From: Rs16102   \n",
       "6           1478       Very Good                                NaN   \n",
       "7           4438       Very Good              Privates From: Rs5764   \n",
       "8          14931       Very Good                                NaN   \n",
       "9           3983            Good                                NaN   \n",
       "10          4045       Very Good                                NaN   \n",
       "11           214        Fabulous                                NaN   \n",
       "12          3444            Good                                NaN   \n",
       "13          1873        Fabulous                                NaN   \n",
       "14           382       Very Good                                NaN   \n",
       "15          3329       Very Good                                NaN   \n",
       "16            46          Superb             Privates From: Rs22648   \n",
       "17          3706          Rating                                NaN   \n",
       "18           324       Very Good                                NaN   \n",
       "19          1241            Good    Privates From: Rs8843.71 Rs7959   \n",
       "20           297       Very Good                                NaN   \n",
       "21          1502       Very Good                                NaN   \n",
       "22           757          Superb              Privates From: Rs4066   \n",
       "23           126       Very Good             Privates From: Rs14231   \n",
       "24             7        Fabulous                                NaN   \n",
       "25          1072            Good                                NaN   \n",
       "26           442            Good                                NaN   \n",
       "27          2866        Fabulous             Privates From: Rs21347   \n",
       "28            48            Good             Privates From: Rs22025   \n",
       "29            55       Very Good             Privates From: Rs10640   \n",
       "\n",
       "                Dorms from Price  \\\n",
       "0   Dorms From: Rs5206.26 Rs4165   \n",
       "1   Dorms From: Rs1944.19 Rs1750   \n",
       "2                            NaN   \n",
       "3             Dorms From: Rs2868   \n",
       "4             Dorms From: Rs2270   \n",
       "5             Dorms From: Rs3324   \n",
       "6             Dorms From: Rs1948   \n",
       "7             Dorms From: Rs1729   \n",
       "8             Dorms From: Rs2135   \n",
       "9              Dorms From: Rs944   \n",
       "10  Dorms From: Rs1670.65 Rs1587   \n",
       "11            Dorms From: Rs2304   \n",
       "12            Dorms From: Rs1498   \n",
       "13            Dorms From: Rs4284   \n",
       "14            Dorms From: Rs4574   \n",
       "15  Dorms From: Rs1756.69 Rs1581   \n",
       "16            Dorms From: Rs6750   \n",
       "17            Dorms From: Rs1830   \n",
       "18            Dorms From: Rs6743   \n",
       "19  Dorms From: Rs2335.73 Rs2102   \n",
       "20            Dorms From: Rs2507   \n",
       "21            Dorms From: Rs2640   \n",
       "22                           NaN   \n",
       "23                           NaN   \n",
       "24            Dorms From: Rs4676   \n",
       "25            Dorms From: Rs3761   \n",
       "26            Dorms From: Rs2202   \n",
       "27                           NaN   \n",
       "28                           NaN   \n",
       "29                           NaN   \n",
       "\n",
       "                                           Facilities  \\\n",
       "0      Free WiFi:Follows Covid-19 sanitation guidance   \n",
       "1      Free WiFi:Follows Covid-19 sanitation guidance   \n",
       "2                                           Free WiFi   \n",
       "3                            Free WiFi:Free Breakfast   \n",
       "4      Free WiFi:Follows Covid-19 sanitation guidance   \n",
       "5      Free WiFi:Follows Covid-19 sanitation guidance   \n",
       "6                                           Free WiFi   \n",
       "7      Free WiFi:Follows Covid-19 sanitation guidance   \n",
       "8      Free WiFi:Follows Covid-19 sanitation guidance   \n",
       "9      Free WiFi:Follows Covid-19 sanitation guidance   \n",
       "10     Free WiFi:Follows Covid-19 sanitation guidance   \n",
       "11     Free WiFi:Follows Covid-19 sanitation guidance   \n",
       "12                                          Free WiFi   \n",
       "13  Free WiFi:Free Breakfast:Follows Covid-19 sani...   \n",
       "14                                          Free WiFi   \n",
       "15     Free WiFi:Follows Covid-19 sanitation guidance   \n",
       "16                                          Free WiFi   \n",
       "17               Follows Covid-19 sanitation guidance   \n",
       "18                                          Free WiFi   \n",
       "19                                          Free WiFi   \n",
       "20                                          Free WiFi   \n",
       "21                           Free WiFi:Free Breakfast   \n",
       "22                                          Free WiFi   \n",
       "23                                                      \n",
       "24     Free WiFi:Follows Covid-19 sanitation guidance   \n",
       "25                                          Free WiFi   \n",
       "26                                          Free WiFi   \n",
       "27     Free WiFi:Follows Covid-19 sanitation guidance   \n",
       "28                                                      \n",
       "29                                          Free WiFi   \n",
       "\n",
       "                                          Description  \n",
       "0   Perfect Location:Superb Staff:Fantastic Cleanl...  \n",
       "1   Perfect Location:Marvellous Staff:Awesome Clea...  \n",
       "2   Perfect Location:Superb Staff:Fantastic Cleanl...  \n",
       "3   Perfect Location:Superb Staff:Excellent Cleanl...  \n",
       "4   Wonderful Location:Marvellous Staff:Excellent ...  \n",
       "5   Perfect Location:Marvellous Staff:Awesome Clea...  \n",
       "6   Wonderful Location:Marvellous Staff:Awesome Cl...  \n",
       "7   Wonderful Location:Superb Staff:Excellent Clea...  \n",
       "8   Perfect Location:Superb Staff:Awesome Cleanliness  \n",
       "9                      Great Location:Brilliant Staff  \n",
       "10     Perfect Location:Superb Staff:Good Cleanliness  \n",
       "11  Perfect Location:Superb Staff:Excellent Cleanl...  \n",
       "12  Wonderful Location:Superb Staff:Awesome Cleanl...  \n",
       "13  Perfect Location:Superb Staff:Excellent Cleanl...  \n",
       "14  Perfect Location:Superb Staff:Awesome Cleanliness  \n",
       "15  Wonderful Location:Marvellous Staff:Awesome Cl...  \n",
       "16  Perfect Location:Superb Staff:Fantastic Cleanl...  \n",
       "17                                     Great Location  \n",
       "18  Wonderful Location:Superb Staff:Awesome Cleanl...  \n",
       "19  Great Location:Marvellous Staff:Awesome Cleanl...  \n",
       "20  Perfect Location:Marvellous Staff:Awesome Clea...  \n",
       "21  Wonderful Location:Superb Staff:Awesome Cleanl...  \n",
       "22  Perfect Location:Superb Staff:Fantastic Cleanl...  \n",
       "23  Perfect Location:Marvellous Staff:Awesome Clea...  \n",
       "24  Wonderful Location:Superb Staff:Fantastic Clea...  \n",
       "25  Wonderful Location:Brilliant Staff:Awesome Cle...  \n",
       "26                Wonderful Location:Marvellous Staff  \n",
       "27  Perfect Location:Superb Staff:Excellent Cleanl...  \n",
       "28                  Perfect Location:Marvellous Staff  \n",
       "29  Wonderful Location:Superb Staff:Awesome Cleanl...  "
      ]
     },
     "execution_count": 81,
     "metadata": {},
     "output_type": "execute_result"
    }
   ],
   "source": [
    "Df=pd.DataFrame({'Hostel Name':hostelname,'Distance from City Centre':Distance,'Ratings':Ratings,'Total Reviews':reviews,'Overall Reviews':overall,'Privates from Price':Privates,'Dorms from Price':dorms,'Facilities':facilities,'Description':Description})\n",
    "Df"
   ]
  },
  {
   "cell_type": "markdown",
   "id": "59ff28a7",
   "metadata": {},
   "source": [
    "# Question no 4 "
   ]
  },
  {
   "cell_type": "code",
   "execution_count": 14,
   "id": "d1f6f909",
   "metadata": {},
   "outputs": [],
   "source": [
    "#connect to the driver\n",
    "driver=webdriver.Chrome(r\"C:\\Users\\91969\\Downloads\\chromedriver_win32\\chromedriver.exe\")"
   ]
  },
  {
   "cell_type": "code",
   "execution_count": 15,
   "id": "2dcf7e84",
   "metadata": {},
   "outputs": [],
   "source": [
    "#opening the site\n",
    "driver.get(\"https://www.flipkart.com/\")"
   ]
  },
  {
   "cell_type": "code",
   "execution_count": 16,
   "id": "50ebbe16",
   "metadata": {},
   "outputs": [],
   "source": [
    "search=driver.find_element(By.CLASS_NAME,\"_3704LK\")\n",
    "search.send_keys('one plus mobile')"
   ]
  },
  {
   "cell_type": "code",
   "execution_count": 18,
   "id": "e47a4644",
   "metadata": {},
   "outputs": [],
   "source": [
    "button=driver.find_element(By.XPATH,'/html/body/div[1]/div/div[1]/div[1]/div[2]/div[2]/form/div/button')\n",
    "button.click()"
   ]
  },
  {
   "cell_type": "code",
   "execution_count": 11,
   "id": "cbb3a687",
   "metadata": {},
   "outputs": [],
   "source": [
    "Brand = []"
   ]
  },
  {
   "cell_type": "code",
   "execution_count": 12,
   "id": "e28ebdfa",
   "metadata": {},
   "outputs": [],
   "source": [
    "brand=driver.find_elements(By.XPATH,'//div[@class=\"_4rR01T\"]')\n",
    "for i in brand:\n",
    "    Brand.append(i.text.split('(')[0])"
   ]
  },
  {
   "cell_type": "code",
   "execution_count": 14,
   "id": "f57552c4",
   "metadata": {},
   "outputs": [
    {
     "data": {
      "text/plain": [
       "24"
      ]
     },
     "execution_count": 14,
     "metadata": {},
     "output_type": "execute_result"
    }
   ],
   "source": [
    "len(Brand)"
   ]
  },
  {
   "cell_type": "code",
   "execution_count": 15,
   "id": "8cc94d98",
   "metadata": {},
   "outputs": [],
   "source": [
    "col = []"
   ]
  },
  {
   "cell_type": "code",
   "execution_count": 16,
   "id": "1dcc08de",
   "metadata": {},
   "outputs": [],
   "source": [
    "brande=driver.find_elements(By.XPATH,'//div[@class=\"_4rR01T\"]')\n",
    "for i in brande:\n",
    "    col.append(i.text.split('(')[1])"
   ]
  },
  {
   "cell_type": "code",
   "execution_count": 105,
   "id": "a6c0c822",
   "metadata": {},
   "outputs": [
    {
     "data": {
      "text/plain": [
       "24"
      ]
     },
     "execution_count": 105,
     "metadata": {},
     "output_type": "execute_result"
    }
   ],
   "source": [
    "len(col)"
   ]
  },
  {
   "cell_type": "markdown",
   "id": "6674230d",
   "metadata": {},
   "source": [
    "# Question no 5 "
   ]
  },
  {
   "cell_type": "code",
   "execution_count": 2,
   "id": "9ebbd7ad",
   "metadata": {},
   "outputs": [],
   "source": [
    "#connect to the driver\n",
    "driver=webdriver.Chrome(r\"C:\\Users\\91969\\Downloads\\chromedriver_win32\\chromedriver.exe\")"
   ]
  },
  {
   "cell_type": "code",
   "execution_count": 3,
   "id": "7e25665e",
   "metadata": {},
   "outputs": [],
   "source": [
    "#opening the site\n",
    "driver.get(\"https://www.googlemaps.com/\")"
   ]
  },
  {
   "cell_type": "code",
   "execution_count": 4,
   "id": "ad710a4b",
   "metadata": {},
   "outputs": [],
   "source": [
    "search=driver.find_element(By.CLASS_NAME,\"tactile-searchbox-input\")\n",
    "search.send_keys('Delhi')"
   ]
  },
  {
   "cell_type": "code",
   "execution_count": null,
   "id": "ce360377",
   "metadata": {},
   "outputs": [],
   "source": [
    "# Click=driver.find_element(By.XPATH,'/html/body/div[3]/div[9]/div[3]/div[1]/div[1]/div[1]/div[2]/div[1]/button')\n",
    "Click.click()"
   ]
  },
  {
   "cell_type": "code",
   "execution_count": 6,
   "id": "dd0e7887",
   "metadata": {},
   "outputs": [
    {
     "name": "stdout",
     "output_type": "stream",
     "text": [
      "url extracted: https://www.google.com/maps/place/Delhi/@28.6440836,77.0932312,10z/data=!3m1!4b1!4m6!3m5!1s0x390cfd5b347eb62d:0x37205b715389640!8m2!3d28.7040592!4d77.1024902!16zL20vMDlmMDc\n"
     ]
    }
   ],
   "source": [
    "url_string=driver.current_url\n",
    "print('url extracted:',url_string)"
   ]
  },
  {
   "cell_type": "code",
   "execution_count": 11,
   "id": "91a7953f",
   "metadata": {},
   "outputs": [],
   "source": [
    "import re"
   ]
  },
  {
   "cell_type": "code",
   "execution_count": 47,
   "id": "aabce4ba",
   "metadata": {},
   "outputs": [],
   "source": [
    "lat_long=re.findall(r'@(.*)data',url_string)"
   ]
  },
  {
   "cell_type": "code",
   "execution_count": 60,
   "id": "1afa3722",
   "metadata": {},
   "outputs": [
    {
     "name": "stdout",
     "output_type": "stream",
     "text": [
      "Latitude = 28.6440836, Longitude = 77.0932312\n"
     ]
    }
   ],
   "source": [
    "if len(lat_long):\n",
    "\n",
    "        lat_lng_list = lat_long[0].split(\",\")\n",
    "\n",
    "        if len(lat_lng_list)>=2:\n",
    "\n",
    "            lat = lat_lng_list[0]\n",
    "\n",
    "            lng = lat_lng_list[1]\n",
    "\n",
    "        print(\"Latitude = {}, Longitude = {}\".format(lat, lng))"
   ]
  },
  {
   "cell_type": "markdown",
   "id": "5516a98c",
   "metadata": {},
   "source": [
    "# Question no 1"
   ]
  },
  {
   "cell_type": "code",
   "execution_count": 22,
   "id": "bda0c5e1",
   "metadata": {},
   "outputs": [
    {
     "name": "stdout",
     "output_type": "stream",
     "text": [
      "what to search: Guitars\n"
     ]
    }
   ],
   "source": [
    "enter=input(\"what to search: \")\n"
   ]
  },
  {
   "cell_type": "markdown",
   "id": "fcfe15c6",
   "metadata": {},
   "source": [
    "# Question no 2"
   ]
  },
  {
   "cell_type": "code",
   "execution_count": 10,
   "id": "caab8813",
   "metadata": {},
   "outputs": [],
   "source": [
    "#connect to the driver\n",
    "driver=webdriver.Chrome(r\"C:\\Users\\91969\\Downloads\\chromedriver_win32\\chromedriver.exe\")"
   ]
  },
  {
   "cell_type": "code",
   "execution_count": 11,
   "id": "533ba7c8",
   "metadata": {},
   "outputs": [],
   "source": [
    "#opening the site\n",
    "driver.get(\"https://www.amazon.in/\")"
   ]
  },
  {
   "cell_type": "code",
   "execution_count": 12,
   "id": "0af864ef",
   "metadata": {},
   "outputs": [],
   "source": [
    "search=driver.find_element(By.XPATH,'/html/body/div[1]/header/div/div[1]/div[2]/div/form/div[2]/div[1]/input')\n",
    "search.send_keys('Guitars')"
   ]
  },
  {
   "cell_type": "code",
   "execution_count": 13,
   "id": "3e96ca3f",
   "metadata": {},
   "outputs": [],
   "source": [
    "loc=driver.find_element(By.XPATH,'/html/body/div[1]/header/div/div[1]/div[2]/div/form/div[3]/div/span/input')\n",
    "loc.click()"
   ]
  },
  {
   "cell_type": "markdown",
   "id": "2ac7bc66",
   "metadata": {},
   "source": [
    "# sir same code as sir told in doubt session,restarted kernel many times tried in another notebook but still not working"
   ]
  },
  {
   "cell_type": "code",
   "execution_count": 14,
   "id": "705d46a8",
   "metadata": {},
   "outputs": [
    {
     "ename": "StaleElementReferenceException",
     "evalue": "Message: stale element reference: element is not attached to the page document\n  (Session info: chrome=112.0.5615.121)\nStacktrace:\nBacktrace:\n\tGetHandleVerifier [0x0074DCE3+50899]\n\t(No symbol) [0x006DE111]\n\t(No symbol) [0x005E5588]\n\t(No symbol) [0x005E7EDB]\n\t(No symbol) [0x005E7DB0]\n\t(No symbol) [0x005E8690]\n\t(No symbol) [0x0063E98D]\n\t(No symbol) [0x0062B8FC]\n\t(No symbol) [0x0063E01C]\n\t(No symbol) [0x0062B6F6]\n\t(No symbol) [0x00607708]\n\t(No symbol) [0x0060886D]\n\tGetHandleVerifier [0x009B3EAE+2566302]\n\tGetHandleVerifier [0x009E92B1+2784417]\n\tGetHandleVerifier [0x009E327C+2759788]\n\tGetHandleVerifier [0x007E5740+672048]\n\t(No symbol) [0x006E8872]\n\t(No symbol) [0x006E41C8]\n\t(No symbol) [0x006E42AB]\n\t(No symbol) [0x006D71B7]\n\tBaseThreadInitThunk [0x765000F9+25]\n\tRtlGetAppContainerNamedObjectPath [0x77BC7BBE+286]\n\tRtlGetAppContainerNamedObjectPath [0x77BC7B8E+238]\n",
     "output_type": "error",
     "traceback": [
      "\u001b[1;31m---------------------------------------------------------------------------\u001b[0m",
      "\u001b[1;31mStaleElementReferenceException\u001b[0m            Traceback (most recent call last)",
      "\u001b[1;32m~\\AppData\\Local\\Temp\\ipykernel_8544\\3472257811.py\u001b[0m in \u001b[0;36m<module>\u001b[1;34m\u001b[0m\n\u001b[0;32m      5\u001b[0m     \u001b[0murl\u001b[0m\u001b[1;33m=\u001b[0m\u001b[0mdriver\u001b[0m\u001b[1;33m.\u001b[0m\u001b[0mfind_elements\u001b[0m\u001b[1;33m(\u001b[0m\u001b[0mBy\u001b[0m\u001b[1;33m.\u001b[0m\u001b[0mXPATH\u001b[0m\u001b[1;33m,\u001b[0m\u001b[1;34m'//a[@class=\"a-link-normal s-underline-text s-underline-link-text s-link-style a-text-normal\"]'\u001b[0m\u001b[1;33m)\u001b[0m\u001b[1;33m\u001b[0m\u001b[1;33m\u001b[0m\u001b[0m\n\u001b[0;32m      6\u001b[0m     \u001b[1;32mfor\u001b[0m \u001b[0mi\u001b[0m \u001b[1;32min\u001b[0m \u001b[0murl\u001b[0m\u001b[1;33m:\u001b[0m\u001b[1;33m\u001b[0m\u001b[1;33m\u001b[0m\u001b[0m\n\u001b[1;32m----> 7\u001b[1;33m         \u001b[0mproduct_url\u001b[0m\u001b[1;33m.\u001b[0m\u001b[0mappend\u001b[0m\u001b[1;33m(\u001b[0m\u001b[0mi\u001b[0m\u001b[1;33m.\u001b[0m\u001b[0mget_attribute\u001b[0m\u001b[1;33m(\u001b[0m\u001b[1;34m\"href\"\u001b[0m\u001b[1;33m)\u001b[0m\u001b[1;33m)\u001b[0m\u001b[1;33m\u001b[0m\u001b[1;33m\u001b[0m\u001b[0m\n\u001b[0m\u001b[0;32m      8\u001b[0m         \u001b[0mnxt\u001b[0m\u001b[1;33m=\u001b[0m\u001b[0mdriver\u001b[0m\u001b[1;33m.\u001b[0m\u001b[0mfind_element\u001b[0m\u001b[1;33m(\u001b[0m\u001b[0mBy\u001b[0m\u001b[1;33m.\u001b[0m\u001b[0mXPATH\u001b[0m\u001b[1;33m,\u001b[0m\u001b[1;34m'//a[@class=\"s-pagination-item s-pagination-next s-pagination-button s-pagination-separator\"]'\u001b[0m\u001b[1;33m)\u001b[0m\u001b[1;33m\u001b[0m\u001b[1;33m\u001b[0m\u001b[0m\n\u001b[0;32m      9\u001b[0m         \u001b[0mnxt\u001b[0m\u001b[1;33m.\u001b[0m\u001b[0mclick\u001b[0m\u001b[1;33m(\u001b[0m\u001b[1;33m)\u001b[0m\u001b[1;33m\u001b[0m\u001b[1;33m\u001b[0m\u001b[0m\n",
      "\u001b[1;32m~\\anaconda\\lib\\site-packages\\selenium\\webdriver\\remote\\webelement.py\u001b[0m in \u001b[0;36mget_attribute\u001b[1;34m(self, name)\u001b[0m\n\u001b[0;32m    176\u001b[0m         \u001b[1;32mif\u001b[0m \u001b[0mgetAttribute_js\u001b[0m \u001b[1;32mis\u001b[0m \u001b[1;32mNone\u001b[0m\u001b[1;33m:\u001b[0m\u001b[1;33m\u001b[0m\u001b[1;33m\u001b[0m\u001b[0m\n\u001b[0;32m    177\u001b[0m             \u001b[0m_load_js\u001b[0m\u001b[1;33m(\u001b[0m\u001b[1;33m)\u001b[0m\u001b[1;33m\u001b[0m\u001b[1;33m\u001b[0m\u001b[0m\n\u001b[1;32m--> 178\u001b[1;33m         attribute_value = self.parent.execute_script(\n\u001b[0m\u001b[0;32m    179\u001b[0m             \u001b[1;34mf\"/* getAttribute */return ({getAttribute_js}).apply(null, arguments);\"\u001b[0m\u001b[1;33m,\u001b[0m \u001b[0mself\u001b[0m\u001b[1;33m,\u001b[0m \u001b[0mname\u001b[0m\u001b[1;33m\u001b[0m\u001b[1;33m\u001b[0m\u001b[0m\n\u001b[0;32m    180\u001b[0m         )\n",
      "\u001b[1;32m~\\anaconda\\lib\\site-packages\\selenium\\webdriver\\remote\\webdriver.py\u001b[0m in \u001b[0;36mexecute_script\u001b[1;34m(self, script, *args)\u001b[0m\n\u001b[0;32m    498\u001b[0m         \u001b[0mcommand\u001b[0m \u001b[1;33m=\u001b[0m \u001b[0mCommand\u001b[0m\u001b[1;33m.\u001b[0m\u001b[0mW3C_EXECUTE_SCRIPT\u001b[0m\u001b[1;33m\u001b[0m\u001b[1;33m\u001b[0m\u001b[0m\n\u001b[0;32m    499\u001b[0m \u001b[1;33m\u001b[0m\u001b[0m\n\u001b[1;32m--> 500\u001b[1;33m         \u001b[1;32mreturn\u001b[0m \u001b[0mself\u001b[0m\u001b[1;33m.\u001b[0m\u001b[0mexecute\u001b[0m\u001b[1;33m(\u001b[0m\u001b[0mcommand\u001b[0m\u001b[1;33m,\u001b[0m \u001b[1;33m{\u001b[0m\u001b[1;34m\"script\"\u001b[0m\u001b[1;33m:\u001b[0m \u001b[0mscript\u001b[0m\u001b[1;33m,\u001b[0m \u001b[1;34m\"args\"\u001b[0m\u001b[1;33m:\u001b[0m \u001b[0mconverted_args\u001b[0m\u001b[1;33m}\u001b[0m\u001b[1;33m)\u001b[0m\u001b[1;33m[\u001b[0m\u001b[1;34m\"value\"\u001b[0m\u001b[1;33m]\u001b[0m\u001b[1;33m\u001b[0m\u001b[1;33m\u001b[0m\u001b[0m\n\u001b[0m\u001b[0;32m    501\u001b[0m \u001b[1;33m\u001b[0m\u001b[0m\n\u001b[0;32m    502\u001b[0m     \u001b[1;32mdef\u001b[0m \u001b[0mexecute_async_script\u001b[0m\u001b[1;33m(\u001b[0m\u001b[0mself\u001b[0m\u001b[1;33m,\u001b[0m \u001b[0mscript\u001b[0m\u001b[1;33m:\u001b[0m \u001b[0mstr\u001b[0m\u001b[1;33m,\u001b[0m \u001b[1;33m*\u001b[0m\u001b[0margs\u001b[0m\u001b[1;33m)\u001b[0m\u001b[1;33m:\u001b[0m\u001b[1;33m\u001b[0m\u001b[1;33m\u001b[0m\u001b[0m\n",
      "\u001b[1;32m~\\anaconda\\lib\\site-packages\\selenium\\webdriver\\remote\\webdriver.py\u001b[0m in \u001b[0;36mexecute\u001b[1;34m(self, driver_command, params)\u001b[0m\n\u001b[0;32m    438\u001b[0m         \u001b[0mresponse\u001b[0m \u001b[1;33m=\u001b[0m \u001b[0mself\u001b[0m\u001b[1;33m.\u001b[0m\u001b[0mcommand_executor\u001b[0m\u001b[1;33m.\u001b[0m\u001b[0mexecute\u001b[0m\u001b[1;33m(\u001b[0m\u001b[0mdriver_command\u001b[0m\u001b[1;33m,\u001b[0m \u001b[0mparams\u001b[0m\u001b[1;33m)\u001b[0m\u001b[1;33m\u001b[0m\u001b[1;33m\u001b[0m\u001b[0m\n\u001b[0;32m    439\u001b[0m         \u001b[1;32mif\u001b[0m \u001b[0mresponse\u001b[0m\u001b[1;33m:\u001b[0m\u001b[1;33m\u001b[0m\u001b[1;33m\u001b[0m\u001b[0m\n\u001b[1;32m--> 440\u001b[1;33m             \u001b[0mself\u001b[0m\u001b[1;33m.\u001b[0m\u001b[0merror_handler\u001b[0m\u001b[1;33m.\u001b[0m\u001b[0mcheck_response\u001b[0m\u001b[1;33m(\u001b[0m\u001b[0mresponse\u001b[0m\u001b[1;33m)\u001b[0m\u001b[1;33m\u001b[0m\u001b[1;33m\u001b[0m\u001b[0m\n\u001b[0m\u001b[0;32m    441\u001b[0m             \u001b[0mresponse\u001b[0m\u001b[1;33m[\u001b[0m\u001b[1;34m\"value\"\u001b[0m\u001b[1;33m]\u001b[0m \u001b[1;33m=\u001b[0m \u001b[0mself\u001b[0m\u001b[1;33m.\u001b[0m\u001b[0m_unwrap_value\u001b[0m\u001b[1;33m(\u001b[0m\u001b[0mresponse\u001b[0m\u001b[1;33m.\u001b[0m\u001b[0mget\u001b[0m\u001b[1;33m(\u001b[0m\u001b[1;34m\"value\"\u001b[0m\u001b[1;33m,\u001b[0m \u001b[1;32mNone\u001b[0m\u001b[1;33m)\u001b[0m\u001b[1;33m)\u001b[0m\u001b[1;33m\u001b[0m\u001b[1;33m\u001b[0m\u001b[0m\n\u001b[0;32m    442\u001b[0m             \u001b[1;32mreturn\u001b[0m \u001b[0mresponse\u001b[0m\u001b[1;33m\u001b[0m\u001b[1;33m\u001b[0m\u001b[0m\n",
      "\u001b[1;32m~\\anaconda\\lib\\site-packages\\selenium\\webdriver\\remote\\errorhandler.py\u001b[0m in \u001b[0;36mcheck_response\u001b[1;34m(self, response)\u001b[0m\n\u001b[0;32m    243\u001b[0m                 \u001b[0malert_text\u001b[0m \u001b[1;33m=\u001b[0m \u001b[0mvalue\u001b[0m\u001b[1;33m[\u001b[0m\u001b[1;34m\"alert\"\u001b[0m\u001b[1;33m]\u001b[0m\u001b[1;33m.\u001b[0m\u001b[0mget\u001b[0m\u001b[1;33m(\u001b[0m\u001b[1;34m\"text\"\u001b[0m\u001b[1;33m)\u001b[0m\u001b[1;33m\u001b[0m\u001b[1;33m\u001b[0m\u001b[0m\n\u001b[0;32m    244\u001b[0m             \u001b[1;32mraise\u001b[0m \u001b[0mexception_class\u001b[0m\u001b[1;33m(\u001b[0m\u001b[0mmessage\u001b[0m\u001b[1;33m,\u001b[0m \u001b[0mscreen\u001b[0m\u001b[1;33m,\u001b[0m \u001b[0mstacktrace\u001b[0m\u001b[1;33m,\u001b[0m \u001b[0malert_text\u001b[0m\u001b[1;33m)\u001b[0m  \u001b[1;31m# type: ignore[call-arg]  # mypy is not smart enough here\u001b[0m\u001b[1;33m\u001b[0m\u001b[1;33m\u001b[0m\u001b[0m\n\u001b[1;32m--> 245\u001b[1;33m         \u001b[1;32mraise\u001b[0m \u001b[0mexception_class\u001b[0m\u001b[1;33m(\u001b[0m\u001b[0mmessage\u001b[0m\u001b[1;33m,\u001b[0m \u001b[0mscreen\u001b[0m\u001b[1;33m,\u001b[0m \u001b[0mstacktrace\u001b[0m\u001b[1;33m)\u001b[0m\u001b[1;33m\u001b[0m\u001b[1;33m\u001b[0m\u001b[0m\n\u001b[0m",
      "\u001b[1;31mStaleElementReferenceException\u001b[0m: Message: stale element reference: element is not attached to the page document\n  (Session info: chrome=112.0.5615.121)\nStacktrace:\nBacktrace:\n\tGetHandleVerifier [0x0074DCE3+50899]\n\t(No symbol) [0x006DE111]\n\t(No symbol) [0x005E5588]\n\t(No symbol) [0x005E7EDB]\n\t(No symbol) [0x005E7DB0]\n\t(No symbol) [0x005E8690]\n\t(No symbol) [0x0063E98D]\n\t(No symbol) [0x0062B8FC]\n\t(No symbol) [0x0063E01C]\n\t(No symbol) [0x0062B6F6]\n\t(No symbol) [0x00607708]\n\t(No symbol) [0x0060886D]\n\tGetHandleVerifier [0x009B3EAE+2566302]\n\tGetHandleVerifier [0x009E92B1+2784417]\n\tGetHandleVerifier [0x009E327C+2759788]\n\tGetHandleVerifier [0x007E5740+672048]\n\t(No symbol) [0x006E8872]\n\t(No symbol) [0x006E41C8]\n\t(No symbol) [0x006E42AB]\n\t(No symbol) [0x006D71B7]\n\tBaseThreadInitThunk [0x765000F9+25]\n\tRtlGetAppContainerNamedObjectPath [0x77BC7BBE+286]\n\tRtlGetAppContainerNamedObjectPath [0x77BC7B8E+238]\n"
     ]
    }
   ],
   "source": [
    "product_url = []\n",
    "start = 0\n",
    "end = 3\n",
    "for page in range(start,end):\n",
    "    url=driver.find_elements(By.XPATH,'//a[@class=\"a-link-normal s-underline-text s-underline-link-text s-link-style a-text-normal\"]')\n",
    "    for i in url:\n",
    "        product_url.append(i.get_attribute(\"href\"))\n",
    "        nxt=driver.find_element(By.XPATH,'//a[@class=\"s-pagination-item s-pagination-next s-pagination-button s-pagination-separator\"]')\n",
    "        nxt.click()"
   ]
  },
  {
   "cell_type": "code",
   "execution_count": 24,
   "id": "394f7423",
   "metadata": {},
   "outputs": [
    {
     "data": {
      "text/plain": [
       "0"
      ]
     },
     "execution_count": 24,
     "metadata": {},
     "output_type": "execute_result"
    }
   ],
   "source": [
    "len(product_url)"
   ]
  },
  {
   "cell_type": "markdown",
   "id": "6dcea788",
   "metadata": {},
   "source": [
    "# Question no 3"
   ]
  },
  {
   "cell_type": "code",
   "execution_count": 4,
   "id": "cf6013d1",
   "metadata": {},
   "outputs": [],
   "source": [
    "#connect to the driver\n",
    "driver=webdriver.Chrome(r\"C:\\Users\\91969\\Downloads\\chromedriver_win32\\chromedriver.exe\")\n"
   ]
  },
  {
   "cell_type": "code",
   "execution_count": 5,
   "id": "9f5bc1a8",
   "metadata": {},
   "outputs": [],
   "source": [
    "#opening the site\n",
    "driver.get(\"https://www.google.com/\")"
   ]
  },
  {
   "cell_type": "code",
   "execution_count": 6,
   "id": "5cdfdaaf",
   "metadata": {},
   "outputs": [],
   "source": [
    "search=driver.find_element(By.CLASS_NAME,\"gLFyf\")\n",
    "search.send_keys('cakes')"
   ]
  },
  {
   "cell_type": "code",
   "execution_count": 39,
   "id": "c97d59bc",
   "metadata": {},
   "outputs": [],
   "source": [
    "Click=driver.find_element(By.XPATH,'/html/body/div[1]/div[3]/form/div[1]/div[1]/div[1]/div/div[1]/div')\n",
    "Click.click()"
   ]
  },
  {
   "cell_type": "code",
   "execution_count": 7,
   "id": "9f7c5cc0",
   "metadata": {},
   "outputs": [],
   "source": [
    "image=driver.find_element(By.XPATH,'/html/body/div[7]/div/div[4]/div/div[1]/div/div[1]/div/div[2]/a')\n",
    "image.click()"
   ]
  },
  {
   "cell_type": "code",
   "execution_count": 9,
   "id": "48e25e73",
   "metadata": {},
   "outputs": [],
   "source": [
    "for i in range(20):\n",
    "    driver.execute_script(\"window.scrollBy(0,1000)\")\n",
    "pict=driver.find_elements(By.XPATH,'//img[@class=\"rg_i Q4LuWd\"]')\n",
    "img_urls = []\n",
    "img_data = []\n",
    "for pictt in pict:\n",
    "    source=pictt.get_attribute('src')\n",
    "    if source is not None:\n",
    "        if(source[0:4] == 'http'):\n",
    "            img_urls.append(source)\n",
    "        \n",
    "        \n",
    "        \n",
    "        \n",
    "for p in range(len(img_urls)):\n",
    "    if p > 10:\n",
    "        break\n",
    "        print(\"Downloadind {0} of {1} images\" .format(i,10))\n",
    "        response= requests.get(img_urls[i])\n",
    "        file=open(r\"C:\\Users\\91969\\Pictures\\Camera Roll\"+str(i)+\".jpg\", \"wb\")\n",
    "        file.write(response.content)"
   ]
  },
  {
   "cell_type": "code",
   "execution_count": null,
   "id": "9bc79c6d",
   "metadata": {},
   "outputs": [],
   "source": []
  }
 ],
 "metadata": {
  "kernelspec": {
   "display_name": "Python 3 (ipykernel)",
   "language": "python",
   "name": "python3"
  },
  "language_info": {
   "codemirror_mode": {
    "name": "ipython",
    "version": 3
   },
   "file_extension": ".py",
   "mimetype": "text/x-python",
   "name": "python",
   "nbconvert_exporter": "python",
   "pygments_lexer": "ipython3",
   "version": "3.9.13"
  }
 },
 "nbformat": 4,
 "nbformat_minor": 5
}
